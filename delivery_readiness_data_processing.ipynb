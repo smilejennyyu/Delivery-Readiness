{
 "cells": [
  {
   "cell_type": "code",
   "execution_count": 1,
   "metadata": {},
   "outputs": [],
   "source": [
    "import pickle\n",
    "import numpy as np\n",
    "import matplotlib.pyplot as plt\n",
    "from scipy.signal import peak_prominences, find_peaks\n",
    "import warnings\n",
    "from sklearn.model_selection import KFold\n",
    "import random"
   ]
  },
  {
   "cell_type": "code",
   "execution_count": 2,
   "metadata": {},
   "outputs": [],
   "source": [
    "with open(f'/repos/Delivery-Readiness/data/raw_data_with_missingness/selected_feature_set_d.pkl', 'rb') as handle:\n",
    "    data = pickle.load(handle)"
   ]
  },
  {
   "cell_type": "code",
   "execution_count": 3,
   "metadata": {},
   "outputs": [],
   "source": [
    "features = [x for x in list(data.keys()) if x not in ['user_id', 'missingness']]"
   ]
  },
  {
   "cell_type": "code",
   "execution_count": 4,
   "metadata": {},
   "outputs": [
    {
     "output_type": "execute_result",
     "data": {
      "text/plain": "['duration', 'deep', 'rem', 'hr_average', 'total', 'efficiency']"
     },
     "metadata": {},
     "execution_count": 4
    }
   ],
   "source": [
    "features"
   ]
  },
  {
   "cell_type": "code",
   "execution_count": 5,
   "metadata": {},
   "outputs": [],
   "source": [
    "def peak_prominences_(distances):\n",
    "    with warnings.catch_warnings():\n",
    "        warnings.filterwarnings(\"ignore\")\n",
    "        all_peak_prom = peak_prominences(distances, range(len(distances)))\n",
    "    return all_peak_prom\n",
    "\n",
    "def post_processing(score, threshold):\n",
    "        score_peaks = peak_prominences_(np.array(score))[0]\n",
    "        for j in range(len(score_peaks)):\n",
    "            if peak_prominences_(np.array(score))[0][j] - peak_prominences_(np.array(score))[0][j-1] >threshold :\n",
    "                score_peaks[j] = 1\n",
    "            else:\n",
    "                score_peaks[j] = 0\n",
    "        return score_peaks"
   ]
  },
  {
   "cell_type": "code",
   "execution_count": 56,
   "metadata": {},
   "outputs": [
    {
     "output_type": "stream",
     "name": "stdout",
     "text": "user id 95 isn't ready\n"
    }
   ],
   "source": [
    "before_days = 30\n",
    "after_days = 7\n",
    "x = list(range(-before_days+1, 7+1))\n",
    "for i in range(len(data['user_id'])):\n",
    "    user_id = int(data['user_id'][i])\n",
    "    plt.rcParams[\"figure.figsize\"] = (20,3)\n",
    "    # plot features\n",
    "    for feature in features:\n",
    "        plt.plot(x, np.array(data[feature][i]) / np.nanmax(np.array(data[feature][i])), '-o', label=feature, alpha=0.2)\n",
    "    plt.axvline(x=0, color='mediumpurple', ls='--', label='birth date', linewidth=2.5)\n",
    "    try:\n",
    "        # plot cpd score\n",
    "        with open(f'/repos/TiVaCPD/TiVaCPD/out2/selected_feature_set_d/bump_user_{user_id}/mmd_score_0.pkl', 'rb') as handle:\n",
    "            mmd_score = pickle.load(handle)\n",
    "        with open(f'/repos/TiVaCPD/TiVaCPD/out2/selected_feature_set_d/bump_user_{user_id}/corr_score_0.pkl', 'rb') as handle:\n",
    "            coor_score = pickle.load(handle)\n",
    "        cpd_score = mmd_score + coor_score\n",
    "        plt.plot(x, cpd_score, label='CPD Score', color='grey', linewidth=3.5)\n",
    "        threshold = max(cpd_score) / 4\n",
    "        peak_score = post_processing(cpd_score, threshold)\n",
    "        peaks = np.array(peak_score).nonzero()[0]\n",
    "        # plt.plot(peak_score, label='Peaks', color='grey', linewidth=2.5)\n",
    "        plt.plot(peaks-before_days+1, cpd_score[peaks], \".\", color=\"mediumpurple\", linewidth=3.5, markersize=20)\n",
    "        plt.xticks\n",
    "    except:\n",
    "        print(f\"user id {user_id} isn't ready\")\n",
    "    plt.legend(bbox_to_anchor=(1.1, 1.05))\n",
    "    plt.title(f\"User ID: {user_id}, Missingness: {round((1 - data['missingness'][i]) * 100)} %\")\n",
    "    plt.savefig(f\"/repos/Delivery-Readiness/vis_results/user_id_{user_id}-missingness_{data['missingness'][i] * 100}.png\")\n",
    "    # plt.show()\n",
    "    plt.close()\n",
    "    # break\n",
    "    "
   ]
  },
  {
   "cell_type": "code",
   "execution_count": 49,
   "metadata": {},
   "outputs": [
    {
     "output_type": "stream",
     "name": "stdout",
     "text": "(37, 6)\n"
    }
   ],
   "source": [
    "with open(f'/repos/Delivery-Readiness/data/selected_feature_set_d/bump_user_42/user_original_0.pkl', 'rb') as handle:\n",
    "    test = pickle.load(handle)\n",
    "    print(test.shape)"
   ]
  },
  {
   "cell_type": "code",
   "execution_count": 9,
   "metadata": {},
   "outputs": [
    {
     "output_type": "stream",
     "name": "stdout",
     "text": "dict_keys(['X', 'y', 'uid', 'start_date', 'feature_name'])\n(13, 7, 3)\n"
    }
   ],
   "source": [
    "with open(f'/repos/Delivery-Readiness/data/daily_new_split_non_schedule/largest_window/test_0.pickle', 'rb') as handle:\n",
    "    test = pickle.load(handle)\n",
    "    print(test.keys())\n",
    "    print(test['X'].shape)"
   ]
  },
  {
   "cell_type": "code",
   "execution_count": 6,
   "metadata": {},
   "outputs": [
    {
     "output_type": "execute_result",
     "data": {
      "text/plain": "42"
     },
     "metadata": {},
     "execution_count": 6
    }
   ],
   "source": [
    "len(data['user_id'])"
   ]
  },
  {
   "cell_type": "code",
   "execution_count": 15,
   "metadata": {},
   "outputs": [
    {
     "output_type": "stream",
     "name": "stdout",
     "text": "user id 95 isn't ready\nuser id 159 isn't ready!!!\nuser id 190 isn't ready!!!\nuser id 1723 isn't ready!!!\nuser id 1387 isn't ready!!!\nuser id 95 isn't ready\nuser id 159 isn't ready!!!\nuser id 190 isn't ready!!!\nuser id 1723 isn't ready!!!\nuser id 1387 isn't ready!!!\nuser id 95 isn't ready\nuser id 159 isn't ready!!!\nuser id 190 isn't ready!!!\nuser id 1723 isn't ready!!!\nuser id 1387 isn't ready!!!\nuser id 95 isn't ready\nuser id 159 isn't ready!!!\nuser id 190 isn't ready!!!\nuser id 1723 isn't ready!!!\nuser id 1387 isn't ready!!!\nuser id 95 isn't ready\nuser id 159 isn't ready!!!\nuser id 1387 isn't ready!!!\nuser id 190 isn't ready!!!\nuser id 1723 isn't ready!!!\nuser id 95 isn't ready\nuser id 159 isn't ready!!!\nuser id 190 isn't ready!!!\nuser id 1723 isn't ready!!!\nuser id 1387 isn't ready!!!\nuser id 95 isn't ready\nuser id 159 isn't ready!!!\nuser id 190 isn't ready!!!\nuser id 1723 isn't ready!!!\nuser id 1387 isn't ready!!!\nuser id 95 isn't ready\nuser id 159 isn't ready!!!\nuser id 190 isn't ready!!!\nuser id 1723 isn't ready!!!\nuser id 1387 isn't ready!!!\nuser id 95 isn't ready\nuser id 190 isn't ready!!!\nuser id 1723 isn't ready!!!\nuser id 159 isn't ready!!!\nuser id 1387 isn't ready!!!\nuser id 159 isn't ready!!!\nuser id 190 isn't ready!!!\nuser id 1723 isn't ready!!!\nuser id 1387 isn't ready!!!\nuser id 95 isn't ready\n"
    }
   ],
   "source": [
    "before_days = 30\n",
    "after_days = 7\n",
    "count = 0\n",
    "missingness_correct = []\n",
    "missingness_incorrect = []\n",
    "all_users = list(set(data['user_id']))\n",
    "kf_both = KFold(n_splits=10, random_state=0, shuffle=True)\n",
    "for fold_i, (train_index, test_index) in enumerate(kf_both.split(all_users)):\n",
    "    train_ids = list(np.array(all_users)[train_index]) # user ids of training \n",
    "    test_ids = list(np.array(all_users)[test_index]) # user ids of testing\n",
    "    # print(train_ids)\n",
    "    # print(test_ids)\n",
    "\n",
    "    train_readliness_data = {'X': [], 'y': [], 'uid': [], 'readiness_date': [], 'feature_name': features}\n",
    "    for i in train_index:\n",
    "        user_id = int(data['user_id'][i])\n",
    "        missingness = data['missingness'][i]\n",
    "        each_data = np.zeros((before_days + after_days, len(features)))\n",
    "        for j, feature in enumerate(features):\n",
    "            each_data[:,j] = np.array(data[feature][i])\n",
    "        try:\n",
    "            # plot cpd score\n",
    "            with open(f'/repos/TiVaCPD/TiVaCPD/out2/selected_feature_set_d/bump_user_{user_id}/mmd_score_0.pkl', 'rb') as handle:\n",
    "                mmd_score = pickle.load(handle)\n",
    "            with open(f'/repos/TiVaCPD/TiVaCPD/out2/selected_feature_set_d/bump_user_{user_id}/corr_score_0.pkl', 'rb') as handle:\n",
    "                coor_score = pickle.load(handle)\n",
    "            cpd_score = mmd_score + coor_score\n",
    "            threshold = max(cpd_score) / 4\n",
    "            peak_score = post_processing(cpd_score, threshold)\n",
    "            peaks, _ = find_peaks(peak_score)\n",
    "            if before_days in peaks or before_days - 1 in peaks or before_days - 2 in peaks:\n",
    "                count += 1\n",
    "                missingness_correct.append(missingness)\n",
    "            else:\n",
    "                missingness_incorrect.append(missingness)\n",
    "            filtered_peaks = [x for x in peaks if x < before_days - 2]\n",
    "\n",
    "            selected_peak = -1\n",
    "            readiness_peak = filtered_peaks[selected_peak]\n",
    "            while np.isnan(each_data[readiness_peak-3:readiness_peak+4,:]).any():\n",
    "                selected_peak -= 1\n",
    "                readiness_peak = filtered_peaks[selected_peak]\n",
    "            if readiness_peak > before_days - 14 - 1:\n",
    "            # readiness_peak = random.randint(3, before_days-1-3)\n",
    "            # while np.isnan(each_data[readiness_peak-3:readiness_peak+4,:]).any():\n",
    "            #     readiness_peak = random.randint(3, before_days-1-3)\n",
    "                non_readiness_window = each_data[readiness_peak-3:readiness_peak,:].T\n",
    "                readiness_window = each_data[readiness_peak+1:readiness_peak+4,:].T\n",
    "                train_readliness_data['X'].append(readiness_window)\n",
    "                train_readliness_data['y'].append(1)\n",
    "                train_readliness_data['uid'].append(user_id)\n",
    "                train_readliness_data['readiness_date'].append(readiness_peak - before_days + 1)\n",
    "                train_readliness_data['X'].append(non_readiness_window)\n",
    "                train_readliness_data['y'].append(0)\n",
    "                train_readliness_data['uid'].append(user_id)\n",
    "                train_readliness_data['readiness_date'].append(readiness_peak - before_days + 1)\n",
    "            else:\n",
    "                print(f\"user id {user_id} isn't ready!!!\")\n",
    "        except:\n",
    "            print(f\"user id {user_id} isn't ready\")\n",
    "    train_readliness_data['X'] = np.stack(train_readliness_data['X'])\n",
    "    with open(f'/repos/Delivery-Readiness/data/daily_selected_feature_set_d_readiness/train_{fold_i}.pickle', 'wb') as handle:\n",
    "        pickle.dump(train_readliness_data, handle)\n",
    "\n",
    "    test_readliness_data = {'X': [], 'y': [], 'uid': [], 'readiness_date': [], 'feature_name': features}\n",
    "    for i in test_index:\n",
    "        user_id = int(data['user_id'][i])\n",
    "        missingness = data['missingness'][i]\n",
    "        each_data = np.zeros((before_days + after_days, len(features)))\n",
    "        for j, feature in enumerate(features):\n",
    "            each_data[:,j] = np.array(data[feature][i])\n",
    "        try:\n",
    "            # plot cpd score\n",
    "            with open(f'/repos/TiVaCPD/TiVaCPD/out2/selected_feature_set_d/bump_user_{user_id}/mmd_score_0.pkl', 'rb') as handle:\n",
    "                mmd_score = pickle.load(handle)\n",
    "            with open(f'/repos/TiVaCPD/TiVaCPD/out2/selected_feature_set_d/bump_user_{user_id}/corr_score_0.pkl', 'rb') as handle:\n",
    "                coor_score = pickle.load(handle)\n",
    "            cpd_score = mmd_score + coor_score\n",
    "            threshold = max(cpd_score) / 4\n",
    "            peak_score = post_processing(cpd_score, threshold)\n",
    "            peaks, _ = find_peaks(peak_score)\n",
    "            if before_days in peaks or before_days - 1 in peaks or before_days - 2 in peaks:\n",
    "                count += 1\n",
    "                missingness_correct.append(missingness)\n",
    "            else:\n",
    "                missingness_incorrect.append(missingness)\n",
    "            filtered_peaks = [x for x in peaks if x < before_days - 2]\n",
    "\n",
    "            selected_peak = -1\n",
    "            readiness_peak = filtered_peaks[selected_peak]\n",
    "            while np.isnan(each_data[readiness_peak-3:readiness_peak+4,:]).any():\n",
    "                selected_peak -= 1\n",
    "                readiness_peak = filtered_peaks[selected_peak]\n",
    "            if readiness_peak > before_days - 14 - 1:\n",
    "                # readiness_peak = random.randint(3, before_days-1-3)\n",
    "                # while np.isnan(each_data[readiness_peak-3:readiness_peak+4,:]).any():\n",
    "                #     readiness_peak = random.randint(3, before_days-1-3)\n",
    "                non_readiness_window = each_data[readiness_peak-3:readiness_peak, :].T\n",
    "                readiness_window = each_data[readiness_peak+1:readiness_peak+4,:].T\n",
    "                test_readliness_data['X'].append(readiness_window)\n",
    "                test_readliness_data['y'].append(1)\n",
    "                test_readliness_data['uid'].append(user_id)\n",
    "                test_readliness_data['readiness_date'].append(readiness_peak - before_days + 1)\n",
    "                test_readliness_data['X'].append(non_readiness_window)\n",
    "                test_readliness_data['y'].append(0)\n",
    "                test_readliness_data['uid'].append(user_id)\n",
    "                test_readliness_data['readiness_date'].append(readiness_peak - before_days + 1)\n",
    "            else:\n",
    "                print(f\"user id {user_id} isn't ready!!!\")\n",
    "        except:\n",
    "            print(f\"user id {user_id} isn't ready\")\n",
    "    test_readliness_data['X'] = np.stack(test_readliness_data['X'])\n",
    "    with open(f'/repos/Delivery-Readiness/data/daily_selected_feature_set_d_readiness/test_{fold_i}.pickle', 'wb') as handle:\n",
    "        pickle.dump(test_readliness_data, handle)\n"
   ]
  },
  {
   "cell_type": "code",
   "execution_count": 11,
   "metadata": {},
   "outputs": [
    {
     "output_type": "error",
     "ename": "NameError",
     "evalue": "name 'filtered_peaks' is not defined",
     "traceback": [
      "\u001b[0;31m---------------------------------------------------------------------------\u001b[0m",
      "\u001b[0;31mNameError\u001b[0m                                 Traceback (most recent call last)",
      "\u001b[0;32m<ipython-input-11-7e447b61a7a0>\u001b[0m in \u001b[0;36m<module>\u001b[0;34m\u001b[0m\n\u001b[0;32m----> 1\u001b[0;31m \u001b[0mfiltered_peaks\u001b[0m\u001b[0;34m\u001b[0m\u001b[0;34m\u001b[0m\u001b[0m\n\u001b[0m",
      "\u001b[0;31mNameError\u001b[0m: name 'filtered_peaks' is not defined"
     ]
    }
   ],
   "source": [
    "filtered_peaks"
   ]
  },
  {
   "cell_type": "code",
   "execution_count": 32,
   "metadata": {},
   "outputs": [
    {
     "output_type": "execute_result",
     "data": {
      "text/plain": "16"
     },
     "metadata": {},
     "execution_count": 32
    }
   ],
   "source": [
    "count"
   ]
  },
  {
   "cell_type": "code",
   "execution_count": 35,
   "metadata": {},
   "outputs": [
    {
     "output_type": "execute_result",
     "data": {
      "text/plain": "[0.89,\n 0.81,\n 0.86,\n 0.89,\n 0.97,\n 0.86,\n 0.81,\n 0.95,\n 0.86,\n 0.84,\n 0.95,\n 0.92,\n 0.97,\n 0.95,\n 0.81,\n 0.86,\n 0.81,\n 0.84,\n 0.81,\n 0.92,\n 0.84,\n 0.89,\n 0.92,\n 0.92,\n 0.92]"
     },
     "metadata": {},
     "execution_count": 35
    }
   ],
   "source": [
    "missingness_incorrect"
   ]
  },
  {
   "cell_type": "code",
   "execution_count": 34,
   "metadata": {},
   "outputs": [
    {
     "output_type": "stream",
     "name": "stdout",
     "text": "0.90125\n0.8828\n"
    }
   ],
   "source": [
    "print(np.array(missingness_correct).mean())\n",
    "print(np.array(missingness_incorrect).mean())"
   ]
  },
  {
   "cell_type": "code",
   "execution_count": 14,
   "metadata": {},
   "outputs": [
    {
     "output_type": "display_data",
     "data": {
      "text/plain": "<Figure size 1440x216 with 1 Axes>",
      "image/svg+xml": "<?xml version=\"1.0\" encoding=\"utf-8\" standalone=\"no\"?>\n<!DOCTYPE svg PUBLIC \"-//W3C//DTD SVG 1.1//EN\"\n  \"http://www.w3.org/Graphics/SVG/1.1/DTD/svg11.dtd\">\n<!-- Created with matplotlib (http://matplotlib.org/) -->\n<svg height=\"197.658125pt\" version=\"1.1\" viewBox=\"0 0 1171.545312 197.658125\" width=\"1171.545312pt\" xmlns=\"http://www.w3.org/2000/svg\" xmlns:xlink=\"http://www.w3.org/1999/xlink\">\n <defs>\n  <style type=\"text/css\">\n*{stroke-linecap:butt;stroke-linejoin:round;}\n  </style>\n </defs>\n <g id=\"figure_1\">\n  <g id=\"patch_1\">\n   <path d=\"M 0 197.658125 \nL 1171.545312 197.658125 \nL 1171.545312 0 \nL 0 0 \nz\n\" style=\"fill:none;\"/>\n  </g>\n  <g id=\"axes_1\">\n   <g id=\"patch_2\">\n    <path d=\"M 44.845313 173.78 \nL 1160.845313 173.78 \nL 1160.845313 10.7 \nL 44.845313 10.7 \nz\n\" style=\"fill:#ffffff;\"/>\n   </g>\n   <g id=\"matplotlib.axis_1\">\n    <g id=\"xtick_1\">\n     <g id=\"line2d_1\">\n      <defs>\n       <path d=\"M 0 0 \nL 0 3.5 \n\" id=\"m55af51d9ca\" style=\"stroke:#000000;stroke-width:0.8;\"/>\n      </defs>\n      <g>\n       <use style=\"stroke:#000000;stroke-width:0.8;\" x=\"197.027131\" xlink:href=\"#m55af51d9ca\" y=\"173.78\"/>\n      </g>\n     </g>\n     <g id=\"text_1\">\n      <!-- −0.04 -->\n      <defs>\n       <path d=\"M 10.59375 35.5 \nL 73.1875 35.5 \nL 73.1875 27.203125 \nL 10.59375 27.203125 \nz\n\" id=\"DejaVuSans-2212\"/>\n       <path d=\"M 31.78125 66.40625 \nQ 24.171875 66.40625 20.328125 58.90625 \nQ 16.5 51.421875 16.5 36.375 \nQ 16.5 21.390625 20.328125 13.890625 \nQ 24.171875 6.390625 31.78125 6.390625 \nQ 39.453125 6.390625 43.28125 13.890625 \nQ 47.125 21.390625 47.125 36.375 \nQ 47.125 51.421875 43.28125 58.90625 \nQ 39.453125 66.40625 31.78125 66.40625 \nz\nM 31.78125 74.21875 \nQ 44.046875 74.21875 50.515625 64.515625 \nQ 56.984375 54.828125 56.984375 36.375 \nQ 56.984375 17.96875 50.515625 8.265625 \nQ 44.046875 -1.421875 31.78125 -1.421875 \nQ 19.53125 -1.421875 13.0625 8.265625 \nQ 6.59375 17.96875 6.59375 36.375 \nQ 6.59375 54.828125 13.0625 64.515625 \nQ 19.53125 74.21875 31.78125 74.21875 \nz\n\" id=\"DejaVuSans-30\"/>\n       <path d=\"M 10.6875 12.40625 \nL 21 12.40625 \nL 21 0 \nL 10.6875 0 \nz\n\" id=\"DejaVuSans-2e\"/>\n       <path d=\"M 37.796875 64.3125 \nL 12.890625 25.390625 \nL 37.796875 25.390625 \nz\nM 35.203125 72.90625 \nL 47.609375 72.90625 \nL 47.609375 25.390625 \nL 58.015625 25.390625 \nL 58.015625 17.1875 \nL 47.609375 17.1875 \nL 47.609375 0 \nL 37.796875 0 \nL 37.796875 17.1875 \nL 4.890625 17.1875 \nL 4.890625 26.703125 \nz\n\" id=\"DejaVuSans-34\"/>\n      </defs>\n      <g transform=\"translate(181.704474 188.378438)scale(0.1 -0.1)\">\n       <use xlink:href=\"#DejaVuSans-2212\"/>\n       <use x=\"83.789062\" xlink:href=\"#DejaVuSans-30\"/>\n       <use x=\"147.412109\" xlink:href=\"#DejaVuSans-2e\"/>\n       <use x=\"179.199219\" xlink:href=\"#DejaVuSans-30\"/>\n       <use x=\"242.822266\" xlink:href=\"#DejaVuSans-34\"/>\n      </g>\n     </g>\n    </g>\n    <g id=\"xtick_2\">\n     <g id=\"line2d_2\">\n      <g>\n       <use style=\"stroke:#000000;stroke-width:0.8;\" x=\"399.936222\" xlink:href=\"#m55af51d9ca\" y=\"173.78\"/>\n      </g>\n     </g>\n     <g id=\"text_2\">\n      <!-- −0.02 -->\n      <defs>\n       <path d=\"M 19.1875 8.296875 \nL 53.609375 8.296875 \nL 53.609375 0 \nL 7.328125 0 \nL 7.328125 8.296875 \nQ 12.9375 14.109375 22.625 23.890625 \nQ 32.328125 33.6875 34.8125 36.53125 \nQ 39.546875 41.84375 41.421875 45.53125 \nQ 43.3125 49.21875 43.3125 52.78125 \nQ 43.3125 58.59375 39.234375 62.25 \nQ 35.15625 65.921875 28.609375 65.921875 \nQ 23.96875 65.921875 18.8125 64.3125 \nQ 13.671875 62.703125 7.8125 59.421875 \nL 7.8125 69.390625 \nQ 13.765625 71.78125 18.9375 73 \nQ 24.125 74.21875 28.421875 74.21875 \nQ 39.75 74.21875 46.484375 68.546875 \nQ 53.21875 62.890625 53.21875 53.421875 \nQ 53.21875 48.921875 51.53125 44.890625 \nQ 49.859375 40.875 45.40625 35.40625 \nQ 44.1875 33.984375 37.640625 27.21875 \nQ 31.109375 20.453125 19.1875 8.296875 \nz\n\" id=\"DejaVuSans-32\"/>\n      </defs>\n      <g transform=\"translate(384.613565 188.378438)scale(0.1 -0.1)\">\n       <use xlink:href=\"#DejaVuSans-2212\"/>\n       <use x=\"83.789062\" xlink:href=\"#DejaVuSans-30\"/>\n       <use x=\"147.412109\" xlink:href=\"#DejaVuSans-2e\"/>\n       <use x=\"179.199219\" xlink:href=\"#DejaVuSans-30\"/>\n       <use x=\"242.822266\" xlink:href=\"#DejaVuSans-32\"/>\n      </g>\n     </g>\n    </g>\n    <g id=\"xtick_3\">\n     <g id=\"line2d_3\">\n      <g>\n       <use style=\"stroke:#000000;stroke-width:0.8;\" x=\"602.845312\" xlink:href=\"#m55af51d9ca\" y=\"173.78\"/>\n      </g>\n     </g>\n     <g id=\"text_3\">\n      <!-- 0.00 -->\n      <g transform=\"translate(591.7125 188.378438)scale(0.1 -0.1)\">\n       <use xlink:href=\"#DejaVuSans-30\"/>\n       <use x=\"63.623047\" xlink:href=\"#DejaVuSans-2e\"/>\n       <use x=\"95.410156\" xlink:href=\"#DejaVuSans-30\"/>\n       <use x=\"159.033203\" xlink:href=\"#DejaVuSans-30\"/>\n      </g>\n     </g>\n    </g>\n    <g id=\"xtick_4\">\n     <g id=\"line2d_4\">\n      <g>\n       <use style=\"stroke:#000000;stroke-width:0.8;\" x=\"805.754403\" xlink:href=\"#m55af51d9ca\" y=\"173.78\"/>\n      </g>\n     </g>\n     <g id=\"text_4\">\n      <!-- 0.02 -->\n      <g transform=\"translate(794.621591 188.378438)scale(0.1 -0.1)\">\n       <use xlink:href=\"#DejaVuSans-30\"/>\n       <use x=\"63.623047\" xlink:href=\"#DejaVuSans-2e\"/>\n       <use x=\"95.410156\" xlink:href=\"#DejaVuSans-30\"/>\n       <use x=\"159.033203\" xlink:href=\"#DejaVuSans-32\"/>\n      </g>\n     </g>\n    </g>\n    <g id=\"xtick_5\">\n     <g id=\"line2d_5\">\n      <g>\n       <use style=\"stroke:#000000;stroke-width:0.8;\" x=\"1008.663494\" xlink:href=\"#m55af51d9ca\" y=\"173.78\"/>\n      </g>\n     </g>\n     <g id=\"text_5\">\n      <!-- 0.04 -->\n      <g transform=\"translate(997.530682 188.378438)scale(0.1 -0.1)\">\n       <use xlink:href=\"#DejaVuSans-30\"/>\n       <use x=\"63.623047\" xlink:href=\"#DejaVuSans-2e\"/>\n       <use x=\"95.410156\" xlink:href=\"#DejaVuSans-30\"/>\n       <use x=\"159.033203\" xlink:href=\"#DejaVuSans-34\"/>\n      </g>\n     </g>\n    </g>\n   </g>\n   <g id=\"matplotlib.axis_2\">\n    <g id=\"ytick_1\">\n     <g id=\"line2d_6\">\n      <defs>\n       <path d=\"M 0 0 \nL -3.5 0 \n\" id=\"m06fcd0ab04\" style=\"stroke:#000000;stroke-width:0.8;\"/>\n      </defs>\n      <g>\n       <use style=\"stroke:#000000;stroke-width:0.8;\" x=\"44.845313\" xlink:href=\"#m06fcd0ab04\" y=\"151.541818\"/>\n      </g>\n     </g>\n     <g id=\"text_6\">\n      <!-- −0.04 -->\n      <g transform=\"translate(7.2 155.341037)scale(0.1 -0.1)\">\n       <use xlink:href=\"#DejaVuSans-2212\"/>\n       <use x=\"83.789062\" xlink:href=\"#DejaVuSans-30\"/>\n       <use x=\"147.412109\" xlink:href=\"#DejaVuSans-2e\"/>\n       <use x=\"179.199219\" xlink:href=\"#DejaVuSans-30\"/>\n       <use x=\"242.822266\" xlink:href=\"#DejaVuSans-34\"/>\n      </g>\n     </g>\n    </g>\n    <g id=\"ytick_2\">\n     <g id=\"line2d_7\">\n      <g>\n       <use style=\"stroke:#000000;stroke-width:0.8;\" x=\"44.845313\" xlink:href=\"#m06fcd0ab04\" y=\"121.890909\"/>\n      </g>\n     </g>\n     <g id=\"text_7\">\n      <!-- −0.02 -->\n      <g transform=\"translate(7.2 125.690128)scale(0.1 -0.1)\">\n       <use xlink:href=\"#DejaVuSans-2212\"/>\n       <use x=\"83.789062\" xlink:href=\"#DejaVuSans-30\"/>\n       <use x=\"147.412109\" xlink:href=\"#DejaVuSans-2e\"/>\n       <use x=\"179.199219\" xlink:href=\"#DejaVuSans-30\"/>\n       <use x=\"242.822266\" xlink:href=\"#DejaVuSans-32\"/>\n      </g>\n     </g>\n    </g>\n    <g id=\"ytick_3\">\n     <g id=\"line2d_8\">\n      <g>\n       <use style=\"stroke:#000000;stroke-width:0.8;\" x=\"44.845313\" xlink:href=\"#m06fcd0ab04\" y=\"92.24\"/>\n      </g>\n     </g>\n     <g id=\"text_8\">\n      <!-- 0.00 -->\n      <g transform=\"translate(15.579688 96.039219)scale(0.1 -0.1)\">\n       <use xlink:href=\"#DejaVuSans-30\"/>\n       <use x=\"63.623047\" xlink:href=\"#DejaVuSans-2e\"/>\n       <use x=\"95.410156\" xlink:href=\"#DejaVuSans-30\"/>\n       <use x=\"159.033203\" xlink:href=\"#DejaVuSans-30\"/>\n      </g>\n     </g>\n    </g>\n    <g id=\"ytick_4\">\n     <g id=\"line2d_9\">\n      <g>\n       <use style=\"stroke:#000000;stroke-width:0.8;\" x=\"44.845313\" xlink:href=\"#m06fcd0ab04\" y=\"62.589091\"/>\n      </g>\n     </g>\n     <g id=\"text_9\">\n      <!-- 0.02 -->\n      <g transform=\"translate(15.579688 66.38831)scale(0.1 -0.1)\">\n       <use xlink:href=\"#DejaVuSans-30\"/>\n       <use x=\"63.623047\" xlink:href=\"#DejaVuSans-2e\"/>\n       <use x=\"95.410156\" xlink:href=\"#DejaVuSans-30\"/>\n       <use x=\"159.033203\" xlink:href=\"#DejaVuSans-32\"/>\n      </g>\n     </g>\n    </g>\n    <g id=\"ytick_5\">\n     <g id=\"line2d_10\">\n      <g>\n       <use style=\"stroke:#000000;stroke-width:0.8;\" x=\"44.845313\" xlink:href=\"#m06fcd0ab04\" y=\"32.938182\"/>\n      </g>\n     </g>\n     <g id=\"text_10\">\n      <!-- 0.04 -->\n      <g transform=\"translate(15.579688 36.737401)scale(0.1 -0.1)\">\n       <use xlink:href=\"#DejaVuSans-30\"/>\n       <use x=\"63.623047\" xlink:href=\"#DejaVuSans-2e\"/>\n       <use x=\"95.410156\" xlink:href=\"#DejaVuSans-30\"/>\n       <use x=\"159.033203\" xlink:href=\"#DejaVuSans-34\"/>\n      </g>\n     </g>\n    </g>\n   </g>\n   <g id=\"line2d_11\">\n    <path clip-path=\"url(#pe6b4a8a9ea)\" d=\"M 0 0 \n\" style=\"fill:none;stroke:#1f77b4;stroke-linecap:square;stroke-width:1.5;\"/>\n   </g>\n   <g id=\"line2d_12\">\n    <path clip-path=\"url(#pe6b4a8a9ea)\" d=\"M 0 0 \n\" style=\"fill:none;stroke:#ff7f0e;stroke-linecap:square;stroke-width:1.5;\"/>\n   </g>\n   <g id=\"line2d_13\">\n    <path clip-path=\"url(#pe6b4a8a9ea)\" d=\"M 0 0 \n\" style=\"fill:none;stroke:#2ca02c;stroke-linecap:square;stroke-width:1.5;\"/>\n   </g>\n   <g id=\"line2d_14\">\n    <path clip-path=\"url(#pe6b4a8a9ea)\" d=\"M 0 0 \n\" style=\"fill:none;stroke:#d62728;stroke-linecap:square;stroke-width:1.5;\"/>\n   </g>\n   <g id=\"line2d_15\">\n    <path clip-path=\"url(#pe6b4a8a9ea)\" d=\"M 0 0 \n\" style=\"fill:none;stroke:#9467bd;stroke-linecap:square;stroke-width:1.5;\"/>\n   </g>\n   <g id=\"line2d_16\">\n    <path clip-path=\"url(#pe6b4a8a9ea)\" d=\"M 0 0 \n\" style=\"fill:none;stroke:#8c564b;stroke-linecap:square;stroke-width:1.5;\"/>\n   </g>\n   <g id=\"patch_3\">\n    <path d=\"M 44.845313 173.78 \nL 44.845313 10.7 \n\" style=\"fill:none;stroke:#000000;stroke-linecap:square;stroke-linejoin:miter;stroke-width:0.8;\"/>\n   </g>\n   <g id=\"patch_4\">\n    <path d=\"M 1160.845313 173.78 \nL 1160.845313 10.7 \n\" style=\"fill:none;stroke:#000000;stroke-linecap:square;stroke-linejoin:miter;stroke-width:0.8;\"/>\n   </g>\n   <g id=\"patch_5\">\n    <path d=\"M 44.845312 173.78 \nL 1160.845313 173.78 \n\" style=\"fill:none;stroke:#000000;stroke-linecap:square;stroke-linejoin:miter;stroke-width:0.8;\"/>\n   </g>\n   <g id=\"patch_6\">\n    <path d=\"M 44.845312 10.7 \nL 1160.845313 10.7 \n\" style=\"fill:none;stroke:#000000;stroke-linecap:square;stroke-linejoin:miter;stroke-width:0.8;\"/>\n   </g>\n  </g>\n </g>\n <defs>\n  <clipPath id=\"pe6b4a8a9ea\">\n   <rect height=\"163.08\" width=\"1116\" x=\"44.845313\" y=\"10.7\"/>\n  </clipPath>\n </defs>\n</svg>\n",
      "image/png": "[encoded data removed]"
     },
     "metadata": {
      "needs_background": "light"
     }
    }
   ],
   "source": [
    "for feature in features:\n",
    "    plt.plot(np.array(data[feature][3]) / max(data[feature][3]), label=feature)\n",
    "plt.show()"
   ]
  },
  {
   "cell_type": "code",
   "execution_count": 8,
   "metadata": {},
   "outputs": [
    {
     "output_type": "execute_result",
     "data": {
      "text/plain": "[nan,\n nan,\n nan,\n 29760.0,\n 31980.0,\n 31860.0,\n 34320.0,\n 33480.0,\n 32940.0,\n 23280.0,\n 29040.0,\n 33540.0,\n 32220.0,\n 37740.0,\n 37980.0,\n 33780.0,\n 35040.0,\n 32040.0,\n 32640.0,\n 27480.0,\n 38820.0,\n 34800.0,\n 34680.0,\n 35880.0,\n 38160.0,\n 35520.0,\n 35160.0,\n 34320.0,\n 29700.0,\n nan,\n nan,\n nan,\n 30420.0,\n 23220.0,\n 33180.0,\n 27300.0,\n 30840.0]"
     },
     "metadata": {},
     "execution_count": 8
    }
   ],
   "source": [
    "data['duration'][3]"
   ]
  },
  {
   "cell_type": "code",
   "execution_count": null,
   "metadata": {},
   "outputs": [],
   "source": []
  },
  {
   "cell_type": "code",
   "execution_count": null,
   "metadata": {},
   "outputs": [],
   "source": []
  }
 ],
 "metadata": {
  "language_info": {
   "codemirror_mode": {
    "name": "ipython",
    "version": 3
   },
   "file_extension": ".py",
   "mimetype": "text/x-python",
   "name": "python",
   "nbconvert_exporter": "python",
   "pygments_lexer": "ipython3",
   "version": "3.6.10-final"
  },
  "orig_nbformat": 2,
  "kernelspec": {
   "name": "python361064bitbaseconda7f02eddb7e184630a80cd8030b70651c",
   "display_name": "Python 3.6.10 64-bit ('base': conda)"
  }
 },
 "nbformat": 4,
 "nbformat_minor": 2
}