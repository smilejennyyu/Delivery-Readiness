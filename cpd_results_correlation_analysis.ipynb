{
 "cells": [
  {
   "cell_type": "code",
   "execution_count": 225,
   "metadata": {},
   "outputs": [],
   "source": [
    "import pickle\n",
    "import numpy as np\n",
    "import matplotlib.pyplot as plt\n",
    "from scipy.signal import peak_prominences, find_peaks\n",
    "import warnings\n",
    "from sklearn.model_selection import KFold\n",
    "import random\n",
    "import os\n",
    "from src.utils import data_load\n",
    "import datetime\n",
    "import pandas as pd\n",
    "import scipy.stats as stats\n",
    "from fastdtw import fastdtw\n",
    "from scipy.signal import find_peaks, savgol_filter\n",
    "import copy\n"
   ]
  },
  {
   "cell_type": "code",
   "execution_count": 270,
   "metadata": {},
   "outputs": [],
   "source": [
    "oura_sleep_list = ['rmssd', 'awake', 'midpoint_at_delta', 'onset_latency', 'hr_lowest', 'light', 'rem']\n",
    "oura_activity_list = ['average_met', 'rest', 'non_wear']\n",
    "oura_readiness_list = ['score_temperature']\n",
    "features = oura_sleep_list + oura_activity_list + oura_readiness_list\n",
    "results_folder = '/repos/Delivery-Readiness/TiVaCPD/TiVaCPD/out2/bump_correlation_features_zscore_normalized_scheduled_missingness5/'"
   ]
  },
  {
   "cell_type": "code",
   "execution_count": 271,
   "metadata": {},
   "outputs": [],
   "source": [
    "subjective_data = {'birth', 'quick_activities', 'surveys', }\n",
    "survey_data = data_load(data_keys=subjective_data, wave=8)"
   ]
  },
  {
   "cell_type": "code",
   "execution_count": 272,
   "metadata": {},
   "outputs": [
    {
     "output_type": "execute_result",
     "data": {
      "text/plain": "array(['Global survey', 'Daily survey', 'Engagement survey',\n       'Pilot survey', 'Baseline survey', 'COVID-19 Baseline survey',\n       'Maternal Social Support Index', 'Healthcare Utilization survey',\n       'PUQE', 'Pain Interference survey',\n       'Sleep Related Impairment survey', 'Emotional Support survey',\n       'COVID Infection survey', 'Fatigue survey', 'Personality survey',\n       'Severe Symptom and Complication survey', 'Perinatal PTSD'],\n      dtype=object)"
     },
     "metadata": {},
     "execution_count": 272
    }
   ],
   "source": [
    "survey_data['surveys'].title.unique()"
   ]
  },
  {
   "cell_type": "code",
   "execution_count": 273,
   "metadata": {},
   "outputs": [
    {
     "output_type": "execute_result",
     "data": {
      "text/plain": "array(['Cognition Quick Activity', 'Stress Quick Activity',\n       'Energy Quick Activity', 'Mood Quick Activity',\n       'Anxiety Quick Activity'], dtype=object)"
     },
     "metadata": {},
     "execution_count": 273
    }
   ],
   "source": [
    "survey_data['quick_activities'].stream.unique()"
   ]
  },
  {
   "cell_type": "code",
   "execution_count": 274,
   "metadata": {},
   "outputs": [],
   "source": [
    "daily_survey = survey_data['surveys'][survey_data['surveys']['title'] == 'Daily survey']\n",
    "birth_df = survey_data['birth']\n"
   ]
  },
  {
   "cell_type": "code",
   "execution_count": 275,
   "metadata": {},
   "outputs": [
    {
     "output_type": "execute_result",
     "data": {
      "text/plain": "         id  user_id  survey_id         title           event_date  \\\n1   2331077     2504          6  Daily survey  2022-10-20 00:00:00   \n3   2298517     2504          6  Daily survey  2022-10-15 00:00:00   \n4   2632030     2504          6  Daily survey  2022-12-14 00:00:00   \n7   2167910     2528          6  Daily survey  2022-09-26 00:00:00   \n11  2173900     2528          6  Daily survey  2022-09-27 00:00:00   \n\n                   from                   to                  created_at  \\\n1   2022-10-20 01:00:00  2022-10-20 23:00:00  2022-10-20 00:27:43.729658   \n3   2022-10-15 01:00:00  2022-10-15 23:00:00  2022-10-15 00:20:56.935588   \n4   2022-12-14 01:00:00  2022-12-14 23:00:00  2022-12-13 23:25:51.807284   \n7   2022-09-26 01:00:00  2022-09-26 23:00:00  2022-09-26 00:22:24.480772   \n11  2022-09-27 01:00:00  2022-09-27 23:00:00  2022-09-27 00:20:16.976543   \n\n                    updated_at  question_id  \\\n1   2022-10-20 20:20:33.872122           85   \n3   2022-10-15 18:40:34.608998           85   \n4   2022-12-14 20:00:19.053001           85   \n7   2022-09-26 12:31:37.595408           85   \n11  2022-09-27 09:22:17.605743           85   \n\n                        question_text answer_text   record_id        date  \n1   Right now do you feel in control?           0  direct_294  2022-10-20  \n3   Right now do you feel in control?           0  direct_294  2022-10-15  \n4   Right now do you feel in control?           0  direct_294  2022-12-14  \n7   Right now do you feel in control?           0  direct_215  2022-09-26  \n11  Right now do you feel in control?           0  direct_215  2022-09-27  ",
      "text/html": "<div>\n<style scoped>\n    .dataframe tbody tr th:only-of-type {\n        vertical-align: middle;\n    }\n\n    .dataframe tbody tr th {\n        vertical-align: top;\n    }\n\n    .dataframe thead th {\n        text-align: right;\n    }\n</style>\n<table border=\"1\" class=\"dataframe\">\n  <thead>\n    <tr style=\"text-align: right;\">\n      <th></th>\n      <th>id</th>\n      <th>user_id</th>\n      <th>survey_id</th>\n      <th>title</th>\n      <th>event_date</th>\n      <th>from</th>\n      <th>to</th>\n      <th>created_at</th>\n      <th>updated_at</th>\n      <th>question_id</th>\n      <th>question_text</th>\n      <th>answer_text</th>\n      <th>record_id</th>\n      <th>date</th>\n    </tr>\n  </thead>\n  <tbody>\n    <tr>\n      <th>1</th>\n      <td>2331077</td>\n      <td>2504</td>\n      <td>6</td>\n      <td>Daily survey</td>\n      <td>2022-10-20 00:00:00</td>\n      <td>2022-10-20 01:00:00</td>\n      <td>2022-10-20 23:00:00</td>\n      <td>2022-10-20 00:27:43.729658</td>\n      <td>2022-10-20 20:20:33.872122</td>\n      <td>85</td>\n      <td>Right now do you feel in control?</td>\n      <td>0</td>\n      <td>direct_294</td>\n      <td>2022-10-20</td>\n    </tr>\n    <tr>\n      <th>3</th>\n      <td>2298517</td>\n      <td>2504</td>\n      <td>6</td>\n      <td>Daily survey</td>\n      <td>2022-10-15 00:00:00</td>\n      <td>2022-10-15 01:00:00</td>\n      <td>2022-10-15 23:00:00</td>\n      <td>2022-10-15 00:20:56.935588</td>\n      <td>2022-10-15 18:40:34.608998</td>\n      <td>85</td>\n      <td>Right now do you feel in control?</td>\n      <td>0</td>\n      <td>direct_294</td>\n      <td>2022-10-15</td>\n    </tr>\n    <tr>\n      <th>4</th>\n      <td>2632030</td>\n      <td>2504</td>\n      <td>6</td>\n      <td>Daily survey</td>\n      <td>2022-12-14 00:00:00</td>\n      <td>2022-12-14 01:00:00</td>\n      <td>2022-12-14 23:00:00</td>\n      <td>2022-12-13 23:25:51.807284</td>\n      <td>2022-12-14 20:00:19.053001</td>\n      <td>85</td>\n      <td>Right now do you feel in control?</td>\n      <td>0</td>\n      <td>direct_294</td>\n      <td>2022-12-14</td>\n    </tr>\n    <tr>\n      <th>7</th>\n      <td>2167910</td>\n      <td>2528</td>\n      <td>6</td>\n      <td>Daily survey</td>\n      <td>2022-09-26 00:00:00</td>\n      <td>2022-09-26 01:00:00</td>\n      <td>2022-09-26 23:00:00</td>\n      <td>2022-09-26 00:22:24.480772</td>\n      <td>2022-09-26 12:31:37.595408</td>\n      <td>85</td>\n      <td>Right now do you feel in control?</td>\n      <td>0</td>\n      <td>direct_215</td>\n      <td>2022-09-26</td>\n    </tr>\n    <tr>\n      <th>11</th>\n      <td>2173900</td>\n      <td>2528</td>\n      <td>6</td>\n      <td>Daily survey</td>\n      <td>2022-09-27 00:00:00</td>\n      <td>2022-09-27 01:00:00</td>\n      <td>2022-09-27 23:00:00</td>\n      <td>2022-09-27 00:20:16.976543</td>\n      <td>2022-09-27 09:22:17.605743</td>\n      <td>85</td>\n      <td>Right now do you feel in control?</td>\n      <td>0</td>\n      <td>direct_215</td>\n      <td>2022-09-27</td>\n    </tr>\n  </tbody>\n</table>\n</div>"
     },
     "metadata": {},
     "execution_count": 275
    }
   ],
   "source": [
    "daily_survey.head()"
   ]
  },
  {
   "cell_type": "code",
   "execution_count": 276,
   "metadata": {},
   "outputs": [
    {
     "output_type": "execute_result",
     "data": {
      "text/plain": "id                int64\nuser_id           int64\nsurvey_id         int64\ntitle            object\nevent_date       object\nfrom             object\nto               object\ncreated_at       object\nupdated_at       object\nquestion_id       int64\nquestion_text    object\nanswer_text      object\nrecord_id        object\ndate             object\ndtype: object"
     },
     "metadata": {},
     "execution_count": 276
    }
   ],
   "source": [
    "daily_survey.dtypes"
   ]
  },
  {
   "cell_type": "code",
   "execution_count": 277,
   "metadata": {},
   "outputs": [],
   "source": [
    "def fill_in_missing_dates(df, date_col_name = 'date', start_date=None, end_date=None, fill_val = np.nan, date_format='%Y-%m-%d'):\n",
    "    df = df.reset_index(drop=True)\n",
    "    df.set_index(date_col_name,drop=True,inplace=True)\n",
    "    df.index = pd.to_datetime(df.index, format = date_format)\n",
    "    idx = pd.date_range(start_date, end_date)\n",
    "    df = df.reindex(idx,fill_value=fill_val)\n",
    "    return df\n",
    "def fill_in_missing_dates(df, date_col_name = 'date', start_date=None, end_date=None, fill_val = np.nan, date_format='%Y-%m-%d'):\n",
    "    df = df.reset_index(drop=True)\n",
    "    df.set_index(date_col_name,drop=True,inplace=True)\n",
    "    df.index = pd.to_datetime(df.index, format = date_format)\n",
    "    idx = pd.date_range(start_date, end_date)\n",
    "    df = df.reindex(idx,fill_value=fill_val)\n",
    "    return df\n",
    "def create_directory(directory_path):\n",
    "    try:\n",
    "        os.mkdir(directory_path)\n",
    "        print(f\"Directory '{directory_path}' created successfully.\")\n",
    "    except FileExistsError:\n",
    "        print(f\"Directory '{directory_path}' already exists.\")\n",
    "    except Exception as e:\n",
    "        print(f\"Error occurred: {e}\")"
   ]
  },
  {
   "cell_type": "code",
   "execution_count": 265,
   "metadata": {},
   "outputs": [
    {
     "output_type": "execute_result",
     "data": {
      "text/plain": "53"
     },
     "metadata": {},
     "execution_count": 265
    }
   ],
   "source": [
    "len(os.listdir('/repos/Delivery-Readiness/results/cpd_results_analysis/nonscheduled'))"
   ]
  },
  {
   "cell_type": "code",
   "execution_count": 281,
   "metadata": {},
   "outputs": [
    {
     "output_type": "stream",
     "name": "stdout",
     "text": "user id: 1422\nDirectory '/repos/Delivery-Readiness/results/cpd_results_analysis/scheduled/user_1422/' already exists.\nuser id: 2530\nuser id: 1037\nDirectory '/repos/Delivery-Readiness/results/cpd_results_analysis/scheduled/user_1037/' already exists.\nuser id: 2500\nDirectory '/repos/Delivery-Readiness/results/cpd_results_analysis/scheduled/user_2500/' already exists.\nuser id: 2260\nDirectory '/repos/Delivery-Readiness/results/cpd_results_analysis/scheduled/user_2260/' already exists.\nuser id: 2233\nDirectory '/repos/Delivery-Readiness/results/cpd_results_analysis/scheduled/user_2233/' already exists.\nuser id: 2518\nDirectory '/repos/Delivery-Readiness/results/cpd_results_analysis/scheduled/user_2518/' created successfully.\nuser id: 2234\nDirectory '/repos/Delivery-Readiness/results/cpd_results_analysis/scheduled/user_2234/' created successfully.\nuser: 2234, qid: 205, max corr: 0.5620050843279724\nuser id: 2259\nDirectory '/repos/Delivery-Readiness/results/cpd_results_analysis/scheduled/user_2259/' created successfully.\nuser id: 1440\nDirectory '/repos/Delivery-Readiness/results/cpd_results_analysis/scheduled/user_1440/' created successfully.\nuser: 1440, qid: 208, max corr: 0.4126701309186662\nuser id: 1386\nDirectory '/repos/Delivery-Readiness/results/cpd_results_analysis/scheduled/user_1386/' created successfully.\nuser id: 168\nDirectory '/repos/Delivery-Readiness/results/cpd_results_analysis/scheduled/user_168/' created successfully.\nuser id: 1443\nDirectory '/repos/Delivery-Readiness/results/cpd_results_analysis/scheduled/user_1443/' created successfully.\nuser id: 114\nDirectory '/repos/Delivery-Readiness/results/cpd_results_analysis/scheduled/user_114/' created successfully.\nuser: 114, qid: 207, max corr: 0.5560803755646676\nuser id: 1391\nDirectory '/repos/Delivery-Readiness/results/cpd_results_analysis/scheduled/user_1391/' created successfully.\nuser id: 2204\nDirectory '/repos/Delivery-Readiness/results/cpd_results_analysis/scheduled/user_2204/' created successfully.\nuser: 2204, qid: 206, max corr: 0.6437816914801907\nuser id: 1000\nDirectory '/repos/Delivery-Readiness/results/cpd_results_analysis/scheduled/user_1000/' created successfully.\nuser id: 1024\nDirectory '/repos/Delivery-Readiness/results/cpd_results_analysis/scheduled/user_1024/' created successfully.\nuser id: 174\nDirectory '/repos/Delivery-Readiness/results/cpd_results_analysis/scheduled/user_174/' created successfully.\nuser id: 1035\nDirectory '/repos/Delivery-Readiness/results/cpd_results_analysis/scheduled/user_1035/' created successfully.\nuser id: 1425\nDirectory '/repos/Delivery-Readiness/results/cpd_results_analysis/scheduled/user_1425/' created successfully.\nuser: 1425, qid: 204, max corr: 0.9605026089361584\nuser id: 2235\nDirectory '/repos/Delivery-Readiness/results/cpd_results_analysis/scheduled/user_2235/' created successfully.\nuser id: 2261\nDirectory '/repos/Delivery-Readiness/results/cpd_results_analysis/scheduled/user_2261/' created successfully.\nuser: 2261, qid: 209, max corr: 0.6413985711500455\nuser id: 2370\nDirectory '/repos/Delivery-Readiness/results/cpd_results_analysis/scheduled/user_2370/' created successfully.\nuser: 2370, qid: 209, max corr: 0.5116010868376094\nuser id: 173\nDirectory '/repos/Delivery-Readiness/results/cpd_results_analysis/scheduled/user_173/' created successfully.\nuser id: 192\nDirectory '/repos/Delivery-Readiness/results/cpd_results_analysis/scheduled/user_192/' created successfully.\nuser id: 2314\nDirectory '/repos/Delivery-Readiness/results/cpd_results_analysis/scheduled/user_2314/' created successfully.\nuser id: 1403\nDirectory '/repos/Delivery-Readiness/results/cpd_results_analysis/scheduled/user_1403/' created successfully.\nuser id: 1389\nDirectory '/repos/Delivery-Readiness/results/cpd_results_analysis/scheduled/user_1389/' created successfully.\nuser id: 1044\nDirectory '/repos/Delivery-Readiness/results/cpd_results_analysis/scheduled/user_1044/' created successfully.\nuser id: 2266\nDirectory '/repos/Delivery-Readiness/results/cpd_results_analysis/scheduled/user_2266/' created successfully.\n"
    }
   ],
   "source": [
    "before_days=30\n",
    "after_days=7\n",
    "adherence = 0.0\n",
    "max_corr_list = []\n",
    "max_p_val_list = []\n",
    "corr_by_categories = {}\n",
    "p_val_by_categories = {}\n",
    "\n",
    "for user_dir in os.listdir(results_folder):\n",
    "    uid = int(user_dir.split('_')[-1])\n",
    "    print(f'user id: {uid}')\n",
    "    each_user_data = [results_folder + user_dir + '/' + f for f in os.listdir(results_folder + user_dir)]\n",
    "    raw_data, corr_score, mmd_score, ensemble_score, interpretability_matrix = None, None, None, None, None\n",
    "    for each_path in each_user_data:\n",
    "        if \"series\" in each_path:\n",
    "            with open(each_path, 'rb') as file:\n",
    "                raw_data = pickle.load(file)\n",
    "        elif \"corr_score\" in each_path:\n",
    "            with open(each_path, 'rb') as file:\n",
    "                corr_score = pickle.load(file)\n",
    "        elif \"mmd_score\" in each_path:\n",
    "            with open(each_path, 'rb') as file:\n",
    "                mmd_score = pickle.load(file)\n",
    "        elif \"ensemble_score\" in each_path:\n",
    "            with open(each_path, 'rb') as file:\n",
    "                ensemble_score = pickle.load(file)\n",
    "        elif \"interpretability_Matrix\" in each_path:\n",
    "            with open(each_path, 'rb') as file:\n",
    "                interpretability_matrix = pickle.load(file)\n",
    "    if mmd_score is not None and corr_score is not None and interpretability_matrix is not None:\n",
    "        ensemble_score  = savgol_filter(np.add(abs(mmd_score), abs(corr_score)), 5, 3) \n",
    "        peaks, _ = find_peaks(ensemble_score, distance=5)\n",
    "        peak_array = np.zeros_like(ensemble_score)\n",
    "        peak_array[peaks] = ensemble_score[peaks]\n",
    "\n",
    "        each_user_survey = daily_survey[daily_survey['user_id'] == uid]\n",
    "        birth_date = birth_df.loc[birth_df['user_id'] == uid]['birth_date'].tolist()[0]\n",
    "        birth_date = datetime.datetime.strptime(birth_date, '%Y-%M-%d').date()\n",
    "        start_date = birth_date + pd.to_timedelta(-before_days + 1, unit='d')\n",
    "        end_date = birth_date + pd.to_timedelta(after_days, unit='d')\n",
    "        each_user_survey = each_user_survey[(each_user_survey['date'] >= start_date)]\n",
    "        each_user_survey = each_user_survey[(each_user_survey['date'] <= end_date)]\n",
    "        \n",
    "        user_dir = f'/repos/Delivery-Readiness/results/cpd_results_analysis/scheduled/user_{uid}/'\n",
    "        create_directory(user_dir)\n",
    "        corr_list = []\n",
    "        pval_list = []\n",
    "        all_question_ids = each_user_survey.question_id.unique()\n",
    "        for each_question in all_question_ids:\n",
    "            each_question_survey = each_user_survey[each_user_survey['question_id'] == each_question]\n",
    "            if len(each_question_survey) >= round((before_days + after_days) * adherence):\n",
    "                if len(each_question_survey.answer_text.unique()) > 1:\n",
    "                    if each_question not in [81, 83]:\n",
    "                        each_question_survey = each_question_survey.drop_duplicates(subset='date', keep='first')\n",
    "                        each_question_survey['encoded_answer'], answer_mapping = pd.factorize(each_question_survey['answer_text'], sort=True)\n",
    "                        answer_mapping_dict = dict(enumerate(answer_mapping))\n",
    "                        df = fill_in_missing_dates(each_question_survey, date_col_name = 'date', start_date=start_date, end_date=end_date)\n",
    "                        \n",
    "                        valid_indices = ~np.isnan(peak_array) & ~np.isnan(df['encoded_answer'].values)\n",
    "                        vector1_cleaned = np.array(peak_array)[valid_indices]\n",
    "                        vector1_cleaned_corr = np.array(corr_score)[valid_indices]\n",
    "                        vector2_cleaned = np.array(df['encoded_answer'].values)[valid_indices]\n",
    "                        correlation_coefficient, p_value = stats.pearsonr(vector1_cleaned, vector2_cleaned)\n",
    "                        corr_correlation_coefficient, corr_p_value = stats.pearsonr(vector1_cleaned_corr, vector2_cleaned)\n",
    "                        \n",
    "                        if corr_correlation_coefficient != np.nan:\n",
    "                            if corr_p_value < 0.15:\n",
    "                                corr_list.append(np.abs(corr_correlation_coefficient))\n",
    "                                pval_list.append(corr_p_value)\n",
    "                                if each_question not in corr_by_categories:\n",
    "                                    corr_by_categories[each_question] = [np.abs(corr_correlation_coefficient)]\n",
    "                                    p_val_by_categories[each_question] = [corr_p_value]\n",
    "                                else:\n",
    "                                    corr_by_categories[each_question].append(np.abs(corr_correlation_coefficient))\n",
    "                                    p_val_by_categories[each_question].append(corr_p_value)\n",
    "\n",
    "                        distance, path = fastdtw(vector1_cleaned, vector2_cleaned)\n",
    "                        text_ensemble = f'. Correlation between ensemble score and answer: {round(correlation_coefficient, 2)}. '\n",
    "                        text_corr = f'Correlation between corr score and answer: {round(corr_correlation_coefficient, 2)}.'\n",
    "                        # print(f'DTW between ensemble score and answer: {distance}')\n",
    "\n",
    "                        fig, ax1 = plt.subplots(figsize=(25, 5))\n",
    "\n",
    "                        # plt.plot(mmd_score, label=f'mmd score')\n",
    "                        # plt.plot(corr_score, label=f'corr score')\n",
    "                        ax1.plot(list(range(-before_days, after_days)), ensemble_score, label=f'emsemble score')\n",
    "                        ax1.set_xlabel('Days to Delivery')\n",
    "                        ax1.set_ylabel('Ensemble Score')\n",
    "                        # ax1.tick_params('y', colors='g')\n",
    "\n",
    "                        ax2 = ax1.twinx()\n",
    "                        ax2.plot(list(range(-before_days, after_days)), df['encoded_answer'].values, label=f'daily survey - qid {each_question}', marker='o', linestyle='--', color='green')\n",
    "                        ax2.set_ylabel('Survey Data')\n",
    "                        # ax2.tick_params('y', colors='b')\n",
    "                        # plt.plot(peaks, ensemble_score[peaks], \"x\", markersize=10, color=\"purple\", label=f'peaks')\n",
    "\n",
    "                        x_min = -before_days  # changed from 0\n",
    "                        x_max = after_days - 1  # changed from len(df['encoded_answer'].values) - 1\n",
    "\n",
    "                        y_min = min(min(ensemble_score), min(answer_mapping_dict.keys()))\n",
    "                        y_max = max(max(ensemble_score), max(answer_mapping_dict.keys()))\n",
    "                        heatmap = plt.imshow(interpretability_matrix, cmap='seismic', aspect='auto', extent=[x_min, x_max, y_min, y_max], alpha=0.3)\n",
    "\n",
    "                        # cbaxes = fig.add_axes([1.05, 0.15, 0.03, 0.8]) # [left, bottom, width, height]\n",
    "                        cbar = plt.colorbar(heatmap, aspect=40, pad=0.02)\n",
    "                        cbar.set_label('Heatmap Values')\n",
    "                        plt.axvline(x=0, color='black', ls='--', label='birth date')\n",
    "\n",
    "                        plt.legend(loc='best')\n",
    "                        plt.title(f'user id: {uid}')\n",
    "                        plt.xlim(-before_days, after_days -1)  # set x-axis range from -30 to 6\n",
    "                        plt.ylim(min(vector2_cleaned) - 0.01, max(vector2_cleaned) + 0.01)\n",
    "\n",
    "                        plt.tight_layout()\n",
    "\n",
    "                        txt = str(each_question_survey.question_text.unique()[0]) + str(answer_mapping_dict)\n",
    "                        plt.figtext(0.5, -0.1, txt + text_ensemble + text_corr, wrap=True, horizontalalignment='center', fontsize=12)\n",
    "                        plt.savefig(f'{user_dir}qid_{each_question}', bbox_inches='tight')\n",
    "                        plt.close()\n",
    "        copied_corr_list = copy.deepcopy(corr_list)\n",
    "        if len(corr_list) > 0:\n",
    "            max_pval = 1\n",
    "            while max_pval > 0.1 and len(corr_list) > 0:\n",
    "                max_value = max(corr_list)\n",
    "                max_pval = pval_list[corr_list.index(max_value)]\n",
    "                corr_list.remove(max_value)\n",
    "            if len(corr_list) > 0:\n",
    "                max_index = copied_corr_list.index(max_value)\n",
    "                print(f'user: {uid}, qid: {all_question_ids[max_index]}, max corr: {max_value}')\n",
    "                max_corr_list.append(max_value)\n",
    "                max_p_val_list.append(max_pval)\n"
   ]
  },
  {
   "cell_type": "code",
   "execution_count": 280,
   "metadata": {},
   "outputs": [
    {
     "output_type": "stream",
     "name": "stdout",
     "text": "None\n"
    }
   ],
   "source": [
    "print(corr_score)"
   ]
  },
  {
   "cell_type": "code",
   "execution_count": 288,
   "metadata": {},
   "outputs": [
    {
     "output_type": "execute_result",
     "data": {
      "text/plain": "0.61257707845933"
     },
     "metadata": {},
     "execution_count": 288
    }
   ],
   "source": [
    "np.mean(max_corr_list)"
   ]
  },
  {
   "cell_type": "code",
   "execution_count": 289,
   "metadata": {},
   "outputs": [
    {
     "output_type": "execute_result",
     "data": {
      "text/plain": "0.03046777565576069"
     },
     "metadata": {},
     "execution_count": 289
    }
   ],
   "source": [
    "np.mean(max_p_val_list)"
   ]
  },
  {
   "cell_type": "code",
   "execution_count": 285,
   "metadata": {},
   "outputs": [
    {
     "output_type": "stream",
     "name": "stderr",
     "text": "No handles with labels found to put in legend.\n"
    },
    {
     "output_type": "display_data",
     "data": {
      "text/plain": "<Figure size 432x288 with 1 Axes>",
      "image/svg+xml": "<?xml version=\"1.0\" encoding=\"utf-8\" standalone=\"no\"?>\n<!DOCTYPE svg PUBLIC \"-//W3C//DTD SVG 1.1//EN\"\n  \"http://www.w3.org/Graphics/SVG/1.1/DTD/svg11.dtd\">\n<!-- Created with matplotlib (https://matplotlib.org/) -->\n<svg height=\"277.314375pt\" version=\"1.1\" viewBox=\"0 0 385.78125 277.314375\" width=\"385.78125pt\" xmlns=\"http://www.w3.org/2000/svg\" xmlns:xlink=\"http://www.w3.org/1999/xlink\">\n <metadata>\n  <rdf:RDF xmlns:cc=\"http://creativecommons.org/ns#\" xmlns:dc=\"http://purl.org/dc/elements/1.1/\" xmlns:rdf=\"http://www.w3.org/1999/02/22-rdf-syntax-ns#\">\n   <cc:Work>\n    <dc:type rdf:resource=\"http://purl.org/dc/dcmitype/StillImage\"/>\n    <dc:date>2023-07-24T18:24:29.704789</dc:date>\n    <dc:format>image/svg+xml</dc:format>\n    <dc:creator>\n     <cc:Agent>\n      <dc:title>Matplotlib v3.3.4, https://matplotlib.org/</dc:title>\n     </cc:Agent>\n    </dc:creator>\n   </cc:Work>\n  </rdf:RDF>\n </metadata>\n <defs>\n  <style type=\"text/css\">*{stroke-linecap:butt;stroke-linejoin:round;}</style>\n </defs>\n <g id=\"figure_1\">\n  <g id=\"patch_1\">\n   <path d=\"M 0 277.314375 \nL 385.78125 277.314375 \nL 385.78125 0 \nL 0 0 \nz\n\" style=\"fill:none;\"/>\n  </g>\n  <g id=\"axes_1\">\n   <g id=\"patch_2\">\n    <path d=\"M 43.78125 239.758125 \nL 378.58125 239.758125 \nL 378.58125 22.318125 \nL 43.78125 22.318125 \nz\n\" style=\"fill:#ffffff;\"/>\n   </g>\n   <g id=\"patch_3\">\n    <path clip-path=\"url(#p2d22a46cad)\" d=\"M 58.999432 239.758125 \nL 86.668853 239.758125 \nL 86.668853 74.420433 \nL 58.999432 74.420433 \nz\n\" style=\"fill:#87ceeb;\"/>\n   </g>\n   <g id=\"patch_4\">\n    <path clip-path=\"url(#p2d22a46cad)\" d=\"M 93.586209 239.758125 \nL 121.25563 239.758125 \nL 121.25563 146.358824 \nL 93.586209 146.358824 \nz\n\" style=\"fill:#87ceeb;\"/>\n   </g>\n   <g id=\"patch_5\">\n    <path clip-path=\"url(#p2d22a46cad)\" d=\"M 128.172986 239.758125 \nL 155.842407 239.758125 \nL 155.842407 109.90056 \nL 128.172986 109.90056 \nz\n\" style=\"fill:#87ceeb;\"/>\n   </g>\n   <g id=\"patch_6\">\n    <path clip-path=\"url(#p2d22a46cad)\" d=\"M 162.759762 239.758125 \nL 190.429184 239.758125 \nL 190.429184 92.906329 \nL 162.759762 92.906329 \nz\n\" style=\"fill:#87ceeb;\"/>\n   </g>\n   <g id=\"patch_7\">\n    <path clip-path=\"url(#p2d22a46cad)\" d=\"M 197.346539 239.758125 \nL 225.015961 239.758125 \nL 225.015961 110.061754 \nL 197.346539 110.061754 \nz\n\" style=\"fill:#87ceeb;\"/>\n   </g>\n   <g id=\"patch_8\">\n    <path clip-path=\"url(#p2d22a46cad)\" d=\"M 231.933316 239.758125 \nL 259.602738 239.758125 \nL 259.602738 135.581835 \nL 231.933316 135.581835 \nz\n\" style=\"fill:#87ceeb;\"/>\n   </g>\n   <g id=\"patch_9\">\n    <path clip-path=\"url(#p2d22a46cad)\" d=\"M 266.520093 239.758125 \nL 294.189514 239.758125 \nL 294.189514 102.789398 \nL 266.520093 102.789398 \nz\n\" style=\"fill:#87ceeb;\"/>\n   </g>\n   <g id=\"patch_10\">\n    <path clip-path=\"url(#p2d22a46cad)\" d=\"M 301.10687 239.758125 \nL 328.776291 239.758125 \nL 328.776291 144.42122 \nL 301.10687 144.42122 \nz\n\" style=\"fill:#87ceeb;\"/>\n   </g>\n   <g id=\"patch_11\">\n    <path clip-path=\"url(#p2d22a46cad)\" d=\"M 335.693647 239.758125 \nL 363.363068 239.758125 \nL 363.363068 153.793095 \nL 335.693647 153.793095 \nz\n\" style=\"fill:#87ceeb;\"/>\n   </g>\n   <g id=\"matplotlib.axis_1\">\n    <g id=\"xtick_1\">\n     <g id=\"line2d_1\">\n      <defs>\n       <path d=\"M 0 0 \nL 0 3.5 \n\" id=\"mc57ce090d6\" style=\"stroke:#000000;stroke-width:0.8;\"/>\n      </defs>\n      <g>\n       <use style=\"stroke:#000000;stroke-width:0.8;\" x=\"72.834143\" xlink:href=\"#mc57ce090d6\" y=\"239.758125\"/>\n      </g>\n     </g>\n     <g id=\"text_1\">\n      <!-- 206 -->\n      <g transform=\"translate(63.290393 254.356562)scale(0.1 -0.1)\">\n       <defs>\n        <path d=\"M 19.1875 8.296875 \nL 53.609375 8.296875 \nL 53.609375 0 \nL 7.328125 0 \nL 7.328125 8.296875 \nQ 12.9375 14.109375 22.625 23.890625 \nQ 32.328125 33.6875 34.8125 36.53125 \nQ 39.546875 41.84375 41.421875 45.53125 \nQ 43.3125 49.21875 43.3125 52.78125 \nQ 43.3125 58.59375 39.234375 62.25 \nQ 35.15625 65.921875 28.609375 65.921875 \nQ 23.96875 65.921875 18.8125 64.3125 \nQ 13.671875 62.703125 7.8125 59.421875 \nL 7.8125 69.390625 \nQ 13.765625 71.78125 18.9375 73 \nQ 24.125 74.21875 28.421875 74.21875 \nQ 39.75 74.21875 46.484375 68.546875 \nQ 53.21875 62.890625 53.21875 53.421875 \nQ 53.21875 48.921875 51.53125 44.890625 \nQ 49.859375 40.875 45.40625 35.40625 \nQ 44.1875 33.984375 37.640625 27.21875 \nQ 31.109375 20.453125 19.1875 8.296875 \nz\n\" id=\"DejaVuSans-50\"/>\n        <path d=\"M 31.78125 66.40625 \nQ 24.171875 66.40625 20.328125 58.90625 \nQ 16.5 51.421875 16.5 36.375 \nQ 16.5 21.390625 20.328125 13.890625 \nQ 24.171875 6.390625 31.78125 6.390625 \nQ 39.453125 6.390625 43.28125 13.890625 \nQ 47.125 21.390625 47.125 36.375 \nQ 47.125 51.421875 43.28125 58.90625 \nQ 39.453125 66.40625 31.78125 66.40625 \nz\nM 31.78125 74.21875 \nQ 44.046875 74.21875 50.515625 64.515625 \nQ 56.984375 54.828125 56.984375 36.375 \nQ 56.984375 17.96875 50.515625 8.265625 \nQ 44.046875 -1.421875 31.78125 -1.421875 \nQ 19.53125 -1.421875 13.0625 8.265625 \nQ 6.59375 17.96875 6.59375 36.375 \nQ 6.59375 54.828125 13.0625 64.515625 \nQ 19.53125 74.21875 31.78125 74.21875 \nz\n\" id=\"DejaVuSans-48\"/>\n        <path d=\"M 33.015625 40.375 \nQ 26.375 40.375 22.484375 35.828125 \nQ 18.609375 31.296875 18.609375 23.390625 \nQ 18.609375 15.53125 22.484375 10.953125 \nQ 26.375 6.390625 33.015625 6.390625 \nQ 39.65625 6.390625 43.53125 10.953125 \nQ 47.40625 15.53125 47.40625 23.390625 \nQ 47.40625 31.296875 43.53125 35.828125 \nQ 39.65625 40.375 33.015625 40.375 \nz\nM 52.59375 71.296875 \nL 52.59375 62.3125 \nQ 48.875 64.0625 45.09375 64.984375 \nQ 41.3125 65.921875 37.59375 65.921875 \nQ 27.828125 65.921875 22.671875 59.328125 \nQ 17.53125 52.734375 16.796875 39.40625 \nQ 19.671875 43.65625 24.015625 45.921875 \nQ 28.375 48.1875 33.59375 48.1875 \nQ 44.578125 48.1875 50.953125 41.515625 \nQ 57.328125 34.859375 57.328125 23.390625 \nQ 57.328125 12.15625 50.6875 5.359375 \nQ 44.046875 -1.421875 33.015625 -1.421875 \nQ 20.359375 -1.421875 13.671875 8.265625 \nQ 6.984375 17.96875 6.984375 36.375 \nQ 6.984375 53.65625 15.1875 63.9375 \nQ 23.390625 74.21875 37.203125 74.21875 \nQ 40.921875 74.21875 44.703125 73.484375 \nQ 48.484375 72.75 52.59375 71.296875 \nz\n\" id=\"DejaVuSans-54\"/>\n       </defs>\n       <use xlink:href=\"#DejaVuSans-50\"/>\n       <use x=\"63.623047\" xlink:href=\"#DejaVuSans-48\"/>\n       <use x=\"127.246094\" xlink:href=\"#DejaVuSans-54\"/>\n      </g>\n     </g>\n    </g>\n    <g id=\"xtick_2\">\n     <g id=\"line2d_2\">\n      <g>\n       <use style=\"stroke:#000000;stroke-width:0.8;\" x=\"107.420919\" xlink:href=\"#mc57ce090d6\" y=\"239.758125\"/>\n      </g>\n     </g>\n     <g id=\"text_2\">\n      <!-- 159 -->\n      <g transform=\"translate(97.877169 254.356562)scale(0.1 -0.1)\">\n       <defs>\n        <path d=\"M 12.40625 8.296875 \nL 28.515625 8.296875 \nL 28.515625 63.921875 \nL 10.984375 60.40625 \nL 10.984375 69.390625 \nL 28.421875 72.90625 \nL 38.28125 72.90625 \nL 38.28125 8.296875 \nL 54.390625 8.296875 \nL 54.390625 0 \nL 12.40625 0 \nz\n\" id=\"DejaVuSans-49\"/>\n        <path d=\"M 10.796875 72.90625 \nL 49.515625 72.90625 \nL 49.515625 64.59375 \nL 19.828125 64.59375 \nL 19.828125 46.734375 \nQ 21.96875 47.46875 24.109375 47.828125 \nQ 26.265625 48.1875 28.421875 48.1875 \nQ 40.625 48.1875 47.75 41.5 \nQ 54.890625 34.8125 54.890625 23.390625 \nQ 54.890625 11.625 47.5625 5.09375 \nQ 40.234375 -1.421875 26.90625 -1.421875 \nQ 22.3125 -1.421875 17.546875 -0.640625 \nQ 12.796875 0.140625 7.71875 1.703125 \nL 7.71875 11.625 \nQ 12.109375 9.234375 16.796875 8.0625 \nQ 21.484375 6.890625 26.703125 6.890625 \nQ 35.15625 6.890625 40.078125 11.328125 \nQ 45.015625 15.765625 45.015625 23.390625 \nQ 45.015625 31 40.078125 35.4375 \nQ 35.15625 39.890625 26.703125 39.890625 \nQ 22.75 39.890625 18.8125 39.015625 \nQ 14.890625 38.140625 10.796875 36.28125 \nz\n\" id=\"DejaVuSans-53\"/>\n        <path d=\"M 10.984375 1.515625 \nL 10.984375 10.5 \nQ 14.703125 8.734375 18.5 7.8125 \nQ 22.3125 6.890625 25.984375 6.890625 \nQ 35.75 6.890625 40.890625 13.453125 \nQ 46.046875 20.015625 46.78125 33.40625 \nQ 43.953125 29.203125 39.59375 26.953125 \nQ 35.25 24.703125 29.984375 24.703125 \nQ 19.046875 24.703125 12.671875 31.3125 \nQ 6.296875 37.9375 6.296875 49.421875 \nQ 6.296875 60.640625 12.9375 67.421875 \nQ 19.578125 74.21875 30.609375 74.21875 \nQ 43.265625 74.21875 49.921875 64.515625 \nQ 56.59375 54.828125 56.59375 36.375 \nQ 56.59375 19.140625 48.40625 8.859375 \nQ 40.234375 -1.421875 26.421875 -1.421875 \nQ 22.703125 -1.421875 18.890625 -0.6875 \nQ 15.09375 0.046875 10.984375 1.515625 \nz\nM 30.609375 32.421875 \nQ 37.25 32.421875 41.125 36.953125 \nQ 45.015625 41.5 45.015625 49.421875 \nQ 45.015625 57.28125 41.125 61.84375 \nQ 37.25 66.40625 30.609375 66.40625 \nQ 23.96875 66.40625 20.09375 61.84375 \nQ 16.21875 57.28125 16.21875 49.421875 \nQ 16.21875 41.5 20.09375 36.953125 \nQ 23.96875 32.421875 30.609375 32.421875 \nz\n\" id=\"DejaVuSans-57\"/>\n       </defs>\n       <use xlink:href=\"#DejaVuSans-49\"/>\n       <use x=\"63.623047\" xlink:href=\"#DejaVuSans-53\"/>\n       <use x=\"127.246094\" xlink:href=\"#DejaVuSans-57\"/>\n      </g>\n     </g>\n    </g>\n    <g id=\"xtick_3\">\n     <g id=\"line2d_3\">\n      <g>\n       <use style=\"stroke:#000000;stroke-width:0.8;\" x=\"142.007696\" xlink:href=\"#mc57ce090d6\" y=\"239.758125\"/>\n      </g>\n     </g>\n     <g id=\"text_3\">\n      <!-- 209 -->\n      <g transform=\"translate(132.463946 254.356562)scale(0.1 -0.1)\">\n       <use xlink:href=\"#DejaVuSans-50\"/>\n       <use x=\"63.623047\" xlink:href=\"#DejaVuSans-48\"/>\n       <use x=\"127.246094\" xlink:href=\"#DejaVuSans-57\"/>\n      </g>\n     </g>\n    </g>\n    <g id=\"xtick_4\">\n     <g id=\"line2d_4\">\n      <g>\n       <use style=\"stroke:#000000;stroke-width:0.8;\" x=\"176.594473\" xlink:href=\"#mc57ce090d6\" y=\"239.758125\"/>\n      </g>\n     </g>\n     <g id=\"text_4\">\n      <!-- 204 -->\n      <g transform=\"translate(167.050723 254.356562)scale(0.1 -0.1)\">\n       <defs>\n        <path d=\"M 37.796875 64.3125 \nL 12.890625 25.390625 \nL 37.796875 25.390625 \nz\nM 35.203125 72.90625 \nL 47.609375 72.90625 \nL 47.609375 25.390625 \nL 58.015625 25.390625 \nL 58.015625 17.1875 \nL 47.609375 17.1875 \nL 47.609375 0 \nL 37.796875 0 \nL 37.796875 17.1875 \nL 4.890625 17.1875 \nL 4.890625 26.703125 \nz\n\" id=\"DejaVuSans-52\"/>\n       </defs>\n       <use xlink:href=\"#DejaVuSans-50\"/>\n       <use x=\"63.623047\" xlink:href=\"#DejaVuSans-48\"/>\n       <use x=\"127.246094\" xlink:href=\"#DejaVuSans-52\"/>\n      </g>\n     </g>\n    </g>\n    <g id=\"xtick_5\">\n     <g id=\"line2d_5\">\n      <g>\n       <use style=\"stroke:#000000;stroke-width:0.8;\" x=\"211.18125\" xlink:href=\"#mc57ce090d6\" y=\"239.758125\"/>\n      </g>\n     </g>\n     <g id=\"text_5\">\n      <!-- 205 -->\n      <g transform=\"translate(201.6375 254.356562)scale(0.1 -0.1)\">\n       <use xlink:href=\"#DejaVuSans-50\"/>\n       <use x=\"63.623047\" xlink:href=\"#DejaVuSans-48\"/>\n       <use x=\"127.246094\" xlink:href=\"#DejaVuSans-53\"/>\n      </g>\n     </g>\n    </g>\n    <g id=\"xtick_6\">\n     <g id=\"line2d_6\">\n      <g>\n       <use style=\"stroke:#000000;stroke-width:0.8;\" x=\"245.768027\" xlink:href=\"#mc57ce090d6\" y=\"239.758125\"/>\n      </g>\n     </g>\n     <g id=\"text_6\">\n      <!-- 208 -->\n      <g transform=\"translate(236.224277 254.356562)scale(0.1 -0.1)\">\n       <defs>\n        <path d=\"M 31.78125 34.625 \nQ 24.75 34.625 20.71875 30.859375 \nQ 16.703125 27.09375 16.703125 20.515625 \nQ 16.703125 13.921875 20.71875 10.15625 \nQ 24.75 6.390625 31.78125 6.390625 \nQ 38.8125 6.390625 42.859375 10.171875 \nQ 46.921875 13.96875 46.921875 20.515625 \nQ 46.921875 27.09375 42.890625 30.859375 \nQ 38.875 34.625 31.78125 34.625 \nz\nM 21.921875 38.8125 \nQ 15.578125 40.375 12.03125 44.71875 \nQ 8.5 49.078125 8.5 55.328125 \nQ 8.5 64.0625 14.71875 69.140625 \nQ 20.953125 74.21875 31.78125 74.21875 \nQ 42.671875 74.21875 48.875 69.140625 \nQ 55.078125 64.0625 55.078125 55.328125 \nQ 55.078125 49.078125 51.53125 44.71875 \nQ 48 40.375 41.703125 38.8125 \nQ 48.828125 37.15625 52.796875 32.3125 \nQ 56.78125 27.484375 56.78125 20.515625 \nQ 56.78125 9.90625 50.3125 4.234375 \nQ 43.84375 -1.421875 31.78125 -1.421875 \nQ 19.734375 -1.421875 13.25 4.234375 \nQ 6.78125 9.90625 6.78125 20.515625 \nQ 6.78125 27.484375 10.78125 32.3125 \nQ 14.796875 37.15625 21.921875 38.8125 \nz\nM 18.3125 54.390625 \nQ 18.3125 48.734375 21.84375 45.5625 \nQ 25.390625 42.390625 31.78125 42.390625 \nQ 38.140625 42.390625 41.71875 45.5625 \nQ 45.3125 48.734375 45.3125 54.390625 \nQ 45.3125 60.0625 41.71875 63.234375 \nQ 38.140625 66.40625 31.78125 66.40625 \nQ 25.390625 66.40625 21.84375 63.234375 \nQ 18.3125 60.0625 18.3125 54.390625 \nz\n\" id=\"DejaVuSans-56\"/>\n       </defs>\n       <use xlink:href=\"#DejaVuSans-50\"/>\n       <use x=\"63.623047\" xlink:href=\"#DejaVuSans-48\"/>\n       <use x=\"127.246094\" xlink:href=\"#DejaVuSans-56\"/>\n      </g>\n     </g>\n    </g>\n    <g id=\"xtick_7\">\n     <g id=\"line2d_7\">\n      <g>\n       <use style=\"stroke:#000000;stroke-width:0.8;\" x=\"280.354804\" xlink:href=\"#mc57ce090d6\" y=\"239.758125\"/>\n      </g>\n     </g>\n     <g id=\"text_7\">\n      <!-- 84 -->\n      <g transform=\"translate(273.992304 254.356562)scale(0.1 -0.1)\">\n       <use xlink:href=\"#DejaVuSans-56\"/>\n       <use x=\"63.623047\" xlink:href=\"#DejaVuSans-52\"/>\n      </g>\n     </g>\n    </g>\n    <g id=\"xtick_8\">\n     <g id=\"line2d_8\">\n      <g>\n       <use style=\"stroke:#000000;stroke-width:0.8;\" x=\"314.941581\" xlink:href=\"#mc57ce090d6\" y=\"239.758125\"/>\n      </g>\n     </g>\n     <g id=\"text_8\">\n      <!-- 207 -->\n      <g transform=\"translate(305.397831 254.356562)scale(0.1 -0.1)\">\n       <defs>\n        <path d=\"M 8.203125 72.90625 \nL 55.078125 72.90625 \nL 55.078125 68.703125 \nL 28.609375 0 \nL 18.3125 0 \nL 43.21875 64.59375 \nL 8.203125 64.59375 \nz\n\" id=\"DejaVuSans-55\"/>\n       </defs>\n       <use xlink:href=\"#DejaVuSans-50\"/>\n       <use x=\"63.623047\" xlink:href=\"#DejaVuSans-48\"/>\n       <use x=\"127.246094\" xlink:href=\"#DejaVuSans-55\"/>\n      </g>\n     </g>\n    </g>\n    <g id=\"xtick_9\">\n     <g id=\"line2d_9\">\n      <g>\n       <use style=\"stroke:#000000;stroke-width:0.8;\" x=\"349.528357\" xlink:href=\"#mc57ce090d6\" y=\"239.758125\"/>\n      </g>\n     </g>\n     <g id=\"text_9\">\n      <!-- 80 -->\n      <g transform=\"translate(343.165857 254.356562)scale(0.1 -0.1)\">\n       <use xlink:href=\"#DejaVuSans-56\"/>\n       <use x=\"63.623047\" xlink:href=\"#DejaVuSans-48\"/>\n      </g>\n     </g>\n    </g>\n    <g id=\"text_10\">\n     <!-- Question -->\n     <g transform=\"translate(188.817969 268.034687)scale(0.1 -0.1)\">\n      <defs>\n       <path d=\"M 39.40625 66.21875 \nQ 28.65625 66.21875 22.328125 58.203125 \nQ 16.015625 50.203125 16.015625 36.375 \nQ 16.015625 22.609375 22.328125 14.59375 \nQ 28.65625 6.59375 39.40625 6.59375 \nQ 50.140625 6.59375 56.421875 14.59375 \nQ 62.703125 22.609375 62.703125 36.375 \nQ 62.703125 50.203125 56.421875 58.203125 \nQ 50.140625 66.21875 39.40625 66.21875 \nz\nM 53.21875 1.3125 \nL 66.21875 -12.890625 \nL 54.296875 -12.890625 \nL 43.5 -1.21875 \nQ 41.890625 -1.3125 41.03125 -1.359375 \nQ 40.1875 -1.421875 39.40625 -1.421875 \nQ 24.03125 -1.421875 14.8125 8.859375 \nQ 5.609375 19.140625 5.609375 36.375 \nQ 5.609375 53.65625 14.8125 63.9375 \nQ 24.03125 74.21875 39.40625 74.21875 \nQ 54.734375 74.21875 63.90625 63.9375 \nQ 73.09375 53.65625 73.09375 36.375 \nQ 73.09375 23.6875 67.984375 14.640625 \nQ 62.890625 5.609375 53.21875 1.3125 \nz\n\" id=\"DejaVuSans-81\"/>\n       <path d=\"M 8.5 21.578125 \nL 8.5 54.6875 \nL 17.484375 54.6875 \nL 17.484375 21.921875 \nQ 17.484375 14.15625 20.5 10.265625 \nQ 23.53125 6.390625 29.59375 6.390625 \nQ 36.859375 6.390625 41.078125 11.03125 \nQ 45.3125 15.671875 45.3125 23.6875 \nL 45.3125 54.6875 \nL 54.296875 54.6875 \nL 54.296875 0 \nL 45.3125 0 \nL 45.3125 8.40625 \nQ 42.046875 3.421875 37.71875 1 \nQ 33.40625 -1.421875 27.6875 -1.421875 \nQ 18.265625 -1.421875 13.375 4.4375 \nQ 8.5 10.296875 8.5 21.578125 \nz\nM 31.109375 56 \nz\n\" id=\"DejaVuSans-117\"/>\n       <path d=\"M 56.203125 29.59375 \nL 56.203125 25.203125 \nL 14.890625 25.203125 \nQ 15.484375 15.921875 20.484375 11.0625 \nQ 25.484375 6.203125 34.421875 6.203125 \nQ 39.59375 6.203125 44.453125 7.46875 \nQ 49.3125 8.734375 54.109375 11.28125 \nL 54.109375 2.78125 \nQ 49.265625 0.734375 44.1875 -0.34375 \nQ 39.109375 -1.421875 33.890625 -1.421875 \nQ 20.796875 -1.421875 13.15625 6.1875 \nQ 5.515625 13.8125 5.515625 26.8125 \nQ 5.515625 40.234375 12.765625 48.109375 \nQ 20.015625 56 32.328125 56 \nQ 43.359375 56 49.78125 48.890625 \nQ 56.203125 41.796875 56.203125 29.59375 \nz\nM 47.21875 32.234375 \nQ 47.125 39.59375 43.09375 43.984375 \nQ 39.0625 48.390625 32.421875 48.390625 \nQ 24.90625 48.390625 20.390625 44.140625 \nQ 15.875 39.890625 15.1875 32.171875 \nz\n\" id=\"DejaVuSans-101\"/>\n       <path d=\"M 44.28125 53.078125 \nL 44.28125 44.578125 \nQ 40.484375 46.53125 36.375 47.5 \nQ 32.28125 48.484375 27.875 48.484375 \nQ 21.1875 48.484375 17.84375 46.4375 \nQ 14.5 44.390625 14.5 40.28125 \nQ 14.5 37.15625 16.890625 35.375 \nQ 19.28125 33.59375 26.515625 31.984375 \nL 29.59375 31.296875 \nQ 39.15625 29.25 43.1875 25.515625 \nQ 47.21875 21.78125 47.21875 15.09375 \nQ 47.21875 7.46875 41.1875 3.015625 \nQ 35.15625 -1.421875 24.609375 -1.421875 \nQ 20.21875 -1.421875 15.453125 -0.5625 \nQ 10.6875 0.296875 5.421875 2 \nL 5.421875 11.28125 \nQ 10.40625 8.6875 15.234375 7.390625 \nQ 20.0625 6.109375 24.8125 6.109375 \nQ 31.15625 6.109375 34.5625 8.28125 \nQ 37.984375 10.453125 37.984375 14.40625 \nQ 37.984375 18.0625 35.515625 20.015625 \nQ 33.0625 21.96875 24.703125 23.78125 \nL 21.578125 24.515625 \nQ 13.234375 26.265625 9.515625 29.90625 \nQ 5.8125 33.546875 5.8125 39.890625 \nQ 5.8125 47.609375 11.28125 51.796875 \nQ 16.75 56 26.8125 56 \nQ 31.78125 56 36.171875 55.265625 \nQ 40.578125 54.546875 44.28125 53.078125 \nz\n\" id=\"DejaVuSans-115\"/>\n       <path d=\"M 18.3125 70.21875 \nL 18.3125 54.6875 \nL 36.8125 54.6875 \nL 36.8125 47.703125 \nL 18.3125 47.703125 \nL 18.3125 18.015625 \nQ 18.3125 11.328125 20.140625 9.421875 \nQ 21.96875 7.515625 27.59375 7.515625 \nL 36.8125 7.515625 \nL 36.8125 0 \nL 27.59375 0 \nQ 17.1875 0 13.234375 3.875 \nQ 9.28125 7.765625 9.28125 18.015625 \nL 9.28125 47.703125 \nL 2.6875 47.703125 \nL 2.6875 54.6875 \nL 9.28125 54.6875 \nL 9.28125 70.21875 \nz\n\" id=\"DejaVuSans-116\"/>\n       <path d=\"M 9.421875 54.6875 \nL 18.40625 54.6875 \nL 18.40625 0 \nL 9.421875 0 \nz\nM 9.421875 75.984375 \nL 18.40625 75.984375 \nL 18.40625 64.59375 \nL 9.421875 64.59375 \nz\n\" id=\"DejaVuSans-105\"/>\n       <path d=\"M 30.609375 48.390625 \nQ 23.390625 48.390625 19.1875 42.75 \nQ 14.984375 37.109375 14.984375 27.296875 \nQ 14.984375 17.484375 19.15625 11.84375 \nQ 23.34375 6.203125 30.609375 6.203125 \nQ 37.796875 6.203125 41.984375 11.859375 \nQ 46.1875 17.53125 46.1875 27.296875 \nQ 46.1875 37.015625 41.984375 42.703125 \nQ 37.796875 48.390625 30.609375 48.390625 \nz\nM 30.609375 56 \nQ 42.328125 56 49.015625 48.375 \nQ 55.71875 40.765625 55.71875 27.296875 \nQ 55.71875 13.875 49.015625 6.21875 \nQ 42.328125 -1.421875 30.609375 -1.421875 \nQ 18.84375 -1.421875 12.171875 6.21875 \nQ 5.515625 13.875 5.515625 27.296875 \nQ 5.515625 40.765625 12.171875 48.375 \nQ 18.84375 56 30.609375 56 \nz\n\" id=\"DejaVuSans-111\"/>\n       <path d=\"M 54.890625 33.015625 \nL 54.890625 0 \nL 45.90625 0 \nL 45.90625 32.71875 \nQ 45.90625 40.484375 42.875 44.328125 \nQ 39.84375 48.1875 33.796875 48.1875 \nQ 26.515625 48.1875 22.3125 43.546875 \nQ 18.109375 38.921875 18.109375 30.90625 \nL 18.109375 0 \nL 9.078125 0 \nL 9.078125 54.6875 \nL 18.109375 54.6875 \nL 18.109375 46.1875 \nQ 21.34375 51.125 25.703125 53.5625 \nQ 30.078125 56 35.796875 56 \nQ 45.21875 56 50.046875 50.171875 \nQ 54.890625 44.34375 54.890625 33.015625 \nz\n\" id=\"DejaVuSans-110\"/>\n      </defs>\n      <use xlink:href=\"#DejaVuSans-81\"/>\n      <use x=\"78.710938\" xlink:href=\"#DejaVuSans-117\"/>\n      <use x=\"142.089844\" xlink:href=\"#DejaVuSans-101\"/>\n      <use x=\"203.613281\" xlink:href=\"#DejaVuSans-115\"/>\n      <use x=\"255.712891\" xlink:href=\"#DejaVuSans-116\"/>\n      <use x=\"294.921875\" xlink:href=\"#DejaVuSans-105\"/>\n      <use x=\"322.705078\" xlink:href=\"#DejaVuSans-111\"/>\n      <use x=\"383.886719\" xlink:href=\"#DejaVuSans-110\"/>\n     </g>\n    </g>\n   </g>\n   <g id=\"matplotlib.axis_2\">\n    <g id=\"ytick_1\">\n     <g id=\"line2d_10\">\n      <defs>\n       <path d=\"M 0 0 \nL -3.5 0 \n\" id=\"m500c947611\" style=\"stroke:#000000;stroke-width:0.8;\"/>\n      </defs>\n      <g>\n       <use style=\"stroke:#000000;stroke-width:0.8;\" x=\"43.78125\" xlink:href=\"#m500c947611\" y=\"239.758125\"/>\n      </g>\n     </g>\n     <g id=\"text_11\">\n      <!-- 0.0 -->\n      <g transform=\"translate(20.878125 243.557344)scale(0.1 -0.1)\">\n       <defs>\n        <path d=\"M 10.6875 12.40625 \nL 21 12.40625 \nL 21 0 \nL 10.6875 0 \nz\n\" id=\"DejaVuSans-46\"/>\n       </defs>\n       <use xlink:href=\"#DejaVuSans-48\"/>\n       <use x=\"63.623047\" xlink:href=\"#DejaVuSans-46\"/>\n       <use x=\"95.410156\" xlink:href=\"#DejaVuSans-48\"/>\n      </g>\n     </g>\n    </g>\n    <g id=\"ytick_2\">\n     <g id=\"line2d_11\">\n      <g>\n       <use style=\"stroke:#000000;stroke-width:0.8;\" x=\"43.78125\" xlink:href=\"#m500c947611\" y=\"193.450025\"/>\n      </g>\n     </g>\n     <g id=\"text_12\">\n      <!-- 0.2 -->\n      <g transform=\"translate(20.878125 197.249243)scale(0.1 -0.1)\">\n       <use xlink:href=\"#DejaVuSans-48\"/>\n       <use x=\"63.623047\" xlink:href=\"#DejaVuSans-46\"/>\n       <use x=\"95.410156\" xlink:href=\"#DejaVuSans-50\"/>\n      </g>\n     </g>\n    </g>\n    <g id=\"ytick_3\">\n     <g id=\"line2d_12\">\n      <g>\n       <use style=\"stroke:#000000;stroke-width:0.8;\" x=\"43.78125\" xlink:href=\"#m500c947611\" y=\"147.141924\"/>\n      </g>\n     </g>\n     <g id=\"text_13\">\n      <!-- 0.4 -->\n      <g transform=\"translate(20.878125 150.941143)scale(0.1 -0.1)\">\n       <use xlink:href=\"#DejaVuSans-48\"/>\n       <use x=\"63.623047\" xlink:href=\"#DejaVuSans-46\"/>\n       <use x=\"95.410156\" xlink:href=\"#DejaVuSans-52\"/>\n      </g>\n     </g>\n    </g>\n    <g id=\"ytick_4\">\n     <g id=\"line2d_13\">\n      <g>\n       <use style=\"stroke:#000000;stroke-width:0.8;\" x=\"43.78125\" xlink:href=\"#m500c947611\" y=\"100.833824\"/>\n      </g>\n     </g>\n     <g id=\"text_14\">\n      <!-- 0.6 -->\n      <g transform=\"translate(20.878125 104.633042)scale(0.1 -0.1)\">\n       <use xlink:href=\"#DejaVuSans-48\"/>\n       <use x=\"63.623047\" xlink:href=\"#DejaVuSans-46\"/>\n       <use x=\"95.410156\" xlink:href=\"#DejaVuSans-54\"/>\n      </g>\n     </g>\n    </g>\n    <g id=\"ytick_5\">\n     <g id=\"line2d_14\">\n      <g>\n       <use style=\"stroke:#000000;stroke-width:0.8;\" x=\"43.78125\" xlink:href=\"#m500c947611\" y=\"54.525723\"/>\n      </g>\n     </g>\n     <g id=\"text_15\">\n      <!-- 0.8 -->\n      <g transform=\"translate(20.878125 58.324942)scale(0.1 -0.1)\">\n       <use xlink:href=\"#DejaVuSans-48\"/>\n       <use x=\"63.623047\" xlink:href=\"#DejaVuSans-46\"/>\n       <use x=\"95.410156\" xlink:href=\"#DejaVuSans-56\"/>\n      </g>\n     </g>\n    </g>\n    <g id=\"text_16\">\n     <!-- Mean Absolute Correlation -->\n     <g transform=\"translate(14.798438 197.261562)rotate(-90)scale(0.1 -0.1)\">\n      <defs>\n       <path d=\"M 9.8125 72.90625 \nL 24.515625 72.90625 \nL 43.109375 23.296875 \nL 61.8125 72.90625 \nL 76.515625 72.90625 \nL 76.515625 0 \nL 66.890625 0 \nL 66.890625 64.015625 \nL 48.09375 14.015625 \nL 38.1875 14.015625 \nL 19.390625 64.015625 \nL 19.390625 0 \nL 9.8125 0 \nz\n\" id=\"DejaVuSans-77\"/>\n       <path d=\"M 34.28125 27.484375 \nQ 23.390625 27.484375 19.1875 25 \nQ 14.984375 22.515625 14.984375 16.5 \nQ 14.984375 11.71875 18.140625 8.90625 \nQ 21.296875 6.109375 26.703125 6.109375 \nQ 34.1875 6.109375 38.703125 11.40625 \nQ 43.21875 16.703125 43.21875 25.484375 \nL 43.21875 27.484375 \nz\nM 52.203125 31.203125 \nL 52.203125 0 \nL 43.21875 0 \nL 43.21875 8.296875 \nQ 40.140625 3.328125 35.546875 0.953125 \nQ 30.953125 -1.421875 24.3125 -1.421875 \nQ 15.921875 -1.421875 10.953125 3.296875 \nQ 6 8.015625 6 15.921875 \nQ 6 25.140625 12.171875 29.828125 \nQ 18.359375 34.515625 30.609375 34.515625 \nL 43.21875 34.515625 \nL 43.21875 35.40625 \nQ 43.21875 41.609375 39.140625 45 \nQ 35.0625 48.390625 27.6875 48.390625 \nQ 23 48.390625 18.546875 47.265625 \nQ 14.109375 46.140625 10.015625 43.890625 \nL 10.015625 52.203125 \nQ 14.9375 54.109375 19.578125 55.046875 \nQ 24.21875 56 28.609375 56 \nQ 40.484375 56 46.34375 49.84375 \nQ 52.203125 43.703125 52.203125 31.203125 \nz\n\" id=\"DejaVuSans-97\"/>\n       <path id=\"DejaVuSans-32\"/>\n       <path d=\"M 34.1875 63.1875 \nL 20.796875 26.90625 \nL 47.609375 26.90625 \nz\nM 28.609375 72.90625 \nL 39.796875 72.90625 \nL 67.578125 0 \nL 57.328125 0 \nL 50.6875 18.703125 \nL 17.828125 18.703125 \nL 11.1875 0 \nL 0.78125 0 \nz\n\" id=\"DejaVuSans-65\"/>\n       <path d=\"M 48.6875 27.296875 \nQ 48.6875 37.203125 44.609375 42.84375 \nQ 40.53125 48.484375 33.40625 48.484375 \nQ 26.265625 48.484375 22.1875 42.84375 \nQ 18.109375 37.203125 18.109375 27.296875 \nQ 18.109375 17.390625 22.1875 11.75 \nQ 26.265625 6.109375 33.40625 6.109375 \nQ 40.53125 6.109375 44.609375 11.75 \nQ 48.6875 17.390625 48.6875 27.296875 \nz\nM 18.109375 46.390625 \nQ 20.953125 51.265625 25.265625 53.625 \nQ 29.59375 56 35.59375 56 \nQ 45.5625 56 51.78125 48.09375 \nQ 58.015625 40.1875 58.015625 27.296875 \nQ 58.015625 14.40625 51.78125 6.484375 \nQ 45.5625 -1.421875 35.59375 -1.421875 \nQ 29.59375 -1.421875 25.265625 0.953125 \nQ 20.953125 3.328125 18.109375 8.203125 \nL 18.109375 0 \nL 9.078125 0 \nL 9.078125 75.984375 \nL 18.109375 75.984375 \nz\n\" id=\"DejaVuSans-98\"/>\n       <path d=\"M 9.421875 75.984375 \nL 18.40625 75.984375 \nL 18.40625 0 \nL 9.421875 0 \nz\n\" id=\"DejaVuSans-108\"/>\n       <path d=\"M 64.40625 67.28125 \nL 64.40625 56.890625 \nQ 59.421875 61.53125 53.78125 63.8125 \nQ 48.140625 66.109375 41.796875 66.109375 \nQ 29.296875 66.109375 22.65625 58.46875 \nQ 16.015625 50.828125 16.015625 36.375 \nQ 16.015625 21.96875 22.65625 14.328125 \nQ 29.296875 6.6875 41.796875 6.6875 \nQ 48.140625 6.6875 53.78125 8.984375 \nQ 59.421875 11.28125 64.40625 15.921875 \nL 64.40625 5.609375 \nQ 59.234375 2.09375 53.4375 0.328125 \nQ 47.65625 -1.421875 41.21875 -1.421875 \nQ 24.65625 -1.421875 15.125 8.703125 \nQ 5.609375 18.84375 5.609375 36.375 \nQ 5.609375 53.953125 15.125 64.078125 \nQ 24.65625 74.21875 41.21875 74.21875 \nQ 47.75 74.21875 53.53125 72.484375 \nQ 59.328125 70.75 64.40625 67.28125 \nz\n\" id=\"DejaVuSans-67\"/>\n       <path d=\"M 41.109375 46.296875 \nQ 39.59375 47.171875 37.8125 47.578125 \nQ 36.03125 48 33.890625 48 \nQ 26.265625 48 22.1875 43.046875 \nQ 18.109375 38.09375 18.109375 28.8125 \nL 18.109375 0 \nL 9.078125 0 \nL 9.078125 54.6875 \nL 18.109375 54.6875 \nL 18.109375 46.1875 \nQ 20.953125 51.171875 25.484375 53.578125 \nQ 30.03125 56 36.53125 56 \nQ 37.453125 56 38.578125 55.875 \nQ 39.703125 55.765625 41.0625 55.515625 \nz\n\" id=\"DejaVuSans-114\"/>\n      </defs>\n      <use xlink:href=\"#DejaVuSans-77\"/>\n      <use x=\"86.279297\" xlink:href=\"#DejaVuSans-101\"/>\n      <use x=\"147.802734\" xlink:href=\"#DejaVuSans-97\"/>\n      <use x=\"209.082031\" xlink:href=\"#DejaVuSans-110\"/>\n      <use x=\"272.460938\" xlink:href=\"#DejaVuSans-32\"/>\n      <use x=\"304.248047\" xlink:href=\"#DejaVuSans-65\"/>\n      <use x=\"372.65625\" xlink:href=\"#DejaVuSans-98\"/>\n      <use x=\"436.132812\" xlink:href=\"#DejaVuSans-115\"/>\n      <use x=\"488.232422\" xlink:href=\"#DejaVuSans-111\"/>\n      <use x=\"549.414062\" xlink:href=\"#DejaVuSans-108\"/>\n      <use x=\"577.197266\" xlink:href=\"#DejaVuSans-117\"/>\n      <use x=\"640.576172\" xlink:href=\"#DejaVuSans-116\"/>\n      <use x=\"679.785156\" xlink:href=\"#DejaVuSans-101\"/>\n      <use x=\"741.308594\" xlink:href=\"#DejaVuSans-32\"/>\n      <use x=\"773.095703\" xlink:href=\"#DejaVuSans-67\"/>\n      <use x=\"842.919922\" xlink:href=\"#DejaVuSans-111\"/>\n      <use x=\"904.101562\" xlink:href=\"#DejaVuSans-114\"/>\n      <use x=\"943.464844\" xlink:href=\"#DejaVuSans-114\"/>\n      <use x=\"982.328125\" xlink:href=\"#DejaVuSans-101\"/>\n      <use x=\"1043.851562\" xlink:href=\"#DejaVuSans-108\"/>\n      <use x=\"1071.634766\" xlink:href=\"#DejaVuSans-97\"/>\n      <use x=\"1132.914062\" xlink:href=\"#DejaVuSans-116\"/>\n      <use x=\"1172.123047\" xlink:href=\"#DejaVuSans-105\"/>\n      <use x=\"1199.90625\" xlink:href=\"#DejaVuSans-111\"/>\n      <use x=\"1261.087891\" xlink:href=\"#DejaVuSans-110\"/>\n     </g>\n    </g>\n   </g>\n   <g id=\"LineCollection_1\">\n    <path clip-path=\"url(#p2d22a46cad)\" d=\"M 72.834143 116.168455 \nL 72.834143 32.672411 \n\" style=\"fill:none;stroke:#000000;stroke-width:1.5;\"/>\n    <path clip-path=\"url(#p2d22a46cad)\" d=\"M 107.420919 159.700294 \nL 107.420919 133.017355 \n\" style=\"fill:none;stroke:#000000;stroke-width:1.5;\"/>\n    <path clip-path=\"url(#p2d22a46cad)\" d=\"M 142.007696 135.901613 \nL 142.007696 83.899507 \n\" style=\"fill:none;stroke:#000000;stroke-width:1.5;\"/>\n    <path clip-path=\"url(#p2d22a46cad)\" d=\"M 176.594473 94.56428 \nL 176.594473 91.248378 \n\" style=\"fill:none;stroke:#000000;stroke-width:1.5;\"/>\n    <path clip-path=\"url(#p2d22a46cad)\" d=\"M 211.18125 141.690683 \nL 211.18125 78.432825 \n\" style=\"fill:none;stroke:#000000;stroke-width:1.5;\"/>\n    <path clip-path=\"url(#p2d22a46cad)\" d=\"M 245.768027 160.838901 \nL 245.768027 110.324769 \n\" style=\"fill:none;stroke:#000000;stroke-width:1.5;\"/>\n    <path clip-path=\"url(#p2d22a46cad)\" d=\"M 280.354804 153.025461 \nL 280.354804 52.553336 \n\" style=\"fill:none;stroke:#000000;stroke-width:1.5;\"/>\n    <path clip-path=\"url(#p2d22a46cad)\" d=\"M 314.941581 153.450571 \nL 314.941581 135.391868 \n\" style=\"fill:none;stroke:#000000;stroke-width:1.5;\"/>\n    <path clip-path=\"url(#p2d22a46cad)\" d=\"M 349.528357 178.825204 \nL 349.528357 128.760987 \n\" style=\"fill:none;stroke:#000000;stroke-width:1.5;\"/>\n   </g>\n   <g id=\"line2d_15\">\n    <defs>\n     <path d=\"M 10 0 \nL -10 -0 \n\" id=\"m2751a7e902\" style=\"stroke:#000000;\"/>\n    </defs>\n    <g clip-path=\"url(#p2d22a46cad)\">\n     <use style=\"stroke:#000000;\" x=\"72.834143\" xlink:href=\"#m2751a7e902\" y=\"116.168455\"/>\n     <use style=\"stroke:#000000;\" x=\"107.420919\" xlink:href=\"#m2751a7e902\" y=\"159.700294\"/>\n     <use style=\"stroke:#000000;\" x=\"142.007696\" xlink:href=\"#m2751a7e902\" y=\"135.901613\"/>\n     <use style=\"stroke:#000000;\" x=\"176.594473\" xlink:href=\"#m2751a7e902\" y=\"94.56428\"/>\n     <use style=\"stroke:#000000;\" x=\"211.18125\" xlink:href=\"#m2751a7e902\" y=\"141.690683\"/>\n     <use style=\"stroke:#000000;\" x=\"245.768027\" xlink:href=\"#m2751a7e902\" y=\"160.838901\"/>\n     <use style=\"stroke:#000000;\" x=\"280.354804\" xlink:href=\"#m2751a7e902\" y=\"153.025461\"/>\n     <use style=\"stroke:#000000;\" x=\"314.941581\" xlink:href=\"#m2751a7e902\" y=\"153.450571\"/>\n     <use style=\"stroke:#000000;\" x=\"349.528357\" xlink:href=\"#m2751a7e902\" y=\"178.825204\"/>\n    </g>\n   </g>\n   <g id=\"line2d_16\">\n    <g clip-path=\"url(#p2d22a46cad)\">\n     <use style=\"stroke:#000000;\" x=\"72.834143\" xlink:href=\"#m2751a7e902\" y=\"32.672411\"/>\n     <use style=\"stroke:#000000;\" x=\"107.420919\" xlink:href=\"#m2751a7e902\" y=\"133.017355\"/>\n     <use style=\"stroke:#000000;\" x=\"142.007696\" xlink:href=\"#m2751a7e902\" y=\"83.899507\"/>\n     <use style=\"stroke:#000000;\" x=\"176.594473\" xlink:href=\"#m2751a7e902\" y=\"91.248378\"/>\n     <use style=\"stroke:#000000;\" x=\"211.18125\" xlink:href=\"#m2751a7e902\" y=\"78.432825\"/>\n     <use style=\"stroke:#000000;\" x=\"245.768027\" xlink:href=\"#m2751a7e902\" y=\"110.324769\"/>\n     <use style=\"stroke:#000000;\" x=\"280.354804\" xlink:href=\"#m2751a7e902\" y=\"52.553336\"/>\n     <use style=\"stroke:#000000;\" x=\"314.941581\" xlink:href=\"#m2751a7e902\" y=\"135.391868\"/>\n     <use style=\"stroke:#000000;\" x=\"349.528357\" xlink:href=\"#m2751a7e902\" y=\"128.760987\"/>\n    </g>\n   </g>\n   <g id=\"patch_12\">\n    <path d=\"M 43.78125 239.758125 \nL 43.78125 22.318125 \n\" style=\"fill:none;stroke:#000000;stroke-linecap:square;stroke-linejoin:miter;stroke-width:0.8;\"/>\n   </g>\n   <g id=\"patch_13\">\n    <path d=\"M 378.58125 239.758125 \nL 378.58125 22.318125 \n\" style=\"fill:none;stroke:#000000;stroke-linecap:square;stroke-linejoin:miter;stroke-width:0.8;\"/>\n   </g>\n   <g id=\"patch_14\">\n    <path d=\"M 43.78125 239.758125 \nL 378.58125 239.758125 \n\" style=\"fill:none;stroke:#000000;stroke-linecap:square;stroke-linejoin:miter;stroke-width:0.8;\"/>\n   </g>\n   <g id=\"patch_15\">\n    <path d=\"M 43.78125 22.318125 \nL 378.58125 22.318125 \n\" style=\"fill:none;stroke:#000000;stroke-linecap:square;stroke-linejoin:miter;stroke-width:0.8;\"/>\n   </g>\n   <g id=\"text_17\">\n    <!-- Mean Value with Standard Deviation for Each Question -->\n    <g transform=\"translate(46.626563 16.318125)scale(0.12 -0.12)\">\n     <defs>\n      <path d=\"M 28.609375 0 \nL 0.78125 72.90625 \nL 11.078125 72.90625 \nL 34.1875 11.53125 \nL 57.328125 72.90625 \nL 67.578125 72.90625 \nL 39.796875 0 \nz\n\" id=\"DejaVuSans-86\"/>\n      <path d=\"M 4.203125 54.6875 \nL 13.1875 54.6875 \nL 24.421875 12.015625 \nL 35.59375 54.6875 \nL 46.1875 54.6875 \nL 57.421875 12.015625 \nL 68.609375 54.6875 \nL 77.59375 54.6875 \nL 63.28125 0 \nL 52.6875 0 \nL 40.921875 44.828125 \nL 29.109375 0 \nL 18.5 0 \nz\n\" id=\"DejaVuSans-119\"/>\n      <path d=\"M 54.890625 33.015625 \nL 54.890625 0 \nL 45.90625 0 \nL 45.90625 32.71875 \nQ 45.90625 40.484375 42.875 44.328125 \nQ 39.84375 48.1875 33.796875 48.1875 \nQ 26.515625 48.1875 22.3125 43.546875 \nQ 18.109375 38.921875 18.109375 30.90625 \nL 18.109375 0 \nL 9.078125 0 \nL 9.078125 75.984375 \nL 18.109375 75.984375 \nL 18.109375 46.1875 \nQ 21.34375 51.125 25.703125 53.5625 \nQ 30.078125 56 35.796875 56 \nQ 45.21875 56 50.046875 50.171875 \nQ 54.890625 44.34375 54.890625 33.015625 \nz\n\" id=\"DejaVuSans-104\"/>\n      <path d=\"M 53.515625 70.515625 \nL 53.515625 60.890625 \nQ 47.90625 63.578125 42.921875 64.890625 \nQ 37.9375 66.21875 33.296875 66.21875 \nQ 25.25 66.21875 20.875 63.09375 \nQ 16.5 59.96875 16.5 54.203125 \nQ 16.5 49.359375 19.40625 46.890625 \nQ 22.3125 44.4375 30.421875 42.921875 \nL 36.375 41.703125 \nQ 47.40625 39.59375 52.65625 34.296875 \nQ 57.90625 29 57.90625 20.125 \nQ 57.90625 9.515625 50.796875 4.046875 \nQ 43.703125 -1.421875 29.984375 -1.421875 \nQ 24.8125 -1.421875 18.96875 -0.25 \nQ 13.140625 0.921875 6.890625 3.21875 \nL 6.890625 13.375 \nQ 12.890625 10.015625 18.65625 8.296875 \nQ 24.421875 6.59375 29.984375 6.59375 \nQ 38.421875 6.59375 43.015625 9.90625 \nQ 47.609375 13.234375 47.609375 19.390625 \nQ 47.609375 24.75 44.3125 27.78125 \nQ 41.015625 30.8125 33.5 32.328125 \nL 27.484375 33.5 \nQ 16.453125 35.6875 11.515625 40.375 \nQ 6.59375 45.0625 6.59375 53.421875 \nQ 6.59375 63.09375 13.40625 68.65625 \nQ 20.21875 74.21875 32.171875 74.21875 \nQ 37.3125 74.21875 42.625 73.28125 \nQ 47.953125 72.359375 53.515625 70.515625 \nz\n\" id=\"DejaVuSans-83\"/>\n      <path d=\"M 45.40625 46.390625 \nL 45.40625 75.984375 \nL 54.390625 75.984375 \nL 54.390625 0 \nL 45.40625 0 \nL 45.40625 8.203125 \nQ 42.578125 3.328125 38.25 0.953125 \nQ 33.9375 -1.421875 27.875 -1.421875 \nQ 17.96875 -1.421875 11.734375 6.484375 \nQ 5.515625 14.40625 5.515625 27.296875 \nQ 5.515625 40.1875 11.734375 48.09375 \nQ 17.96875 56 27.875 56 \nQ 33.9375 56 38.25 53.625 \nQ 42.578125 51.265625 45.40625 46.390625 \nz\nM 14.796875 27.296875 \nQ 14.796875 17.390625 18.875 11.75 \nQ 22.953125 6.109375 30.078125 6.109375 \nQ 37.203125 6.109375 41.296875 11.75 \nQ 45.40625 17.390625 45.40625 27.296875 \nQ 45.40625 37.203125 41.296875 42.84375 \nQ 37.203125 48.484375 30.078125 48.484375 \nQ 22.953125 48.484375 18.875 42.84375 \nQ 14.796875 37.203125 14.796875 27.296875 \nz\n\" id=\"DejaVuSans-100\"/>\n      <path d=\"M 19.671875 64.796875 \nL 19.671875 8.109375 \nL 31.59375 8.109375 \nQ 46.6875 8.109375 53.6875 14.9375 \nQ 60.6875 21.78125 60.6875 36.53125 \nQ 60.6875 51.171875 53.6875 57.984375 \nQ 46.6875 64.796875 31.59375 64.796875 \nz\nM 9.8125 72.90625 \nL 30.078125 72.90625 \nQ 51.265625 72.90625 61.171875 64.09375 \nQ 71.09375 55.28125 71.09375 36.53125 \nQ 71.09375 17.671875 61.125 8.828125 \nQ 51.171875 0 30.078125 0 \nL 9.8125 0 \nz\n\" id=\"DejaVuSans-68\"/>\n      <path d=\"M 2.984375 54.6875 \nL 12.5 54.6875 \nL 29.59375 8.796875 \nL 46.6875 54.6875 \nL 56.203125 54.6875 \nL 35.6875 0 \nL 23.484375 0 \nz\n\" id=\"DejaVuSans-118\"/>\n      <path d=\"M 37.109375 75.984375 \nL 37.109375 68.5 \nL 28.515625 68.5 \nQ 23.6875 68.5 21.796875 66.546875 \nQ 19.921875 64.59375 19.921875 59.515625 \nL 19.921875 54.6875 \nL 34.71875 54.6875 \nL 34.71875 47.703125 \nL 19.921875 47.703125 \nL 19.921875 0 \nL 10.890625 0 \nL 10.890625 47.703125 \nL 2.296875 47.703125 \nL 2.296875 54.6875 \nL 10.890625 54.6875 \nL 10.890625 58.5 \nQ 10.890625 67.625 15.140625 71.796875 \nQ 19.390625 75.984375 28.609375 75.984375 \nz\n\" id=\"DejaVuSans-102\"/>\n      <path d=\"M 9.8125 72.90625 \nL 55.90625 72.90625 \nL 55.90625 64.59375 \nL 19.671875 64.59375 \nL 19.671875 43.015625 \nL 54.390625 43.015625 \nL 54.390625 34.71875 \nL 19.671875 34.71875 \nL 19.671875 8.296875 \nL 56.78125 8.296875 \nL 56.78125 0 \nL 9.8125 0 \nz\n\" id=\"DejaVuSans-69\"/>\n      <path d=\"M 48.78125 52.59375 \nL 48.78125 44.1875 \nQ 44.96875 46.296875 41.140625 47.34375 \nQ 37.3125 48.390625 33.40625 48.390625 \nQ 24.65625 48.390625 19.8125 42.84375 \nQ 14.984375 37.3125 14.984375 27.296875 \nQ 14.984375 17.28125 19.8125 11.734375 \nQ 24.65625 6.203125 33.40625 6.203125 \nQ 37.3125 6.203125 41.140625 7.25 \nQ 44.96875 8.296875 48.78125 10.40625 \nL 48.78125 2.09375 \nQ 45.015625 0.34375 40.984375 -0.53125 \nQ 36.96875 -1.421875 32.421875 -1.421875 \nQ 20.0625 -1.421875 12.78125 6.34375 \nQ 5.515625 14.109375 5.515625 27.296875 \nQ 5.515625 40.671875 12.859375 48.328125 \nQ 20.21875 56 33.015625 56 \nQ 37.15625 56 41.109375 55.140625 \nQ 45.0625 54.296875 48.78125 52.59375 \nz\n\" id=\"DejaVuSans-99\"/>\n     </defs>\n     <use xlink:href=\"#DejaVuSans-77\"/>\n     <use x=\"86.279297\" xlink:href=\"#DejaVuSans-101\"/>\n     <use x=\"147.802734\" xlink:href=\"#DejaVuSans-97\"/>\n     <use x=\"209.082031\" xlink:href=\"#DejaVuSans-110\"/>\n     <use x=\"272.460938\" xlink:href=\"#DejaVuSans-32\"/>\n     <use x=\"304.248047\" xlink:href=\"#DejaVuSans-86\"/>\n     <use x=\"364.90625\" xlink:href=\"#DejaVuSans-97\"/>\n     <use x=\"426.185547\" xlink:href=\"#DejaVuSans-108\"/>\n     <use x=\"453.96875\" xlink:href=\"#DejaVuSans-117\"/>\n     <use x=\"517.347656\" xlink:href=\"#DejaVuSans-101\"/>\n     <use x=\"578.871094\" xlink:href=\"#DejaVuSans-32\"/>\n     <use x=\"610.658203\" xlink:href=\"#DejaVuSans-119\"/>\n     <use x=\"692.445312\" xlink:href=\"#DejaVuSans-105\"/>\n     <use x=\"720.228516\" xlink:href=\"#DejaVuSans-116\"/>\n     <use x=\"759.4375\" xlink:href=\"#DejaVuSans-104\"/>\n     <use x=\"822.816406\" xlink:href=\"#DejaVuSans-32\"/>\n     <use x=\"854.603516\" xlink:href=\"#DejaVuSans-83\"/>\n     <use x=\"918.080078\" xlink:href=\"#DejaVuSans-116\"/>\n     <use x=\"957.289062\" xlink:href=\"#DejaVuSans-97\"/>\n     <use x=\"1018.568359\" xlink:href=\"#DejaVuSans-110\"/>\n     <use x=\"1081.947266\" xlink:href=\"#DejaVuSans-100\"/>\n     <use x=\"1145.423828\" xlink:href=\"#DejaVuSans-97\"/>\n     <use x=\"1206.703125\" xlink:href=\"#DejaVuSans-114\"/>\n     <use x=\"1246.066406\" xlink:href=\"#DejaVuSans-100\"/>\n     <use x=\"1309.542969\" xlink:href=\"#DejaVuSans-32\"/>\n     <use x=\"1341.330078\" xlink:href=\"#DejaVuSans-68\"/>\n     <use x=\"1418.332031\" xlink:href=\"#DejaVuSans-101\"/>\n     <use x=\"1479.855469\" xlink:href=\"#DejaVuSans-118\"/>\n     <use x=\"1539.035156\" xlink:href=\"#DejaVuSans-105\"/>\n     <use x=\"1566.818359\" xlink:href=\"#DejaVuSans-97\"/>\n     <use x=\"1628.097656\" xlink:href=\"#DejaVuSans-116\"/>\n     <use x=\"1667.306641\" xlink:href=\"#DejaVuSans-105\"/>\n     <use x=\"1695.089844\" xlink:href=\"#DejaVuSans-111\"/>\n     <use x=\"1756.271484\" xlink:href=\"#DejaVuSans-110\"/>\n     <use x=\"1819.650391\" xlink:href=\"#DejaVuSans-32\"/>\n     <use x=\"1851.4375\" xlink:href=\"#DejaVuSans-102\"/>\n     <use x=\"1886.642578\" xlink:href=\"#DejaVuSans-111\"/>\n     <use x=\"1947.824219\" xlink:href=\"#DejaVuSans-114\"/>\n     <use x=\"1988.9375\" xlink:href=\"#DejaVuSans-32\"/>\n     <use x=\"2020.724609\" xlink:href=\"#DejaVuSans-69\"/>\n     <use x=\"2083.908203\" xlink:href=\"#DejaVuSans-97\"/>\n     <use x=\"2145.1875\" xlink:href=\"#DejaVuSans-99\"/>\n     <use x=\"2200.167969\" xlink:href=\"#DejaVuSans-104\"/>\n     <use x=\"2263.546875\" xlink:href=\"#DejaVuSans-32\"/>\n     <use x=\"2295.333984\" xlink:href=\"#DejaVuSans-81\"/>\n     <use x=\"2374.044922\" xlink:href=\"#DejaVuSans-117\"/>\n     <use x=\"2437.423828\" xlink:href=\"#DejaVuSans-101\"/>\n     <use x=\"2498.947266\" xlink:href=\"#DejaVuSans-115\"/>\n     <use x=\"2551.046875\" xlink:href=\"#DejaVuSans-116\"/>\n     <use x=\"2590.255859\" xlink:href=\"#DejaVuSans-105\"/>\n     <use x=\"2618.039062\" xlink:href=\"#DejaVuSans-111\"/>\n     <use x=\"2679.220703\" xlink:href=\"#DejaVuSans-110\"/>\n    </g>\n   </g>\n   <g id=\"legend_1\">\n    <g id=\"patch_16\">\n     <path d=\"M 367.58125 35.318125 \nL 371.58125 35.318125 \nQ 373.58125 35.318125 373.58125 33.318125 \nL 373.58125 29.318125 \nQ 373.58125 27.318125 371.58125 27.318125 \nL 367.58125 27.318125 \nQ 365.58125 27.318125 365.58125 29.318125 \nL 365.58125 33.318125 \nQ 365.58125 35.318125 367.58125 35.318125 \nz\n\" style=\"fill:#ffffff;opacity:0.8;stroke:#cccccc;stroke-linejoin:miter;\"/>\n    </g>\n   </g>\n  </g>\n </g>\n <defs>\n  <clipPath id=\"p2d22a46cad\">\n   <rect height=\"217.44\" width=\"334.8\" x=\"43.78125\" y=\"22.318125\"/>\n  </clipPath>\n </defs>\n</svg>\n",
      "image/png": "[encoded data removed]"
     },
     "metadata": {
      "needs_background": "light"
     }
    }
   ],
   "source": [
    "labels, mean_vals, std_vals = [], [], []\n",
    "for key in corr_by_categories:\n",
    "    if len(corr_by_categories[key]) > 1:\n",
    "        labels.append(key)\n",
    "        mean_vals.append(np.mean(np.array(corr_by_categories[key])))\n",
    "        std_vals.append(np.std(np.array(corr_by_categories[key])))\n",
    "\n",
    "# # Create a bar chart with error bars\n",
    "# bar = plt.bar(list(range(len(labels))), mean_vals, yerr=std_vals, capsize=10, color='skyblue', labels=labels)\n",
    "\n",
    "# # Set labels and title\n",
    "# plt.xlabel('Category')\n",
    "# plt.ylabel('Value')\n",
    "# plt.title('Mean Value with Standard Deviation for Each Category')\n",
    "# bar.bar_label(labels, label_type='center')\n",
    "\n",
    "# plt.show()\n",
    "\n",
    "fig, ax = plt.subplots()\n",
    "\n",
    "p = plt.bar(list(range(len(labels))), mean_vals, yerr=std_vals, capsize=10, color='skyblue')\n",
    "ax.set_xticks(np.arange(len(labels)))\n",
    "ax.set_xticklabels(labels)\n",
    "ax.set_xlabel('Question')\n",
    "ax.set_ylabel('Mean Absolute Correlation')\n",
    "ax.set_title('Mean Value with Standard Deviation for Each Question')\n",
    "ax.legend()\n",
    "\n",
    "plt.show()"
   ]
  },
  {
   "cell_type": "code",
   "execution_count": 283,
   "metadata": {},
   "outputs": [
    {
     "output_type": "execute_result",
     "data": {
      "text/plain": "{206: [0.962088466641472,\n  0.6753340480465617,\n  0.4592212456816167,\n  0.7596632866335638],\n 159: [0.34137345927381363,\n  0.4928272938131046,\n  0.4126701309186662,\n  0.36665763234755666],\n 209: [0.7006943584031362, 0.5560803755646676, 0.4257503129640843],\n 204: [0.6270775224646148, 0.6413985711500455],\n 205: [0.5620050843279724,\n  0.394562375987515,\n  0.6437816914801907,\n  0.7670386533912505,\n  0.43333970216192275],\n 208: [0.5256834098720212,\n  0.33453108299608175,\n  0.5875498574137635,\n  0.3519430668951786],\n 84: [0.49188713021703795,\n  0.9605026089361584,\n  0.5116010868376094,\n  0.4022254589909308],\n 203: [0.5381981466031593],\n 207: [0.46092732154611976, 0.4087804820741317, 0.3655435367470854],\n 85: [0.865743731001316],\n 80: [0.47938540920854916, 0.2631631206803352],\n 82: [0.44256861406415493]}"
     },
     "metadata": {},
     "execution_count": 283
    }
   ],
   "source": [
    "corr_by_categories"
   ]
  },
  {
   "cell_type": "code",
   "execution_count": 256,
   "metadata": {},
   "outputs": [
    {
     "output_type": "execute_result",
     "data": {
      "text/plain": "0.6188084559395868"
     },
     "metadata": {},
     "execution_count": 256
    }
   ],
   "source": [
    "np.mean(np.array(max_corr_list))"
   ]
  },
  {
   "cell_type": "code",
   "execution_count": 257,
   "metadata": {},
   "outputs": [
    {
     "output_type": "execute_result",
     "data": {
      "text/plain": "0.03982559939576191"
     },
     "metadata": {},
     "execution_count": 257
    }
   ],
   "source": [
    "np.mean(np.array(max_p_val_list))"
   ]
  },
  {
   "cell_type": "code",
   "execution_count": 183,
   "metadata": {},
   "outputs": [
    {
     "output_type": "execute_result",
     "data": {
      "text/plain": "[0.01909021811940484, 0.010811568167564222, 0.050693540038422524]"
     },
     "metadata": {},
     "execution_count": 183
    }
   ],
   "source": [
    "max_p_val_list"
   ]
  },
  {
   "cell_type": "code",
   "execution_count": 130,
   "metadata": {},
   "outputs": [
    {
     "output_type": "execute_result",
     "data": {
      "text/plain": "[-30,\n -29,\n -28,\n -27,\n -26,\n -25,\n -24,\n -23,\n -22,\n -21,\n -20,\n -19,\n -18,\n -17,\n -16,\n -15,\n -14,\n -13,\n -12,\n -11,\n -10,\n -9,\n -8,\n -7,\n -6,\n -5,\n -4,\n -3,\n -2,\n -1,\n 0,\n 1,\n 2,\n 3,\n 4,\n 5,\n 6]"
     },
     "metadata": {},
     "execution_count": 130
    }
   ],
   "source": [
    "list(range(-30, 7))"
   ]
  },
  {
   "cell_type": "code",
   "execution_count": null,
   "metadata": {},
   "outputs": [],
   "source": []
  }
 ],
 "metadata": {
  "language_info": {
   "codemirror_mode": {
    "name": "ipython",
    "version": 3
   },
   "file_extension": ".py",
   "mimetype": "text/x-python",
   "name": "python",
   "nbconvert_exporter": "python",
   "pygments_lexer": "ipython3",
   "version": "3.6.10-final"
  },
  "orig_nbformat": 2,
  "kernelspec": {
   "name": "python361064bitbaseconda2fab8c741a754b04bd61fa42d2b2444d",
   "display_name": "Python 3.6.10 64-bit ('base': conda)"
  }
 },
 "nbformat": 4,
 "nbformat_minor": 2
}