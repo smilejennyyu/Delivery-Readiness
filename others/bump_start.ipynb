{
 "cells": [
  {
   "cell_type": "markdown",
   "metadata": {},
   "source": [
    "# Imports"
   ]
  },
  {
   "cell_type": "code",
   "execution_count": 6,
   "metadata": {},
   "outputs": [
    {
     "name": "stdout",
     "output_type": "stream",
     "text": [
      "Requirement already satisfied: boto3 in /home/ubuntu/.local/lib/python3.6/site-packages (1.23.10)\n",
      "Requirement already satisfied: botocore<1.27.0,>=1.26.10 in /home/ubuntu/.local/lib/python3.6/site-packages (from boto3) (1.26.10)\n",
      "Requirement already satisfied: jmespath<2.0.0,>=0.7.1 in /home/ubuntu/.local/lib/python3.6/site-packages (from boto3) (0.10.0)\n",
      "Requirement already satisfied: s3transfer<0.6.0,>=0.5.0 in /home/ubuntu/.local/lib/python3.6/site-packages (from boto3) (0.5.2)\n",
      "Requirement already satisfied: urllib3<1.27,>=1.25.4 in /opt/conda/lib/python3.6/site-packages (from botocore<1.27.0,>=1.26.10->boto3) (1.25.8)\n",
      "Requirement already satisfied: python-dateutil<3.0.0,>=2.1 in /opt/conda/lib/python3.6/site-packages (from botocore<1.27.0,>=1.26.10->boto3) (2.8.1)\n",
      "Requirement already satisfied: six>=1.5 in /opt/conda/lib/python3.6/site-packages (from python-dateutil<3.0.0,>=2.1->botocore<1.27.0,>=1.26.10->boto3) (1.14.0)\n",
      "\u001b[33mWARNING: You are using pip version 20.1; however, version 21.3.1 is available.\n",
      "You should consider upgrading via the '/opt/conda/bin/python -m pip install --upgrade pip' command.\u001b[0m\n"
     ]
    }
   ],
   "source": [
    "# Run Twice\n",
    "import sys\n",
    "sys.executable\n",
    "!/opt/conda/bin/python -m pip install boto3 --user"
   ]
  },
  {
   "cell_type": "code",
   "execution_count": 1,
   "metadata": {},
   "outputs": [
    {
     "name": "stdout",
     "output_type": "stream",
     "text": [
      "Requirement already satisfied: psycopg2 in /mnt/bump_env/lib/python3.6/site-packages (2.9.3)\n",
      "Note: you may need to restart the kernel to use updated packages.\n"
     ]
    }
   ],
   "source": [
    "pip install psycopg2"
   ]
  },
  {
   "cell_type": "code",
   "execution_count": 2,
   "metadata": {},
   "outputs": [
    {
     "name": "stdout",
     "output_type": "stream",
     "text": [
      "\u001b[31mERROR: Can not perform a '--user' install. User site-packages are not visible in this virtualenv.\u001b[0m\n"
     ]
    }
   ],
   "source": [
    "# Requires kernal restart\n",
    "!pip install seaborn --upgrade --user"
   ]
  },
  {
   "cell_type": "code",
   "execution_count": 3,
   "metadata": {},
   "outputs": [
    {
     "name": "stdout",
     "output_type": "stream",
     "text": [
      "Requirement already satisfied: pytimeparse in ./bump_env/lib/python3.6/site-packages (1.1.8)\n"
     ]
    }
   ],
   "source": [
    "# timedelta conversion\n",
    "!pip install pytimeparse"
   ]
  },
  {
   "cell_type": "code",
   "execution_count": 1,
   "metadata": {},
   "outputs": [
    {
     "name": "stderr",
     "output_type": "stream",
     "text": [
      "Matplotlib created a temporary config/cache directory at /tmp/matplotlib-9bppmart because the default path (/home/ubuntu/.config/matplotlib) is not a writable directory; it is highly recommended to set the MPLCONFIGDIR environment variable to a writable directory, in particular to speed up the import of Matplotlib and to better support multiprocessing.\n"
     ]
    },
    {
     "data": {
      "text/plain": [
       "'0.12.2'"
      ]
     },
     "execution_count": 1,
     "metadata": {},
     "output_type": "execute_result"
    }
   ],
   "source": [
    "import numpy as np\n",
    "import pandas as pd\n",
    "import boto3\n",
    "import json\n",
    "import os\n",
    "import ast\n",
    "import csv\n",
    "import io\n",
    "from io import StringIO, BytesIO, TextIOWrapper\n",
    "import gzip\n",
    "from datetime import datetime, date\n",
    "from s3_utils import *\n",
    "import matplotlib.pyplot as plt\n",
    "import seaborn as sns\n",
    "import datetime as dt\n",
    "import ast\n",
    "sns.__version__"
   ]
  },
  {
   "cell_type": "markdown",
   "metadata": {},
   "source": [
    "# S3 Buckets"
   ]
  },
  {
   "cell_type": "code",
   "execution_count": 13,
   "metadata": {},
   "outputs": [],
   "source": [
    "# Define s3 bucket\n",
    "import pickle\n",
    "bucket = 'fouryouandme-study-data'\n",
    "\n",
    "#List s3 keys\n",
    "l = get_matching_s3_keys(bucket, prefix='bump/') #Remove prefix to view non-BUMP data\n",
    "import json\n",
    "with open(\"keys.txt\", \"w\") as fp:\n",
    "    json.dump(l, fp)"
   ]
  },
  {
   "cell_type": "markdown",
   "metadata": {},
   "source": [
    "## Dataframe Imports"
   ]
  },
  {
   "cell_type": "code",
   "execution_count": 7,
   "metadata": {},
   "outputs": [],
   "source": [
    "# Study IDs\n",
    "\n",
    "key = 'bump/redcap/wave_2/study_ids.csv.gz'\n",
    "df_studyID = pandas_from_csv_s3(bucket, key=key, compression='gzip')"
   ]
  },
  {
   "cell_type": "code",
   "execution_count": 8,
   "metadata": {},
   "outputs": [],
   "source": [
    "# Birthing Data\n",
    "key = 'bump/redcap/wave_2/birthing_data_cohort_2_only.csv.gz'\n",
    "df_birth = pandas_from_csv_s3(bucket, key=key, compression='gzip')\n",
    "df_birth['date'] = pd.to_datetime(df_birth.birth_date).dt.date"
   ]
  },
  {
   "cell_type": "code",
   "execution_count": 9,
   "metadata": {},
   "outputs": [],
   "source": [
    "# Some dataframes use 'record_id' instead of 'user_id'. \n",
    "# You'll need to match it up with df_studyID where'evidation_id' is 'user_id'\n",
    "# NOTE: Very few examples of this. Birthing data is the important one\n",
    "\n",
    "\n",
    "df_birth = pd.merge(df_birth, df_studyID, on='record_id')\n",
    "df_birth['user_id'] = df_birth.evidation_id\n",
    "\n",
    "# There is a missing value in the birthing data. I'm removing it here\n",
    "df_birth = df_birth.drop(index=50)\n"
   ]
  },
  {
   "cell_type": "code",
   "execution_count": 10,
   "metadata": {},
   "outputs": [],
   "source": [
    "# Bodyport Wave 2\n",
    "key = 'bump/bodyport/wave_2/bodyport.csv.gz'\n",
    "df_bodyport = pandas_from_csv_s3(bucket, key=key, compression='gzip')\n",
    "# OPTIONAL: Convert date format\n",
    "df_bodyport['date'] = pd.to_datetime(df_bodyport.event_date).dt.date "
   ]
  },
  {
   "cell_type": "code",
   "execution_count": 11,
   "metadata": {},
   "outputs": [],
   "source": [
    "# Garmin Wave 2\n",
    "key = 'bump/garmin/wave_2/garmin_activities.csv.gz'\n",
    "df_gAct = pandas_from_csv_s3(bucket, key=key, compression='gzip')\n",
    "df_gAct['date'] = pd.to_datetime(df_gAct.event_date).dt.date\n",
    "\n",
    "key = 'bump/garmin/wave_2/garmin_dailies.csv.gz'\n",
    "df_gDaily = pandas_from_csv_s3(bucket, key=key, compression='gzip')\n",
    "df_gDaily['date'] = pd.to_datetime(df_gDaily.event_date).dt.date\n",
    "\n",
    "key = 'bump/garmin/wave_2/garmin_pulse_ox.csv.gz'\n",
    "df_gPulse = pandas_from_csv_s3(bucket, key=key, compression='gzip')\n",
    "df_gPulse['date'] = pd.to_datetime(df_gPulse.event_date).dt.date\n",
    "\n",
    "key = 'bump/garmin/wave_2/garmin_respiration.csv.gz'\n",
    "df_gResp = pandas_from_csv_s3(bucket, key=key, compression='gzip')\n",
    "df_gResp['date'] = pd.to_datetime(df_gResp.event_date).dt.date\n",
    "\n",
    "key = 'bump/garmin/wave_2/garmin_user_metrics.csv.gz'\n",
    "df_gUser = pandas_from_csv_s3(bucket, key=key, compression='gzip')\n",
    "df_gUser['date'] = pd.to_datetime(df_gUser.event_date).dt.date"
   ]
  },
  {
   "cell_type": "code",
   "execution_count": 1,
   "metadata": {},
   "outputs": [
    {
     "ename": "NameError",
     "evalue": "name 'pandas_from_csv_s3' is not defined",
     "output_type": "error",
     "traceback": [
      "\u001b[0;31m---------------------------------------------------------------------------\u001b[0m",
      "\u001b[0;31mNameError\u001b[0m                                 Traceback (most recent call last)",
      "\u001b[0;32m<ipython-input-1-1f5c98bcee37>\u001b[0m in \u001b[0;36m<module>\u001b[0;34m\u001b[0m\n\u001b[1;32m      1\u001b[0m \u001b[0;31m# Oura Wave 2\u001b[0m\u001b[0;34m\u001b[0m\u001b[0;34m\u001b[0m\u001b[0;34m\u001b[0m\u001b[0m\n\u001b[1;32m      2\u001b[0m \u001b[0mkey\u001b[0m \u001b[0;34m=\u001b[0m \u001b[0;34m'bump/oura/wave_2/oura_sleep.csv.gz'\u001b[0m\u001b[0;34m\u001b[0m\u001b[0;34m\u001b[0m\u001b[0m\n\u001b[0;32m----> 3\u001b[0;31m \u001b[0mdf_sleep\u001b[0m \u001b[0;34m=\u001b[0m \u001b[0mpandas_from_csv_s3\u001b[0m\u001b[0;34m(\u001b[0m\u001b[0mbucket\u001b[0m\u001b[0;34m,\u001b[0m \u001b[0mkey\u001b[0m\u001b[0;34m=\u001b[0m\u001b[0mkey\u001b[0m\u001b[0;34m,\u001b[0m \u001b[0mcompression\u001b[0m\u001b[0;34m=\u001b[0m\u001b[0;34m'gzip'\u001b[0m\u001b[0;34m)\u001b[0m\u001b[0;34m\u001b[0m\u001b[0;34m\u001b[0m\u001b[0m\n\u001b[0m\u001b[1;32m      4\u001b[0m \u001b[0mdf_sleep\u001b[0m\u001b[0;34m[\u001b[0m\u001b[0;34m'date'\u001b[0m\u001b[0;34m]\u001b[0m \u001b[0;34m=\u001b[0m \u001b[0mpd\u001b[0m\u001b[0;34m.\u001b[0m\u001b[0mto_datetime\u001b[0m\u001b[0;34m(\u001b[0m\u001b[0mdf_sleep\u001b[0m\u001b[0;34m.\u001b[0m\u001b[0mevent_date\u001b[0m\u001b[0;34m)\u001b[0m\u001b[0;34m.\u001b[0m\u001b[0mdt\u001b[0m\u001b[0;34m.\u001b[0m\u001b[0mdate\u001b[0m\u001b[0;34m\u001b[0m\u001b[0;34m\u001b[0m\u001b[0m\n\u001b[1;32m      5\u001b[0m \u001b[0;34m\u001b[0m\u001b[0m\n",
      "\u001b[0;31mNameError\u001b[0m: name 'pandas_from_csv_s3' is not defined"
     ]
    }
   ],
   "source": [
    "# Oura Wave 2\n",
    "key = 'bump/oura/wave_2/oura_sleep.csv.gz'\n",
    "df_sleep = pandas_from_csv_s3(bucket, key=key, compression='gzip')\n",
    "df_sleep['date'] = pd.to_datetime(df_sleep.event_date).dt.date\n",
    "\n",
    "key = 'bump/oura/wave_2/oura_activity.csv.gz'\n",
    "df_activity = pandas_from_csv_s3(bucket, key=key, compression='gzip')\n",
    "df_activity['date'] = pd.to_datetime(df_activity.event_date).dt.date\n",
    "\n",
    "key = 'bump/oura/wave_2/oura_readiness.csv.gz'\n",
    "df_readiness = pandas_from_csv_s3(bucket, key=key, compression='gzip')\n",
    "df_readiness['date'] = pd.to_datetime(df_readiness.event_date).dt.date"
   ]
  },
  {
   "cell_type": "code",
   "execution_count": 2,
   "metadata": {},
   "outputs": [
    {
     "ename": "NameError",
     "evalue": "name 'pandas_from_csv_s3' is not defined",
     "output_type": "error",
     "traceback": [
      "\u001b[0;31m---------------------------------------------------------------------------\u001b[0m",
      "\u001b[0;31mNameError\u001b[0m                                 Traceback (most recent call last)",
      "\u001b[0;32m<ipython-input-2-f1ea29302b97>\u001b[0m in \u001b[0;36m<module>\u001b[0;34m\u001b[0m\n\u001b[1;32m      1\u001b[0m \u001b[0;31m# Surveys Wave 2\u001b[0m\u001b[0;34m\u001b[0m\u001b[0;34m\u001b[0m\u001b[0;34m\u001b[0m\u001b[0m\n\u001b[1;32m      2\u001b[0m \u001b[0mkey\u001b[0m \u001b[0;34m=\u001b[0m \u001b[0;34m'bump/app_activities/wave_2/surveys.csv.gz'\u001b[0m\u001b[0;34m\u001b[0m\u001b[0;34m\u001b[0m\u001b[0m\n\u001b[0;32m----> 3\u001b[0;31m \u001b[0mdf_survey\u001b[0m \u001b[0;34m=\u001b[0m \u001b[0mpandas_from_csv_s3\u001b[0m\u001b[0;34m(\u001b[0m\u001b[0mbucket\u001b[0m\u001b[0;34m,\u001b[0m \u001b[0mkey\u001b[0m\u001b[0;34m=\u001b[0m\u001b[0mkey\u001b[0m\u001b[0;34m,\u001b[0m \u001b[0mcompression\u001b[0m\u001b[0;34m=\u001b[0m\u001b[0;34m'gzip'\u001b[0m\u001b[0;34m)\u001b[0m\u001b[0;34m\u001b[0m\u001b[0;34m\u001b[0m\u001b[0m\n\u001b[0m\u001b[1;32m      4\u001b[0m \u001b[0mdf_survey\u001b[0m\u001b[0;34m[\u001b[0m\u001b[0;34m'date'\u001b[0m\u001b[0;34m]\u001b[0m \u001b[0;34m=\u001b[0m \u001b[0mpd\u001b[0m\u001b[0;34m.\u001b[0m\u001b[0mto_datetime\u001b[0m\u001b[0;34m(\u001b[0m\u001b[0mdf_survey\u001b[0m\u001b[0;34m.\u001b[0m\u001b[0mupdated_at\u001b[0m\u001b[0;34m)\u001b[0m\u001b[0;34m.\u001b[0m\u001b[0mdt\u001b[0m\u001b[0;34m.\u001b[0m\u001b[0mdate\u001b[0m\u001b[0;34m\u001b[0m\u001b[0;34m\u001b[0m\u001b[0m\n\u001b[1;32m      5\u001b[0m \u001b[0;34m\u001b[0m\u001b[0m\n",
      "\u001b[0;31mNameError\u001b[0m: name 'pandas_from_csv_s3' is not defined"
     ]
    }
   ],
   "source": [
    "# Surveys Wave 2\n",
    "key = 'bump/app_activities/wave_2/surveys.csv.gz'\n",
    "df_survey = pandas_from_csv_s3(bucket, key=key, compression='gzip')\n",
    "df_survey['date'] = pd.to_datetime(df_survey.updated_at).dt.date\n",
    "\n",
    "key = 'bump/app_activities/wave_2/quick_activities.csv.gz'\n",
    "df_sam = pandas_from_csv_s3(bucket, key=key, compression='gzip')\n",
    "df_sam['date'] = pd.to_datetime(df_sam.event_date).dt.date"
   ]
  },
  {
   "cell_type": "code",
   "execution_count": 3,
   "metadata": {},
   "outputs": [
    {
     "ename": "NameError",
     "evalue": "name 'df_survey' is not defined",
     "output_type": "error",
     "traceback": [
      "\u001b[0;31m---------------------------------------------------------------------------\u001b[0m",
      "\u001b[0;31mNameError\u001b[0m                                 Traceback (most recent call last)",
      "\u001b[0;32m<ipython-input-3-9e7d67553b64>\u001b[0m in \u001b[0;36m<module>\u001b[0;34m\u001b[0m\n\u001b[1;32m      1\u001b[0m \u001b[0;31m# Daily Symptom Survey Questions (1-7 Likert Scale) (See Data Dictionary)\u001b[0m\u001b[0;34m\u001b[0m\u001b[0;34m\u001b[0m\u001b[0;34m\u001b[0m\u001b[0m\n\u001b[0;32m----> 2\u001b[0;31m \u001b[0mnausea\u001b[0m \u001b[0;34m=\u001b[0m \u001b[0mdf_survey\u001b[0m\u001b[0;34m[\u001b[0m\u001b[0mdf_survey\u001b[0m\u001b[0;34m[\u001b[0m\u001b[0;34m'question_id'\u001b[0m\u001b[0;34m]\u001b[0m \u001b[0;34m==\u001b[0m \u001b[0;36m203\u001b[0m\u001b[0;34m]\u001b[0m\u001b[0;34m\u001b[0m\u001b[0;34m\u001b[0m\u001b[0m\n\u001b[0m\u001b[1;32m      3\u001b[0m \u001b[0mfatigue\u001b[0m \u001b[0;34m=\u001b[0m \u001b[0mdf_survey\u001b[0m\u001b[0;34m[\u001b[0m\u001b[0mdf_survey\u001b[0m\u001b[0;34m[\u001b[0m\u001b[0;34m'question_id'\u001b[0m\u001b[0;34m]\u001b[0m \u001b[0;34m==\u001b[0m \u001b[0;36m204\u001b[0m\u001b[0;34m]\u001b[0m\u001b[0;34m\u001b[0m\u001b[0;34m\u001b[0m\u001b[0m\n\u001b[1;32m      4\u001b[0m \u001b[0mmood\u001b[0m \u001b[0;34m=\u001b[0m \u001b[0mdf_survey\u001b[0m\u001b[0;34m[\u001b[0m\u001b[0mdf_survey\u001b[0m\u001b[0;34m[\u001b[0m\u001b[0;34m'question_id'\u001b[0m\u001b[0;34m]\u001b[0m \u001b[0;34m==\u001b[0m \u001b[0;36m205\u001b[0m\u001b[0;34m]\u001b[0m\u001b[0;34m\u001b[0m\u001b[0;34m\u001b[0m\u001b[0m\n\u001b[1;32m      5\u001b[0m \u001b[0mbreath\u001b[0m \u001b[0;34m=\u001b[0m \u001b[0mdf_survey\u001b[0m\u001b[0;34m[\u001b[0m\u001b[0mdf_survey\u001b[0m\u001b[0;34m[\u001b[0m\u001b[0;34m'question_id'\u001b[0m\u001b[0;34m]\u001b[0m \u001b[0;34m==\u001b[0m \u001b[0;36m206\u001b[0m\u001b[0;34m]\u001b[0m\u001b[0;34m\u001b[0m\u001b[0;34m\u001b[0m\u001b[0m\n",
      "\u001b[0;31mNameError\u001b[0m: name 'df_survey' is not defined"
     ]
    }
   ],
   "source": [
    "# Daily Symptom Survey Questions (1-7 Likert Scale) (See Data Dictionary) \n",
    "nausea = df_survey[df_survey['question_id'] == 203]\n",
    "fatigue = df_survey[df_survey['question_id'] == 204]\n",
    "mood = df_survey[df_survey['question_id'] == 205]\n",
    "breath = df_survey[df_survey['question_id'] == 206]\n",
    "swollen = df_survey[df_survey['question_id'] == 207]\n",
    "walk = df_survey[df_survey['question_id'] == 208]\n",
    "remember = df_survey[df_survey['question_id'] == 209]"
   ]
  },
  {
   "cell_type": "code",
   "execution_count": null,
   "metadata": {},
   "outputs": [],
   "source": [
    "walk"
   ]
  },
  {
   "cell_type": "markdown",
   "metadata": {},
   "source": [
    "## Visualizations"
   ]
  },
  {
   "cell_type": "code",
   "execution_count": null,
   "metadata": {},
   "outputs": [],
   "source": [
    "# Plot metric over time\n",
    "# Includes vertical yellow line if birthing data exists\n",
    "#     Blue horizontal line is mean before birth\n",
    "#     Red horizontal line is mean after birth\n",
    "def exploreDataBirthBA(df, col, user_id):\n",
    "    plt.rcParams.update({'figure.max_open_warning': 0})\n",
    "    sns.set_theme(style='darkgrid')\n",
    "    pdf = df.loc[df.user_id == user_id]\n",
    "\n",
    "    \n",
    "    plt.figure(figsize=(12,4))\n",
    "    sns.scatterplot(data=pdf, x='date', y=col, ci=None, color='purple')\n",
    "    sns.lineplot(data=pdf, x='date', y=col, ci=None)\n",
    "\n",
    "    # Plot birthing data if it exists for that user\n",
    "    if (len(df_birth.loc[df_birth.user_id == user_id]) != 0):\n",
    "        birth = df_birth.loc[df_birth.user_id == user_id].reset_index()\n",
    "        plt.axvline(x=birth.date, color = 'y', ls='--')\n",
    "        ymin, ymax = plt.gca().get_ylim()\n",
    "        xmin, xmax = plt.gca().get_xlim()\n",
    "        plt.text(birth.date, ymax, birth['date'][0], fontsize=12, color='y')\n",
    "        \n",
    "        # Dataframe of data before birth\n",
    "        after = pdf[~(pdf['date'] < birth.date[0])]\n",
    "        before = pdf[~(pdf['date'] > birth.date[0])]\n",
    "        before_avg = before[col].mean()\n",
    "        after_avg = after[col].mean()\n",
    "#         print('Pre-birth Average: ', before_avg)\n",
    "#         print('Post-birth Average: ', after_avg)\n",
    "        plt.hlines(y=before_avg, xmin=xmin, xmax=birth.date, color='blue', linestyles='dashdot')\n",
    "        plt.hlines(y=after_avg, xmin=birth.date, xmax=xmax, color='red', linestyles='dashdot')\n",
    "#         sns.lineplot(data=before, x='date', y=col, ci=None, color='r')\n",
    "#         sns.lineplot(data=after, x='date', y=col, ci=None, color='r')\n",
    "\n",
    "    plt.xlabel(''); plt.ylabel(col)\n",
    "    plt.title('User ID: ' + str(user_id))\n",
    "    plt.show()"
   ]
  },
  {
   "cell_type": "code",
   "execution_count": null,
   "metadata": {},
   "outputs": [],
   "source": [
    "df_readiness.columns"
   ]
  },
  {
   "cell_type": "code",
   "execution_count": null,
   "metadata": {},
   "outputs": [],
   "source": [
    "df_sleep['user_id'].unique()"
   ]
  },
  {
   "cell_type": "code",
   "execution_count": null,
   "metadata": {},
   "outputs": [],
   "source": [
    "exploreDataBirthBA(df_sleep, 'hr_average', 40)"
   ]
  },
  {
   "cell_type": "code",
   "execution_count": null,
   "metadata": {},
   "outputs": [],
   "source": [
    "sleep_users_list = df_sleep.user_id.unique()\n",
    "day_num_list = []\n",
    "count = 0\n",
    "for sleep_user in sleep_users_list:\n",
    "    user_start_df = df_sleep.loc[df_sleep.user_id == sleep_user].sort_values(by=\"event_date\")['event_date']\n",
    "    user_birth_df = df_birth.loc[df_birth.user_id == sleep_user]['birth_date']\n",
    "    if len(user_birth_df) > 0:\n",
    "        start_date = user_start_df.iloc[0]\n",
    "        birth_date = user_birth_df.iloc[0]\n",
    "        start_date_object = dt.datetime.strptime(start_date, '%Y-%m-%d %H:%M:%S')\n",
    "        birth_date_object = dt.datetime.strptime(birth_date, '%Y-%m-%d')\n",
    "        day_num = (birth_date_object - start_date_object).days\n",
    "        day_num_list.append(day_num)\n",
    "        if day_num > 150:\n",
    "            count += 1"
   ]
  },
  {
   "cell_type": "code",
   "execution_count": 167,
   "metadata": {},
   "outputs": [
    {
     "name": "stdout",
     "output_type": "stream",
     "text": [
      "Series([], Name: birth_gestage, dtype: object)\n"
     ]
    }
   ],
   "source": []
  },
  {
   "cell_type": "code",
   "execution_count": 170,
   "metadata": {},
   "outputs": [
    {
     "name": "stdout",
     "output_type": "stream",
     "text": [
      "67\n"
     ]
    }
   ],
   "source": [
    "count_gestage = 0\n",
    "for user in sleep_users_list:\n",
    "    gestage = df_birth.loc[df_birth.user_id == user]['birth_gestage']\n",
    "    gestage = gestage[~gestage.isnull()]\n",
    "    if len(gestage) > 0:\n",
    "#         print(f'user id: {user}')\n",
    "#         print(gestage.iloc[0])\n",
    "        count_gestage += 1\n",
    "print(count_gestage)\n",
    "# gestage_time = dt.datetime.strptime(gestage, '%Y-%m-%d %H:%M:%S')"
   ]
  },
  {
   "cell_type": "code",
   "execution_count": 131,
   "metadata": {},
   "outputs": [
    {
     "data": {
      "text/plain": [
       "50"
      ]
     },
     "execution_count": 131,
     "metadata": {},
     "output_type": "execute_result"
    }
   ],
   "source": [
    "count"
   ]
  },
  {
   "cell_type": "code",
   "execution_count": 121,
   "metadata": {},
   "outputs": [
    {
     "data": {
      "text/plain": [
       "(0.0, 20.0)"
      ]
     },
     "execution_count": 121,
     "metadata": {},
     "output_type": "execute_result"
    },
    {
     "data": {
      "image/png": "[encoded data removed]",
      "text/plain": [
       "<Figure size 432x288 with 1 Axes>"
      ]
     },
     "metadata": {},
     "output_type": "display_data"
    }
   ],
   "source": [
    "# the histogram of the data\n",
    "n, bins, patches = plt.hist(x=day_num_list, bins='auto', color='#0504aa',\n",
    "                            alpha=0.7, rwidth=0.85)\n",
    "plt.grid(axis='y', alpha=0.75)\n",
    "plt.xlabel('Number of days')\n",
    "plt.ylabel('Frequency')\n",
    "plt.title('Number of days with available data')\n",
    "maxfreq = n.max()\n",
    "# Set a clean upper y-axis limit.\n",
    "plt.ylim(ymax=np.ceil(maxfreq / 10) * 10 if maxfreq % 10 else maxfreq + 10)"
   ]
  },
  {
   "cell_type": "code",
   "execution_count": 19,
   "metadata": {},
   "outputs": [],
   "source": [
    "user_id_list = df_sleep.user_id.unique()\n",
    "user_id_list.sort()"
   ]
  },
  {
   "cell_type": "code",
   "execution_count": 20,
   "metadata": {},
   "outputs": [
    {
     "data": {
      "text/plain": [
       "array([  28,   29,   30,   31,   37,   38,   39,   40,   41,   42,   44,\n",
       "         45,   47,   53,   54,   55,   62,   64,   65,   66,   67,   68,\n",
       "         70,   74,   79,   80,   81,   82,   84,   86,   89,   90,   91,\n",
       "         94,   95,   97,   98,   99,  100,  101,  103,  105,  106,  107,\n",
       "        110,  114,  115,  117,  120,  122,  123,  124,  127,  135,  136,\n",
       "        137,  139,  140,  141,  143,  144,  158,  159,  161,  165,  166,\n",
       "        167,  168,  170,  173,  174,  185,  186,  187,  190,  191,  192,\n",
       "        193,  194,  195,  196,  199,  200,  202,  206,  212,  216,  217,\n",
       "        218,  219,  220,  221,  225,  234,  238,  239,  240,  241,  243,\n",
       "        244,  246,  247,  254,  255,  256,  257,  273,  275,  279,  280,\n",
       "        281,  289,  290,  291,  292,  293,  404,  405,  406,  407,  408,\n",
       "        409,  410,  428,  429,  431,  471,  581,  591,  594,  595,  596,\n",
       "        600,  603,  604,  605,  615,  622,  734,  737,  750,  963,  966,\n",
       "        969,  972,  975,  976,  977,  978,  980,  983,  984,  985,  987,\n",
       "        988,  989,  992,  997,  998, 1000, 1001, 1002, 1004, 1005, 1014,\n",
       "       1015, 1016, 1018, 1021, 1023, 1024, 1032, 1035, 1037, 1038, 1040,\n",
       "       1041, 1044, 1045, 1047, 1351, 1363, 1366, 1367, 1368, 1369, 1370,\n",
       "       1373, 1374, 1378, 1382, 1383, 1385, 1386, 1387, 1389, 1391, 1393,\n",
       "       1400, 1403, 1422, 1423, 1424, 1425, 1426, 1427, 1429, 1431, 1432,\n",
       "       1435, 1436, 1437, 1439, 1440, 1441, 1442, 1443, 1444, 1445, 1446,\n",
       "       1452, 1453, 1455, 1456, 1658, 1659, 1661, 1695, 1696, 1697, 1698,\n",
       "       1699, 1700, 1701, 1702, 1703, 1704, 1706, 1707, 1708, 1709, 1710,\n",
       "       1711, 1712, 1714, 1715, 1716, 1717, 1719, 1720, 1721, 1723, 1724,\n",
       "       1728, 1729, 1730, 1731, 1743, 1744, 1745, 1747, 1749, 1750, 1753,\n",
       "       1757, 1759])"
      ]
     },
     "execution_count": 20,
     "metadata": {},
     "output_type": "execute_result"
    }
   ],
   "source": [
    "user_id_list"
   ]
  },
  {
   "cell_type": "code",
   "execution_count": 22,
   "metadata": {},
   "outputs": [],
   "source": [
    "cols = [\n",
    "    \"user_id\",\n",
    "    \"hr_average\",\n",
    "    \"score\",\n",
    "    \"temperature_delta\",\n",
    "    \"date\",\n",
    "    \"peripheral_fluid\",\n",
    "    \"weight_kg\"\n",
    "]\n",
    "# univariant time series problem\n",
    "# z score normalization\n",
    "# df_sleep\n",
    "# df_bodyport\n",
    "# df_oura"
   ]
  },
  {
   "cell_type": "code",
   "execution_count": 44,
   "metadata": {},
   "outputs": [],
   "source": [
    "def get_user(user_id, state, end):\n",
    "    user_sleep = df_sleep[df_sleep.user_id == user_id].dropna()\n",
    "    user_bp = df_bodyport[df_bodyport.user_id == user_id].dropna()\n",
    "    user_walk = walk[walk.user_id == user_id].dropna()\n",
    "    user_walk = user_walk[[\"answer_text\", \"date\"]].rename(columns={\"answer_text\" : \"walk\"})\n",
    "    user_walk[\"walk\"] = user_walk[\"walk\"].astype(int)\n",
    "    user_fatigue = fatigue[fatigue.user_id == user_id].dropna()[[\"answer_text\", \"date\"]].rename(columns={\"answer_text\" : \"fatigue\"})\n",
    "    user_fatigue[\"fatigue\"] = user_fatigue[\"fatigue\"].astype(int)\n",
    "    df2 = pd.merge(user_sleep, user_bp, on=\"date\")\n",
    "    df2 = pd.merge(df2, user_fatigue, on=\"date\", how=\"outer\")\n",
    "    df2 = pd.merge(df2, user_walk, on=\"date\", how=\"outer\")\n",
    "    df2.set_index(df2[\"date\"], inplace=True)\n",
    "    df2.sort_index(inplace=True)\n",
    "    mask = pd.to_datetime(df2[\"date\"]).between(start.astype(str)[0], end.astype(str)[0], inclusive=True)\n",
    "    user_df = df2[mask]\n",
    "    return user_df\n",
    "from datetime import timedelta\n",
    "users = []\n",
    "births = []\n",
    "for user_id in df_sleep.user_id.unique():\n",
    "    birth = df_birth.loc[df_birth.user_id == user_id].reset_index()\n",
    "    birthdate = birth[\"date\"]\n",
    "    if len(birth) > 0:\n",
    "        start = birthdate - pd.to_timedelta(300, unit='d') # pd.to_timedelta(100, unit='d')\n",
    "        end = birthdate + pd.to_timedelta(0, unit='d')\n",
    "        date_range = pd.date_range(start[0], end[0]-timedelta(days=1), freq='d')\n",
    "        df = get_user(user_id, start, end)\n",
    "        dr = pd.DataFrame()\n",
    "        dr[\"d\"] = date_range.date\n",
    "        dr.set_index(dr.d, inplace=True)\n",
    "        df = dr.join(df)\n",
    "        if len(df) > 20: # If person has 20 measurements at least\n",
    "            df.set_index(df.d - df.d.min(), inplace=True)\n",
    "            df = df.resample(\"D\").mean()\n",
    "            df.set_index(df.index.days, inplace=True)\n",
    "            df = df.interpolate(\"linear\", 0)\n",
    "            users.append(df.fillna(df.mean(0)))\n",
    "            births.append(birth)"
   ]
  },
  {
   "cell_type": "code",
   "execution_count": 45,
   "metadata": {},
   "outputs": [
    {
     "data": {
      "text/plain": [
       "74"
      ]
     },
     "execution_count": 45,
     "metadata": {},
     "output_type": "execute_result"
    }
   ],
   "source": [
    "len(users)"
   ]
  },
  {
   "cell_type": "code",
   "execution_count": 34,
   "metadata": {},
   "outputs": [
    {
     "name": "stdout",
     "output_type": "stream",
     "text": [
      "Collecting ruptures\n",
      "  Downloading ruptures-1.1.6-cp36-cp36m-manylinux_2_17_x86_64.manylinux2014_x86_64.whl (995 kB)\n",
      "\u001b[K     |████████████████████████████████| 995 kB 28.5 MB/s eta 0:00:01\n",
      "\u001b[?25hRequirement already satisfied, skipping upgrade: numpy in /opt/conda/lib/python3.6/site-packages (from ruptures) (1.18.2)\n",
      "Requirement already satisfied, skipping upgrade: scipy in /opt/conda/lib/python3.6/site-packages (from ruptures) (1.4.1)\n",
      "Installing collected packages: ruptures\n",
      "Successfully installed ruptures-1.1.6\n",
      "\u001b[33mWARNING: You are using pip version 20.1; however, version 21.3.1 is available.\n",
      "You should consider upgrading via the '/opt/conda/bin/python -m pip install --upgrade pip' command.\u001b[0m\n"
     ]
    }
   ],
   "source": [
    "!pip install ruptures --upgrade --user"
   ]
  },
  {
   "cell_type": "code",
   "execution_count": 35,
   "metadata": {},
   "outputs": [
    {
     "ename": "AttributeError",
     "evalue": "module 'numpy.random' has no attribute 'default_rng'",
     "output_type": "error",
     "traceback": [
      "\u001b[0;31m---------------------------------------------------------------------------\u001b[0m",
      "\u001b[0;31mAttributeError\u001b[0m                            Traceback (most recent call last)",
      "\u001b[0;32m<ipython-input-35-33e571d02a94>\u001b[0m in \u001b[0;36m<module>\u001b[0;34m\u001b[0m\n\u001b[1;32m      5\u001b[0m \u001b[0mn_samples\u001b[0m\u001b[0;34m,\u001b[0m \u001b[0mdim\u001b[0m\u001b[0;34m,\u001b[0m \u001b[0msigma\u001b[0m \u001b[0;34m=\u001b[0m \u001b[0;36m1000\u001b[0m\u001b[0;34m,\u001b[0m \u001b[0;36m3\u001b[0m\u001b[0;34m,\u001b[0m \u001b[0;36m4\u001b[0m\u001b[0;34m\u001b[0m\u001b[0;34m\u001b[0m\u001b[0m\n\u001b[1;32m      6\u001b[0m \u001b[0mn_bkps\u001b[0m \u001b[0;34m=\u001b[0m \u001b[0;36m4\u001b[0m  \u001b[0;31m# number of breakpoints\u001b[0m\u001b[0;34m\u001b[0m\u001b[0;34m\u001b[0m\u001b[0m\n\u001b[0;32m----> 7\u001b[0;31m \u001b[0msignal\u001b[0m\u001b[0;34m,\u001b[0m \u001b[0mbkps\u001b[0m \u001b[0;34m=\u001b[0m \u001b[0mrpt\u001b[0m\u001b[0;34m.\u001b[0m\u001b[0mpw_constant\u001b[0m\u001b[0;34m(\u001b[0m\u001b[0mn_samples\u001b[0m\u001b[0;34m,\u001b[0m \u001b[0mdim\u001b[0m\u001b[0;34m,\u001b[0m \u001b[0mn_bkps\u001b[0m\u001b[0;34m,\u001b[0m \u001b[0mnoise_std\u001b[0m\u001b[0;34m=\u001b[0m\u001b[0msigma\u001b[0m\u001b[0;34m)\u001b[0m\u001b[0;34m\u001b[0m\u001b[0;34m\u001b[0m\u001b[0m\n\u001b[0m\u001b[1;32m      8\u001b[0m \u001b[0;34m\u001b[0m\u001b[0m\n\u001b[1;32m      9\u001b[0m \u001b[0;31m# detection\u001b[0m\u001b[0;34m\u001b[0m\u001b[0;34m\u001b[0m\u001b[0;34m\u001b[0m\u001b[0m\n",
      "\u001b[0;32m~/.local/lib/python3.6/site-packages/ruptures/datasets/pw_constant.py\u001b[0m in \u001b[0;36mpw_constant\u001b[0;34m(n_samples, n_features, n_bkps, noise_std, delta, seed)\u001b[0m\n\u001b[1;32m     23\u001b[0m     \"\"\"\n\u001b[1;32m     24\u001b[0m     \u001b[0;31m# breakpoints\u001b[0m\u001b[0;34m\u001b[0m\u001b[0;34m\u001b[0m\u001b[0;34m\u001b[0m\u001b[0m\n\u001b[0;32m---> 25\u001b[0;31m     \u001b[0mbkps\u001b[0m \u001b[0;34m=\u001b[0m \u001b[0mdraw_bkps\u001b[0m\u001b[0;34m(\u001b[0m\u001b[0mn_samples\u001b[0m\u001b[0;34m,\u001b[0m \u001b[0mn_bkps\u001b[0m\u001b[0;34m,\u001b[0m \u001b[0mseed\u001b[0m\u001b[0;34m=\u001b[0m\u001b[0mseed\u001b[0m\u001b[0;34m)\u001b[0m\u001b[0;34m\u001b[0m\u001b[0;34m\u001b[0m\u001b[0m\n\u001b[0m\u001b[1;32m     26\u001b[0m     \u001b[0;31m# we create the signal\u001b[0m\u001b[0;34m\u001b[0m\u001b[0;34m\u001b[0m\u001b[0;34m\u001b[0m\u001b[0m\n\u001b[1;32m     27\u001b[0m     \u001b[0msignal\u001b[0m \u001b[0;34m=\u001b[0m \u001b[0mnp\u001b[0m\u001b[0;34m.\u001b[0m\u001b[0mempty\u001b[0m\u001b[0;34m(\u001b[0m\u001b[0;34m(\u001b[0m\u001b[0mn_samples\u001b[0m\u001b[0;34m,\u001b[0m \u001b[0mn_features\u001b[0m\u001b[0;34m)\u001b[0m\u001b[0;34m,\u001b[0m \u001b[0mdtype\u001b[0m\u001b[0;34m=\u001b[0m\u001b[0mfloat\u001b[0m\u001b[0;34m)\u001b[0m\u001b[0;34m\u001b[0m\u001b[0;34m\u001b[0m\u001b[0m\n",
      "\u001b[0;32m~/.local/lib/python3.6/site-packages/ruptures/utils/drawbkps.py\u001b[0m in \u001b[0;36mdraw_bkps\u001b[0;34m(n_samples, n_bkps, seed)\u001b[0m\n\u001b[1;32m      7\u001b[0m     \"\"\"Draw a random partition with specified number of samples and specified\n\u001b[1;32m      8\u001b[0m     number of changes.\"\"\"\n\u001b[0;32m----> 9\u001b[0;31m     \u001b[0mrng\u001b[0m \u001b[0;34m=\u001b[0m \u001b[0mnp\u001b[0m\u001b[0;34m.\u001b[0m\u001b[0mrandom\u001b[0m\u001b[0;34m.\u001b[0m\u001b[0mdefault_rng\u001b[0m\u001b[0;34m(\u001b[0m\u001b[0mseed\u001b[0m\u001b[0;34m=\u001b[0m\u001b[0mseed\u001b[0m\u001b[0;34m)\u001b[0m\u001b[0;34m\u001b[0m\u001b[0;34m\u001b[0m\u001b[0m\n\u001b[0m\u001b[1;32m     10\u001b[0m     \u001b[0malpha\u001b[0m \u001b[0;34m=\u001b[0m \u001b[0mnp\u001b[0m\u001b[0;34m.\u001b[0m\u001b[0mones\u001b[0m\u001b[0;34m(\u001b[0m\u001b[0mn_bkps\u001b[0m \u001b[0;34m+\u001b[0m \u001b[0;36m1\u001b[0m\u001b[0;34m)\u001b[0m \u001b[0;34m/\u001b[0m \u001b[0;34m(\u001b[0m\u001b[0mn_bkps\u001b[0m \u001b[0;34m+\u001b[0m \u001b[0;36m1\u001b[0m\u001b[0;34m)\u001b[0m \u001b[0;34m*\u001b[0m \u001b[0;36m2000\u001b[0m\u001b[0;34m\u001b[0m\u001b[0;34m\u001b[0m\u001b[0m\n\u001b[1;32m     11\u001b[0m     \u001b[0mbkps\u001b[0m \u001b[0;34m=\u001b[0m \u001b[0mnp\u001b[0m\u001b[0;34m.\u001b[0m\u001b[0mcumsum\u001b[0m\u001b[0;34m(\u001b[0m\u001b[0mrng\u001b[0m\u001b[0;34m.\u001b[0m\u001b[0mdirichlet\u001b[0m\u001b[0;34m(\u001b[0m\u001b[0malpha\u001b[0m\u001b[0;34m)\u001b[0m \u001b[0;34m*\u001b[0m \u001b[0mn_samples\u001b[0m\u001b[0;34m)\u001b[0m\u001b[0;34m.\u001b[0m\u001b[0mastype\u001b[0m\u001b[0;34m(\u001b[0m\u001b[0mint\u001b[0m\u001b[0;34m)\u001b[0m\u001b[0;34m.\u001b[0m\u001b[0mtolist\u001b[0m\u001b[0;34m(\u001b[0m\u001b[0;34m)\u001b[0m\u001b[0;34m\u001b[0m\u001b[0;34m\u001b[0m\u001b[0m\n",
      "\u001b[0;31mAttributeError\u001b[0m: module 'numpy.random' has no attribute 'default_rng'"
     ]
    }
   ],
   "source": [
    "import matplotlib.pyplot as plt\n",
    "import ruptures as rpt\n",
    "\n",
    "# generate signal\n",
    "n_samples, dim, sigma = 1000, 3, 4\n",
    "n_bkps = 4  # number of breakpoints\n",
    "signal, bkps = rpt.pw_constant(n_samples, dim, n_bkps, noise_std=sigma)\n",
    "\n",
    "# detection\n",
    "algo = rpt.Pelt(model=\"rbf\").fit(signal)\n",
    "result = algo.predict(pen=10)\n",
    "\n",
    "# display\n",
    "rpt.display(signal, bkps, result)\n",
    "plt.show()"
   ]
  },
  {
   "cell_type": "code",
   "execution_count": null,
   "metadata": {},
   "outputs": [],
   "source": []
  }
 ],
 "metadata": {
  "kernelspec": {
   "display_name": "Python 3.9.16 64-bit ('myenv': conda)",
   "language": "python",
   "name": "python391664bitmyenvcondac91407650cb346e5ae08b4a0d62a0b53"
  },
  "language_info": {
   "codemirror_mode": {
    "name": "ipython",
    "version": 3
   },
   "file_extension": ".py",
   "mimetype": "text/x-python",
   "name": "python",
   "nbconvert_exporter": "python",
   "pygments_lexer": "ipython3",
   "version": "3.9.16-final"
  }
 },
 "nbformat": 4,
 "nbformat_minor": 4
}
