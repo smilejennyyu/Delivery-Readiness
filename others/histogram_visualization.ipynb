{
 "cells": [
  {
   "cell_type": "markdown",
   "metadata": {},
   "source": [
    "# Imports"
   ]
  },
  {
   "cell_type": "code",
   "execution_count": 1,
   "metadata": {},
   "outputs": [
    {
     "name": "stdout",
     "output_type": "stream",
     "text": [
      "Requirement already satisfied: boto3 in /home/ubuntu/.local/lib/python3.6/site-packages (1.23.10)\n",
      "Requirement already satisfied: jmespath<2.0.0,>=0.7.1 in /home/ubuntu/.local/lib/python3.6/site-packages (from boto3) (0.10.0)\n",
      "Requirement already satisfied: s3transfer<0.6.0,>=0.5.0 in /home/ubuntu/.local/lib/python3.6/site-packages (from boto3) (0.5.2)\n",
      "Requirement already satisfied: botocore<1.27.0,>=1.26.10 in /home/ubuntu/.local/lib/python3.6/site-packages (from boto3) (1.26.10)\n",
      "Requirement already satisfied: urllib3<1.27,>=1.25.4 in /opt/conda/lib/python3.6/site-packages (from botocore<1.27.0,>=1.26.10->boto3) (1.25.8)\n",
      "Requirement already satisfied: python-dateutil<3.0.0,>=2.1 in /opt/conda/lib/python3.6/site-packages (from botocore<1.27.0,>=1.26.10->boto3) (2.8.1)\n",
      "Requirement already satisfied: six>=1.5 in /opt/conda/lib/python3.6/site-packages (from python-dateutil<3.0.0,>=2.1->botocore<1.27.0,>=1.26.10->boto3) (1.14.0)\n",
      "\u001b[33mWARNING: You are using pip version 20.1; however, version 21.3.1 is available.\n",
      "You should consider upgrading via the '/opt/conda/bin/python -m pip install --upgrade pip' command.\u001b[0m\n"
     ]
    }
   ],
   "source": [
    "# Run Twice\n",
    "import sys\n",
    "sys.executable\n",
    "!/opt/conda/bin/python -m pip install boto3 --user"
   ]
  },
  {
   "cell_type": "code",
   "execution_count": 2,
   "metadata": {},
   "outputs": [
    {
     "name": "stdout",
     "output_type": "stream",
     "text": [
      "Requirement already satisfied: psycopg2 in /opt/conda/lib/python3.6/site-packages (2.9.3)\n",
      "\u001b[33mWARNING: You are using pip version 20.1; however, version 21.3.1 is available.\n",
      "You should consider upgrading via the '/opt/conda/bin/python -m pip install --upgrade pip' command.\u001b[0m\n",
      "Note: you may need to restart the kernel to use updated packages.\n"
     ]
    }
   ],
   "source": [
    "pip install psycopg2"
   ]
  },
  {
   "cell_type": "code",
   "execution_count": 3,
   "metadata": {},
   "outputs": [
    {
     "name": "stdout",
     "output_type": "stream",
     "text": [
      "Requirement already up-to-date: seaborn in /home/ubuntu/.local/lib/python3.6/site-packages (0.11.2)\n",
      "Requirement already satisfied, skipping upgrade: scipy>=1.0 in /home/ubuntu/.local/lib/python3.6/site-packages (from seaborn) (1.5.4)\n",
      "Requirement already satisfied, skipping upgrade: matplotlib>=2.2 in /opt/conda/lib/python3.6/site-packages (from seaborn) (2.2.5)\n",
      "Requirement already satisfied, skipping upgrade: pandas>=0.23 in /opt/conda/lib/python3.6/site-packages (from seaborn) (0.25.3)\n",
      "Requirement already satisfied, skipping upgrade: numpy>=1.15 in /home/ubuntu/.local/lib/python3.6/site-packages (from seaborn) (1.19.5)\n",
      "Requirement already satisfied, skipping upgrade: kiwisolver>=1.0.1 in /opt/conda/lib/python3.6/site-packages (from matplotlib>=2.2->seaborn) (1.1.0)\n",
      "Requirement already satisfied, skipping upgrade: pytz in /opt/conda/lib/python3.6/site-packages (from matplotlib>=2.2->seaborn) (2018.9)\n",
      "Requirement already satisfied, skipping upgrade: pyparsing!=2.0.4,!=2.1.2,!=2.1.6,>=2.0.1 in /opt/conda/lib/python3.6/site-packages (from matplotlib>=2.2->seaborn) (2.4.6)\n",
      "Requirement already satisfied, skipping upgrade: cycler>=0.10 in /opt/conda/lib/python3.6/site-packages (from matplotlib>=2.2->seaborn) (0.10.0)\n",
      "Requirement already satisfied, skipping upgrade: python-dateutil>=2.1 in /opt/conda/lib/python3.6/site-packages (from matplotlib>=2.2->seaborn) (2.8.1)\n",
      "Requirement already satisfied, skipping upgrade: six>=1.10 in /opt/conda/lib/python3.6/site-packages (from matplotlib>=2.2->seaborn) (1.14.0)\n",
      "Requirement already satisfied, skipping upgrade: setuptools in /opt/conda/lib/python3.6/site-packages (from kiwisolver>=1.0.1->matplotlib>=2.2->seaborn) (46.1.3.post20200330)\n",
      "\u001b[33mWARNING: You are using pip version 20.1; however, version 21.3.1 is available.\n",
      "You should consider upgrading via the '/opt/conda/bin/python -m pip install --upgrade pip' command.\u001b[0m\n"
     ]
    }
   ],
   "source": [
    "# Requires kernal restart\n",
    "!pip install seaborn --upgrade --user"
   ]
  },
  {
   "cell_type": "code",
   "execution_count": 4,
   "metadata": {},
   "outputs": [
    {
     "name": "stdout",
     "output_type": "stream",
     "text": [
      "Requirement already satisfied: pytimeparse in /opt/conda/lib/python3.6/site-packages (1.1.8)\n",
      "\u001b[33mWARNING: You are using pip version 20.1; however, version 21.3.1 is available.\n",
      "You should consider upgrading via the '/opt/conda/bin/python -m pip install --upgrade pip' command.\u001b[0m\n"
     ]
    }
   ],
   "source": [
    "# timedelta conversion\n",
    "!pip install pytimeparse"
   ]
  },
  {
   "cell_type": "code",
   "execution_count": 5,
   "metadata": {},
   "outputs": [
    {
     "data": {
      "text/plain": [
       "'0.11.2'"
      ]
     },
     "execution_count": 5,
     "metadata": {},
     "output_type": "execute_result"
    }
   ],
   "source": [
    "import numpy as np\n",
    "import pandas as pd\n",
    "import boto3\n",
    "import json\n",
    "import os\n",
    "import ast\n",
    "import csv\n",
    "import io\n",
    "from io import StringIO, BytesIO, TextIOWrapper\n",
    "import gzip\n",
    "from datetime import datetime, date\n",
    "from s3_utils import *\n",
    "import matplotlib.pyplot as plt\n",
    "import seaborn as sns\n",
    "from pytimeparse.timeparse import timeparse\n",
    "import datetime as dt\n",
    "import ast\n",
    "sns.__version__"
   ]
  },
  {
   "cell_type": "markdown",
   "metadata": {},
   "source": [
    "# S3 Buckets"
   ]
  },
  {
   "cell_type": "code",
   "execution_count": 6,
   "metadata": {},
   "outputs": [],
   "source": [
    "# Define s3 bucket\n",
    "bucket = 'fouryouandme-study-data'\n",
    "\n",
    "#List s3 keys\n",
    "# get_matching_s3_keys(bucket, prefix='bump/') #Remove prefix to view non-BUMP data"
   ]
  },
  {
   "cell_type": "markdown",
   "metadata": {},
   "source": [
    "## Dataframe Imports"
   ]
  },
  {
   "cell_type": "code",
   "execution_count": 7,
   "metadata": {},
   "outputs": [],
   "source": [
    "# Study IDs\n",
    "\n",
    "key = 'bump/redcap/wave_2/study_ids.csv.gz'\n",
    "df_studyID = pandas_from_csv_s3(bucket, key=key, compression='gzip')"
   ]
  },
  {
   "cell_type": "code",
   "execution_count": 8,
   "metadata": {},
   "outputs": [],
   "source": [
    "# Birthing Data\n",
    "key = 'bump/redcap/wave_2/birthing_data_cohort_2_only.csv.gz'\n",
    "df_birth = pandas_from_csv_s3(bucket, key=key, compression='gzip')\n",
    "df_birth['date'] = pd.to_datetime(df_birth.birth_date).dt.date"
   ]
  },
  {
   "cell_type": "code",
   "execution_count": 9,
   "metadata": {},
   "outputs": [],
   "source": [
    "# Some dataframes use 'record_id' instead of 'user_id'. \n",
    "# You'll need to match it up with df_studyID where'evidation_id' is 'user_id'\n",
    "# NOTE: Very few examples of this. Birthing data is the important one\n",
    "\n",
    "\n",
    "df_birth = pd.merge(df_birth, df_studyID, on='record_id')\n",
    "df_birth['user_id'] = df_birth.evidation_id\n",
    "\n",
    "# There is a missing value in the birthing data. I'm removing it here\n",
    "df_birth = df_birth.drop(index=50)\n"
   ]
  },
  {
   "cell_type": "code",
   "execution_count": 10,
   "metadata": {},
   "outputs": [],
   "source": [
    "# Bodyport Wave 2\n",
    "key = 'bump/bodyport/wave_2/bodyport.csv.gz'\n",
    "df_bodyport = pandas_from_csv_s3(bucket, key=key, compression='gzip')\n",
    "# OPTIONAL: Convert date format\n",
    "df_bodyport['date'] = pd.to_datetime(df_bodyport.event_date).dt.date "
   ]
  },
  {
   "cell_type": "code",
   "execution_count": 11,
   "metadata": {},
   "outputs": [],
   "source": [
    "# Garmin Wave 2\n",
    "key = 'bump/garmin/wave_2/garmin_activities.csv.gz'\n",
    "df_gAct = pandas_from_csv_s3(bucket, key=key, compression='gzip')\n",
    "df_gAct['date'] = pd.to_datetime(df_gAct.event_date).dt.date\n",
    "\n",
    "key = 'bump/garmin/wave_2/garmin_dailies.csv.gz'\n",
    "df_gDaily = pandas_from_csv_s3(bucket, key=key, compression='gzip')\n",
    "df_gDaily['date'] = pd.to_datetime(df_gDaily.event_date).dt.date\n",
    "\n",
    "key = 'bump/garmin/wave_2/garmin_pulse_ox.csv.gz'\n",
    "df_gPulse = pandas_from_csv_s3(bucket, key=key, compression='gzip')\n",
    "df_gPulse['date'] = pd.to_datetime(df_gPulse.event_date).dt.date\n",
    "\n",
    "key = 'bump/garmin/wave_2/garmin_respiration.csv.gz'\n",
    "df_gResp = pandas_from_csv_s3(bucket, key=key, compression='gzip')\n",
    "df_gResp['date'] = pd.to_datetime(df_gResp.event_date).dt.date\n",
    "\n",
    "key = 'bump/garmin/wave_2/garmin_user_metrics.csv.gz'\n",
    "df_gUser = pandas_from_csv_s3(bucket, key=key, compression='gzip')\n",
    "df_gUser['date'] = pd.to_datetime(df_gUser.event_date).dt.date"
   ]
  },
  {
   "cell_type": "code",
   "execution_count": 12,
   "metadata": {},
   "outputs": [],
   "source": [
    "# Oura Wave 2\n",
    "key = 'bump/oura/wave_2/oura_sleep.csv.gz'\n",
    "df_sleep = pandas_from_csv_s3(bucket, key=key, compression='gzip')\n",
    "df_sleep['date'] = pd.to_datetime(df_sleep.event_date).dt.date\n",
    "\n",
    "key = 'bump/oura/wave_2/oura_activity.csv.gz'\n",
    "df_activity = pandas_from_csv_s3(bucket, key=key, compression='gzip')\n",
    "df_activity['date'] = pd.to_datetime(df_activity.event_date).dt.date\n",
    "\n",
    "key = 'bump/oura/wave_2/oura_readiness.csv.gz'\n",
    "df_readiness = pandas_from_csv_s3(bucket, key=key, compression='gzip')\n",
    "df_readiness['date'] = pd.to_datetime(df_readiness.event_date).dt.date"
   ]
  },
  {
   "cell_type": "code",
   "execution_count": 13,
   "metadata": {},
   "outputs": [],
   "source": [
    "# Surveys Wave 2\n",
    "key = 'bump/app_activities/wave_2/surveys.csv.gz'\n",
    "df_survey = pandas_from_csv_s3(bucket, key=key, compression='gzip')\n",
    "df_survey['date'] = pd.to_datetime(df_survey.updated_at).dt.date\n",
    "\n",
    "key = 'bump/app_activities/wave_2/quick_activities.csv.gz'\n",
    "df_sam = pandas_from_csv_s3(bucket, key=key, compression='gzip')\n",
    "df_sam['date'] = pd.to_datetime(df_sam.event_date).dt.date"
   ]
  },
  {
   "cell_type": "code",
   "execution_count": 14,
   "metadata": {},
   "outputs": [],
   "source": [
    "# Daily Symptom Survey Questions (1-7 Likert Scale) (See Data Dictionary) \n",
    "nausea = df_survey[df_survey['question_id'] == 203]\n",
    "fatigue = df_survey[df_survey['question_id'] == 204]\n",
    "mood = df_survey[df_survey['question_id'] == 205]\n",
    "breath = df_survey[df_survey['question_id'] == 206]\n",
    "swollen = df_survey[df_survey['question_id'] == 207]\n",
    "walk = df_survey[df_survey['question_id'] == 208]\n",
    "remember = df_survey[df_survey['question_id'] == 209]"
   ]
  },
  {
   "cell_type": "markdown",
   "metadata": {},
   "source": [
    "## Visualizations"
   ]
  },
  {
   "cell_type": "code",
   "execution_count": 15,
   "metadata": {},
   "outputs": [],
   "source": [
    "# Plot metric over time\n",
    "# Includes vertical yellow line if birthing data exists\n",
    "#     Blue horizontal line is mean before birth\n",
    "#     Red horizontal line is mean after birth\n",
    "def exploreDataBirthBA(df, col, user_id):\n",
    "    plt.rcParams.update({'figure.max_open_warning': 0})\n",
    "    sns.set_theme(style='darkgrid')\n",
    "    pdf = df.loc[df.user_id == user_id]\n",
    "\n",
    "    \n",
    "    plt.figure(figsize=(12,4))\n",
    "    sns.scatterplot(data=pdf, x='date', y=col, ci=None, color='purple')\n",
    "    sns.lineplot(data=pdf, x='date', y=col, ci=None)\n",
    "\n",
    "    # Plot birthing data if it exists for that user\n",
    "    if (len(df_birth.loc[df_birth.user_id == user_id]) != 0):\n",
    "        birth = df_birth.loc[df_birth.user_id == user_id].reset_index()\n",
    "        plt.axvline(x=birth.date, color = 'y', ls='--')\n",
    "        ymin, ymax = plt.gca().get_ylim()\n",
    "        xmin, xmax = plt.gca().get_xlim()\n",
    "        plt.text(birth.date, ymax, birth['date'][0], fontsize=12, color='y')\n",
    "        \n",
    "        # Dataframe of data before birth\n",
    "        after = pdf[~(pdf['date'] < birth.date[0])]\n",
    "        before = pdf[~(pdf['date'] > birth.date[0])]\n",
    "        before_avg = before[col].mean()\n",
    "        after_avg = after[col].mean()\n",
    "#         print('Pre-birth Average: ', before_avg)\n",
    "#         print('Post-birth Average: ', after_avg)\n",
    "        plt.hlines(y=before_avg, xmin=xmin, xmax=birth.date, color='blue', linestyles='dashdot')\n",
    "        plt.hlines(y=after_avg, xmin=birth.date, xmax=xmax, color='red', linestyles='dashdot')\n",
    "#         sns.lineplot(data=before, x='date', y=col, ci=None, color='r')\n",
    "#         sns.lineplot(data=after, x='date', y=col, ci=None, color='r')\n",
    "\n",
    "    plt.xlabel(''); plt.ylabel(col)\n",
    "    plt.title('User ID: ' + str(user_id))\n",
    "    plt.show"
   ]
  },
  {
   "cell_type": "code",
   "execution_count": 18,
   "metadata": {},
   "outputs": [
    {
     "data": {
      "image/png": "[encoded data removed]",
      "text/plain": [
       "<Figure size 864x288 with 1 Axes>"
      ]
     },
     "metadata": {},
     "output_type": "display_data"
    }
   ],
   "source": [
    "exploreDataBirthBA(df_sleep, 'hr_average', 28)"
   ]
  },
  {
   "cell_type": "code",
   "execution_count": 55,
   "metadata": {},
   "outputs": [
    {
     "data": {
      "image/png": "[encoded data removed]",
      "text/plain": [
       "<Figure size 864x288 with 1 Axes>"
      ]
     },
     "metadata": {},
     "output_type": "display_data"
    }
   ],
   "source": [
    "exploreDataBirthBA(df_sleep, 'hr_average', 404)"
   ]
  },
  {
   "cell_type": "code",
   "execution_count": 20,
   "metadata": {},
   "outputs": [
    {
     "data": {
      "text/plain": [
       "array([  28.,   29.,   30., 1018.,   37.,   38.,   39.,   40.,   41.,\n",
       "         42.,   44.,   45.,   47.,   53.,   54.,   55.,   61.,   62.,\n",
       "         64.,   65.,   66.,   67.,   68.,   70.,   74., 1016.,   94.,\n",
       "         95.,   99.,  101.,  118., 1365.,  135.,  137., 1014.,  158.,\n",
       "        159., 1022.,  174.,  185.,  186.,  192.,  193.,  199.,  200.,\n",
       "       1021.,  976.,  225., 1004.,  234.,  975.,  279.,  280.,  289.,\n",
       "        290.,  293.,  404.,  405.,  406.,  407.,  408.,  410.,  977.,\n",
       "       1047.,  428.,  429.,   nan,  980.,  594.,  595.,  596.,  599.,\n",
       "        600.,  605.,  615.,  622., 1659.,  963.,  966.,  985.])"
      ]
     },
     "execution_count": 20,
     "metadata": {},
     "output_type": "execute_result"
    }
   ],
   "source": [
    "df_birth.user_id.unique()"
   ]
  },
  {
   "cell_type": "code",
   "execution_count": 19,
   "metadata": {},
   "outputs": [],
   "source": [
    "sleep_users_list = df_sleep.user_id.unique()\n",
    "day_num_list = []\n",
    "count = 0\n",
    "for sleep_user in sleep_users_list:\n",
    "    user_start_df = df_sleep.loc[df_sleep.user_id == sleep_user].sort_values(by=\"event_date\")['event_date']\n",
    "    user_birth_df = df_birth.loc[df_birth.user_id == sleep_user]['birth_date']\n",
    "    if len(user_birth_df) > 0:\n",
    "        start_date = user_start_df.iloc[0]\n",
    "        birth_date = user_birth_df.iloc[0]\n",
    "        start_date_object = dt.datetime.strptime(start_date, '%Y-%m-%d %H:%M:%S')\n",
    "        birth_date_object = dt.datetime.strptime(birth_date, '%Y-%m-%d')\n",
    "        day_num = (birth_date_object - start_date_object).days\n",
    "        day_num_list.append(day_num)\n",
    "        if day_num > 150:\n",
    "            count += 1"
   ]
  },
  {
   "cell_type": "code",
   "execution_count": 20,
   "metadata": {},
   "outputs": [
    {
     "data": {
      "text/plain": [
       "(0.0, 20.0)"
      ]
     },
     "execution_count": 20,
     "metadata": {},
     "output_type": "execute_result"
    },
    {
     "data": {
      "image/png": "[encoded data removed]",
      "text/plain": [
       "<Figure size 432x288 with 1 Axes>"
      ]
     },
     "metadata": {},
     "output_type": "display_data"
    }
   ],
   "source": [
    "# the histogram of the data\n",
    "n, bins, patches = plt.hist(x=day_num_list, bins='auto', color='#0504aa',\n",
    "                            alpha=0.7, rwidth=0.85)\n",
    "plt.grid(axis='y', alpha=0.75)\n",
    "plt.xlabel('Number of days')\n",
    "plt.ylabel('Frequency')\n",
    "plt.title('Number of days with available data')\n",
    "maxfreq = n.max()\n",
    "# Set a clean upper y-axis limit.\n",
    "plt.ylim(ymax=np.ceil(maxfreq / 10) * 10 if maxfreq % 10 else maxfreq + 10)"
   ]
  },
  {
   "cell_type": "code",
   "execution_count": 26,
   "metadata": {},
   "outputs": [
    {
     "name": "stdout",
     "output_type": "stream",
     "text": [
      "12 days, 0:00:00\n",
      "12 days, 0:00:00\n",
      "12 days, 0:00:00\n",
      "12 days, 0:00:00\n",
      "12 days, 0:00:00\n",
      "7 days, 0:00:00\n"
     ]
    }
   ],
   "source": [
    "SECONDS_PER_WEEK = 604800\n",
    "SECONDS_PER_DAY = 86400\n",
    "\n",
    "\n",
    "def convert_no_char_string_to_time_delta(val, delimiter):\n",
    "    val_ls = val.split(delimiter)\n",
    "    weeks = int(val_ls[0].strip())\n",
    "    days = int(val_ls[1].strip())\n",
    "    return weeks*SECONDS_PER_WEEK + days*SECONDS_PER_DAY\n",
    "\n",
    "def convert_to_time_delta(val):\n",
    "    res_seconds = 0\n",
    "    if \"w\" not in val.lower() and \"d\" not in val.lower():\n",
    "        # assume either \",\" or \".\" appears in string\n",
    "        if \",\" in val.lower():\n",
    "            res_seconds = convert_no_char_string_to_time_delta(val, \",\")\n",
    "        elif \".\" in val.lower():\n",
    "            res_seconds = convert_no_char_string_to_time_delta(val, \".\")\n",
    "        elif \" \" in val.lower():\n",
    "            res_seconds = convert_no_char_string_to_time_delta(val, \" \")\n",
    "        else:\n",
    "          # integer week\n",
    "          res_seconds = SECONDS_PER_WEEK*int(val.strip())\n",
    "    else:\n",
    "        res_seconds = timeparse(val)\n",
    "    return dt.timedelta(seconds = res_seconds)"
   ]
  },
  {
   "cell_type": "code",
   "execution_count": 31,
   "metadata": {},
   "outputs": [
    {
     "data": {
      "text/plain": [
       "32    3,2\n",
       "Name: birth_gestage, dtype: object"
      ]
     },
     "execution_count": 31,
     "metadata": {},
     "output_type": "execute_result"
    }
   ],
   "source": [
    "df_birth.loc[df_birth.user_id == 135]['birth_gestage']"
   ]
  },
  {
   "cell_type": "code",
   "execution_count": 61,
   "metadata": {},
   "outputs": [
    {
     "name": "stdout",
     "output_type": "stream",
     "text": [
      "66 people have reasonable birth_date and birth_gestage.\n"
     ]
    }
   ],
   "source": [
    "count_gestage = 0\n",
    "df_birth['conception_time'] = np.nan\n",
    "for user in sleep_users_list:\n",
    "    gestage = df_birth.loc[df_birth.user_id == user]['birth_gestage']\n",
    "    user_birth_df = df_birth.loc[df_birth.user_id == user]['birth_date']\n",
    "    gestage = gestage[~gestage.isnull()]\n",
    "    if len(gestage) > 0:\n",
    "        user_birth = dt.datetime.strptime(user_birth_df.iloc[0], '%Y-%m-%d')\n",
    "        gestage_timedelta = convert_to_time_delta(gestage.iloc[0])\n",
    "        if gestage_timedelta > dt.timedelta(weeks=30):\n",
    "            count_gestage += 1\n",
    "            conception_time = user_birth - gestage_timedelta + dt.timedelta(weeks=2)\n",
    "            df_birth.at[gestage.index, 'conception_time'] = conception_time\n",
    "#             print(f'user id: {user}')\n",
    "#             print(gestage.iloc[0])\n",
    "#             print(user_birth)\n",
    "#             print(user_birth - gestage_timedelta + dt.timedelta(weeks=2))\n",
    "#             print('-------------------------------------')\n",
    "print(f'{count_gestage} people have reasonable birth_date and birth_gestage.')\n"
   ]
  },
  {
   "cell_type": "code",
   "execution_count": 62,
   "metadata": {},
   "outputs": [
    {
     "data": {
      "text/plain": [
       "False"
      ]
     },
     "execution_count": 62,
     "metadata": {},
     "output_type": "execute_result"
    }
   ],
   "source": [
    "dt.datetime.strptime('1999-02-19', '%Y-%m-%d') < dt.datetime.strptime('1998-06-28', '%Y-%m-%d')"
   ]
  },
  {
   "cell_type": "code",
   "execution_count": 94,
   "metadata": {},
   "outputs": [
    {
     "name": "stdout",
     "output_type": "stream",
     "text": [
      "60\n"
     ]
    }
   ],
   "source": [
    "sleep_users_list = df_sleep.user_id.unique()\n",
    "day_num_list = []\n",
    "available_trimester_count = 0\n",
    "for sleep_user in sleep_users_list:\n",
    "    user_start_df = df_sleep.loc[df_sleep.user_id == sleep_user].sort_values(by=\"event_date\")['event_date']\n",
    "    user_conception_df = df_birth.loc[df_birth.user_id == sleep_user]['conception_time']\n",
    "    user_conception_df = user_conception_df[~user_conception_df.isnull()]\n",
    "#     print(user_start_df)\n",
    "    if len(user_conception_df) > 0:\n",
    "        conception_date = user_conception_df.iloc[0]\n",
    "        trimester_start = conception_date + dt.timedelta(weeks=22)\n",
    "        trimester_end = conception_date + dt.timedelta(weeks=26)\n",
    "        start_date = user_start_df.iloc[0]\n",
    "        end_date = user_start_df.iloc[-1]\n",
    "        start_date_object = dt.datetime.strptime(start_date, '%Y-%m-%d %H:%M:%S')\n",
    "        end_date_object = dt.datetime.strptime(end_date, '%Y-%m-%d %H:%M:%S')\n",
    "        if start_date_object <= trimester_start and end_date_object >= trimester_end:\n",
    "            available_trimester_count += 1\n",
    "print(available_trimester_count)"
   ]
  },
  {
   "cell_type": "code",
   "execution_count": 89,
   "metadata": {},
   "outputs": [],
   "source": [
    "user_id_list = df_sleep.user_id.unique()\n",
    "user_id_list.sort()"
   ]
  },
  {
   "cell_type": "code",
   "execution_count": 90,
   "metadata": {},
   "outputs": [
    {
     "data": {
      "text/plain": [
       "266"
      ]
     },
     "execution_count": 90,
     "metadata": {},
     "output_type": "execute_result"
    }
   ],
   "source": [
    "len(user_id_list)"
   ]
  },
  {
   "cell_type": "code",
   "execution_count": 22,
   "metadata": {},
   "outputs": [],
   "source": [
    "cols = [\n",
    "    \"user_id\",\n",
    "    \"hr_average\",\n",
    "    \"score\",\n",
    "    \"temperature_delta\",\n",
    "    \"date\",\n",
    "    \"peripheral_fluid\",\n",
    "    \"weight_kg\"\n",
    "]\n",
    "# univariant time series problem\n",
    "# z score normalization\n",
    "# df_sleep\n",
    "# df_bodyport\n",
    "# df_oura"
   ]
  },
  {
   "cell_type": "code",
   "execution_count": 44,
   "metadata": {},
   "outputs": [],
   "source": [
    "def get_user(user_id, state, end):\n",
    "    user_sleep = df_sleep[df_sleep.user_id == user_id].dropna()\n",
    "    user_bp = df_bodyport[df_bodyport.user_id == user_id].dropna()\n",
    "    user_walk = walk[walk.user_id == user_id].dropna()\n",
    "    user_walk = user_walk[[\"answer_text\", \"date\"]].rename(columns={\"answer_text\" : \"walk\"})\n",
    "    user_walk[\"walk\"] = user_walk[\"walk\"].astype(int)\n",
    "    user_fatigue = fatigue[fatigue.user_id == user_id].dropna()[[\"answer_text\", \"date\"]].rename(columns={\"answer_text\" : \"fatigue\"})\n",
    "    user_fatigue[\"fatigue\"] = user_fatigue[\"fatigue\"].astype(int)\n",
    "    df2 = pd.merge(user_sleep, user_bp, on=\"date\")\n",
    "    df2 = pd.merge(df2, user_fatigue, on=\"date\", how=\"outer\")\n",
    "    df2 = pd.merge(df2, user_walk, on=\"date\", how=\"outer\")\n",
    "    df2.set_index(df2[\"date\"], inplace=True)\n",
    "    df2.sort_index(inplace=True)\n",
    "    mask = pd.to_datetime(df2[\"date\"]).between(start.astype(str)[0], end.astype(str)[0], inclusive=True)\n",
    "    user_df = df2[mask]\n",
    "    return user_df\n",
    "from datetime import timedelta\n",
    "users = []\n",
    "births = []\n",
    "for user_id in df_sleep.user_id.unique():\n",
    "    birth = df_birth.loc[df_birth.user_id == user_id].reset_index()\n",
    "    birthdate = birth[\"date\"]\n",
    "    if len(birth) > 0:\n",
    "        start = birthdate - pd.to_timedelta(300, unit='d') # pd.to_timedelta(100, unit='d')\n",
    "        end = birthdate + pd.to_timedelta(0, unit='d')\n",
    "        date_range = pd.date_range(start[0], end[0]-timedelta(days=1), freq='d')\n",
    "        df = get_user(user_id, start, end)\n",
    "        dr = pd.DataFrame()\n",
    "        dr[\"d\"] = date_range.date\n",
    "        dr.set_index(dr.d, inplace=True)\n",
    "        df = dr.join(df)\n",
    "        if len(df) > 20: # If person has 20 measurements at least\n",
    "            df.set_index(df.d - df.d.min(), inplace=True)\n",
    "            df = df.resample(\"D\").mean()\n",
    "            df.set_index(df.index.days, inplace=True)\n",
    "            df = df.interpolate(\"linear\", 0)\n",
    "            users.append(df.fillna(df.mean(0)))\n",
    "            births.append(birth)"
   ]
  },
  {
   "cell_type": "code",
   "execution_count": 45,
   "metadata": {},
   "outputs": [
    {
     "data": {
      "text/plain": [
       "74"
      ]
     },
     "execution_count": 45,
     "metadata": {},
     "output_type": "execute_result"
    }
   ],
   "source": [
    "len(users)"
   ]
  },
  {
   "cell_type": "code",
   "execution_count": 34,
   "metadata": {},
   "outputs": [
    {
     "name": "stdout",
     "output_type": "stream",
     "text": [
      "Collecting ruptures\n",
      "  Downloading ruptures-1.1.6-cp36-cp36m-manylinux_2_17_x86_64.manylinux2014_x86_64.whl (995 kB)\n",
      "\u001b[K     |████████████████████████████████| 995 kB 28.5 MB/s eta 0:00:01\n",
      "\u001b[?25hRequirement already satisfied, skipping upgrade: numpy in /opt/conda/lib/python3.6/site-packages (from ruptures) (1.18.2)\n",
      "Requirement already satisfied, skipping upgrade: scipy in /opt/conda/lib/python3.6/site-packages (from ruptures) (1.4.1)\n",
      "Installing collected packages: ruptures\n",
      "Successfully installed ruptures-1.1.6\n",
      "\u001b[33mWARNING: You are using pip version 20.1; however, version 21.3.1 is available.\n",
      "You should consider upgrading via the '/opt/conda/bin/python -m pip install --upgrade pip' command.\u001b[0m\n"
     ]
    }
   ],
   "source": [
    "!pip install ruptures --upgrade --user"
   ]
  },
  {
   "cell_type": "code",
   "execution_count": 35,
   "metadata": {},
   "outputs": [
    {
     "ename": "AttributeError",
     "evalue": "module 'numpy.random' has no attribute 'default_rng'",
     "output_type": "error",
     "traceback": [
      "\u001b[0;31m---------------------------------------------------------------------------\u001b[0m",
      "\u001b[0;31mAttributeError\u001b[0m                            Traceback (most recent call last)",
      "\u001b[0;32m<ipython-input-35-33e571d02a94>\u001b[0m in \u001b[0;36m<module>\u001b[0;34m\u001b[0m\n\u001b[1;32m      5\u001b[0m \u001b[0mn_samples\u001b[0m\u001b[0;34m,\u001b[0m \u001b[0mdim\u001b[0m\u001b[0;34m,\u001b[0m \u001b[0msigma\u001b[0m \u001b[0;34m=\u001b[0m \u001b[0;36m1000\u001b[0m\u001b[0;34m,\u001b[0m \u001b[0;36m3\u001b[0m\u001b[0;34m,\u001b[0m \u001b[0;36m4\u001b[0m\u001b[0;34m\u001b[0m\u001b[0;34m\u001b[0m\u001b[0m\n\u001b[1;32m      6\u001b[0m \u001b[0mn_bkps\u001b[0m \u001b[0;34m=\u001b[0m \u001b[0;36m4\u001b[0m  \u001b[0;31m# number of breakpoints\u001b[0m\u001b[0;34m\u001b[0m\u001b[0;34m\u001b[0m\u001b[0m\n\u001b[0;32m----> 7\u001b[0;31m \u001b[0msignal\u001b[0m\u001b[0;34m,\u001b[0m \u001b[0mbkps\u001b[0m \u001b[0;34m=\u001b[0m \u001b[0mrpt\u001b[0m\u001b[0;34m.\u001b[0m\u001b[0mpw_constant\u001b[0m\u001b[0;34m(\u001b[0m\u001b[0mn_samples\u001b[0m\u001b[0;34m,\u001b[0m \u001b[0mdim\u001b[0m\u001b[0;34m,\u001b[0m \u001b[0mn_bkps\u001b[0m\u001b[0;34m,\u001b[0m \u001b[0mnoise_std\u001b[0m\u001b[0;34m=\u001b[0m\u001b[0msigma\u001b[0m\u001b[0;34m)\u001b[0m\u001b[0;34m\u001b[0m\u001b[0;34m\u001b[0m\u001b[0m\n\u001b[0m\u001b[1;32m      8\u001b[0m \u001b[0;34m\u001b[0m\u001b[0m\n\u001b[1;32m      9\u001b[0m \u001b[0;31m# detection\u001b[0m\u001b[0;34m\u001b[0m\u001b[0;34m\u001b[0m\u001b[0;34m\u001b[0m\u001b[0m\n",
      "\u001b[0;32m~/.local/lib/python3.6/site-packages/ruptures/datasets/pw_constant.py\u001b[0m in \u001b[0;36mpw_constant\u001b[0;34m(n_samples, n_features, n_bkps, noise_std, delta, seed)\u001b[0m\n\u001b[1;32m     23\u001b[0m     \"\"\"\n\u001b[1;32m     24\u001b[0m     \u001b[0;31m# breakpoints\u001b[0m\u001b[0;34m\u001b[0m\u001b[0;34m\u001b[0m\u001b[0;34m\u001b[0m\u001b[0m\n\u001b[0;32m---> 25\u001b[0;31m     \u001b[0mbkps\u001b[0m \u001b[0;34m=\u001b[0m \u001b[0mdraw_bkps\u001b[0m\u001b[0;34m(\u001b[0m\u001b[0mn_samples\u001b[0m\u001b[0;34m,\u001b[0m \u001b[0mn_bkps\u001b[0m\u001b[0;34m,\u001b[0m \u001b[0mseed\u001b[0m\u001b[0;34m=\u001b[0m\u001b[0mseed\u001b[0m\u001b[0;34m)\u001b[0m\u001b[0;34m\u001b[0m\u001b[0;34m\u001b[0m\u001b[0m\n\u001b[0m\u001b[1;32m     26\u001b[0m     \u001b[0;31m# we create the signal\u001b[0m\u001b[0;34m\u001b[0m\u001b[0;34m\u001b[0m\u001b[0;34m\u001b[0m\u001b[0m\n\u001b[1;32m     27\u001b[0m     \u001b[0msignal\u001b[0m \u001b[0;34m=\u001b[0m \u001b[0mnp\u001b[0m\u001b[0;34m.\u001b[0m\u001b[0mempty\u001b[0m\u001b[0;34m(\u001b[0m\u001b[0;34m(\u001b[0m\u001b[0mn_samples\u001b[0m\u001b[0;34m,\u001b[0m \u001b[0mn_features\u001b[0m\u001b[0;34m)\u001b[0m\u001b[0;34m,\u001b[0m \u001b[0mdtype\u001b[0m\u001b[0;34m=\u001b[0m\u001b[0mfloat\u001b[0m\u001b[0;34m)\u001b[0m\u001b[0;34m\u001b[0m\u001b[0;34m\u001b[0m\u001b[0m\n",
      "\u001b[0;32m~/.local/lib/python3.6/site-packages/ruptures/utils/drawbkps.py\u001b[0m in \u001b[0;36mdraw_bkps\u001b[0;34m(n_samples, n_bkps, seed)\u001b[0m\n\u001b[1;32m      7\u001b[0m     \"\"\"Draw a random partition with specified number of samples and specified\n\u001b[1;32m      8\u001b[0m     number of changes.\"\"\"\n\u001b[0;32m----> 9\u001b[0;31m     \u001b[0mrng\u001b[0m \u001b[0;34m=\u001b[0m \u001b[0mnp\u001b[0m\u001b[0;34m.\u001b[0m\u001b[0mrandom\u001b[0m\u001b[0;34m.\u001b[0m\u001b[0mdefault_rng\u001b[0m\u001b[0;34m(\u001b[0m\u001b[0mseed\u001b[0m\u001b[0;34m=\u001b[0m\u001b[0mseed\u001b[0m\u001b[0;34m)\u001b[0m\u001b[0;34m\u001b[0m\u001b[0;34m\u001b[0m\u001b[0m\n\u001b[0m\u001b[1;32m     10\u001b[0m     \u001b[0malpha\u001b[0m \u001b[0;34m=\u001b[0m \u001b[0mnp\u001b[0m\u001b[0;34m.\u001b[0m\u001b[0mones\u001b[0m\u001b[0;34m(\u001b[0m\u001b[0mn_bkps\u001b[0m \u001b[0;34m+\u001b[0m \u001b[0;36m1\u001b[0m\u001b[0;34m)\u001b[0m \u001b[0;34m/\u001b[0m \u001b[0;34m(\u001b[0m\u001b[0mn_bkps\u001b[0m \u001b[0;34m+\u001b[0m \u001b[0;36m1\u001b[0m\u001b[0;34m)\u001b[0m \u001b[0;34m*\u001b[0m \u001b[0;36m2000\u001b[0m\u001b[0;34m\u001b[0m\u001b[0;34m\u001b[0m\u001b[0m\n\u001b[1;32m     11\u001b[0m     \u001b[0mbkps\u001b[0m \u001b[0;34m=\u001b[0m \u001b[0mnp\u001b[0m\u001b[0;34m.\u001b[0m\u001b[0mcumsum\u001b[0m\u001b[0;34m(\u001b[0m\u001b[0mrng\u001b[0m\u001b[0;34m.\u001b[0m\u001b[0mdirichlet\u001b[0m\u001b[0;34m(\u001b[0m\u001b[0malpha\u001b[0m\u001b[0;34m)\u001b[0m \u001b[0;34m*\u001b[0m \u001b[0mn_samples\u001b[0m\u001b[0;34m)\u001b[0m\u001b[0;34m.\u001b[0m\u001b[0mastype\u001b[0m\u001b[0;34m(\u001b[0m\u001b[0mint\u001b[0m\u001b[0;34m)\u001b[0m\u001b[0;34m.\u001b[0m\u001b[0mtolist\u001b[0m\u001b[0;34m(\u001b[0m\u001b[0;34m)\u001b[0m\u001b[0;34m\u001b[0m\u001b[0;34m\u001b[0m\u001b[0m\n",
      "\u001b[0;31mAttributeError\u001b[0m: module 'numpy.random' has no attribute 'default_rng'"
     ]
    }
   ],
   "source": [
    "import matplotlib.pyplot as plt\n",
    "import ruptures as rpt\n",
    "\n",
    "# generate signal\n",
    "n_samples, dim, sigma = 1000, 3, 4\n",
    "n_bkps = 4  # number of breakpoints\n",
    "signal, bkps = rpt.pw_constant(n_samples, dim, n_bkps, noise_std=sigma)\n",
    "\n",
    "# detection\n",
    "algo = rpt.Pelt(model=\"rbf\").fit(signal)\n",
    "result = algo.predict(pen=10)\n",
    "\n",
    "# display\n",
    "rpt.display(signal, bkps, result)\n",
    "plt.show()"
   ]
  },
  {
   "cell_type": "code",
   "execution_count": null,
   "metadata": {},
   "outputs": [],
   "source": []
  }
 ],
 "metadata": {
  "kernelspec": {
   "display_name": "Python 3",
   "language": "python",
   "name": "python3"
  },
  "language_info": {
   "codemirror_mode": {
    "name": "ipython",
    "version": 3
   },
   "file_extension": ".py",
   "mimetype": "text/x-python",
   "name": "python",
   "nbconvert_exporter": "python",
   "pygments_lexer": "ipython3",
   "version": "3.6.10"
  }
 },
 "nbformat": 4,
 "nbformat_minor": 4
}
