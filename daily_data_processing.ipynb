{
 "cells": [
  {
   "cell_type": "code",
   "execution_count": 3,
   "metadata": {},
   "outputs": [],
   "source": [
    "from src.utils import data_load\n",
    "import pandas as pd\n",
    "import matplotlib.pyplot as plt\n",
    "from src.s3_utils import pandas_from_csv_s3\n",
    "import re\n",
    "import datetime\n",
    "import seaborn as sns\n",
    "import numpy as np\n",
    "from collections import defaultdict\n",
    "import os\n",
    "import pickle\n",
    "import json\n",
    "import math\n",
    "import random\n",
    "random.seed(0)\n",
    "np.random.seed(0)"
   ]
  },
  {
   "cell_type": "code",
   "execution_count": 4,
   "metadata": {},
   "outputs": [],
   "source": [
    "keys = {'oura_sleep', 'oura_activity', 'birth'}\n",
    "data = data_load(data_keys=keys, wave=5)"
   ]
  },
  {
   "cell_type": "code",
   "execution_count": 7,
   "metadata": {},
   "outputs": [],
   "source": [
    "oura_sleep_list = ['hr_lowest', 'hr_average', 'rmssd', 'deep', 'light', 'awake', 'rem']\n",
    "oura_activity_list = ['high', 'medium', 'low', 'inactive', 'rest', 'met_min_inactive', 'met_min_low', 'met_min_medium', 'met_min_high', 'average_met']\n",
    "birth_list = ['user_id', 'birth_date', 'birth_scheduled', 'birth_gestage']"
   ]
  },
  {
   "cell_type": "code",
   "execution_count": 8,
   "metadata": {},
   "outputs": [],
   "source": [
    "oura_df = data['oura_sleep'][['user_id', 'date'] + oura_sleep_list]\n",
    "oura_activity = data['oura_activity'][['user_id', 'date'] + oura_activity_list]\n",
    "oura_df = pd.merge(oura_df, oura_activity, on=['user_id', 'date'], how='inner')\n",
    "oura_df['date'] = pd.to_datetime(oura_df['date'])\n",
    "birth_df = data['birth'][birth_list]\n",
    "birth_df['birth_date'] = pd.to_datetime(birth_df['birth_date'])"
   ]
  },
  {
   "cell_type": "code",
   "execution_count": 9,
   "metadata": {},
   "outputs": [
    {
     "output_type": "execute_result",
     "data": {
      "text/plain": "Index(['id', 'user_id', 'identity_id', 'created_at', 'updated_at',\n       'retrieved_at', 'subsource', 'event_date', 'awake', 'bedtime_end',\n       'bedtime_end_delta', 'bedtime_start', 'bedtime_start_delta',\n       'breath_average', 'deep', 'duration', 'efficiency', 'hr_5min',\n       'hr_average', 'hr_lowest', 'hypnogram_5min', 'is_longest', 'light',\n       'midpoint_at_delta', 'midpoint_time', 'onset_latency', 'period_id',\n       'rem', 'restless', 'rmssd', 'rmssd_5min', 'score', 'score_alignment',\n       'score_deep', 'score_disturbances', 'score_efficiency', 'score_latency',\n       'score_rem', 'score_total', 'temperature_delta',\n       'temperature_deviation', 'temperature_trend_deviation', 'timezone',\n       'total', 'date'],\n      dtype='object')"
     },
     "metadata": {},
     "execution_count": 9
    }
   ],
   "source": [
    "data['oura_sleep'].columns"
   ]
  },
  {
   "cell_type": "code",
   "execution_count": 31,
   "metadata": {},
   "outputs": [],
   "source": [
    "clean_positive_data = defaultdict(list,{ k:[] for k in oura_sleep_list + oura_activity_list + ['user_id', 'start_date'] })\n",
    "delta = 3\n",
    "start = 5\n",
    "for uid in birth_df['user_id'].unique():\n",
    "    df = oura_df.loc[oura_df['user_id'] == uid].sort_values(by='date')\n",
    "    if len(df) > 0:\n",
    "        for slide_i in range(start - delta + 1):\n",
    "            birth_date = birth_df.loc[birth_df['user_id'] == uid]['birth_date'].tolist()[0]\n",
    "            start_date = birth_date + pd.to_timedelta(-start + slide_i + 1, unit='d')\n",
    "            end_date = start_date + pd.to_timedelta(delta, unit='d')\n",
    "            each_df = df[(df['date'] >= start_date) & (df['date'] < end_date)]\n",
    "            if len(each_df) == delta:   \n",
    "                each_df = each_df.dropna()\n",
    "                if len(each_df) == delta:\n",
    "                    clean_positive_data['user_id'].append(int(uid))   \n",
    "                    clean_positive_data['start_date'].append((birth_date - start_date).days)\n",
    "                    for col in oura_sleep_list + oura_activity_list:\n",
    "                        clean_positive_data[col].append(np.array(each_df[col].tolist()))"
   ]
  },
  {
   "cell_type": "code",
   "execution_count": 32,
   "metadata": {},
   "outputs": [
    {
     "output_type": "stream",
     "name": "stdout",
     "text": "282 136\n"
    }
   ],
   "source": [
    "print(len(clean_positive_data['user_id']), len(set(clean_positive_data['user_id'])))"
   ]
  },
  {
   "cell_type": "code",
   "execution_count": 35,
   "metadata": {},
   "outputs": [
    {
     "output_type": "execute_result",
     "data": {
      "text/plain": "array([72.79, 73.41, 68.65])"
     },
     "metadata": {},
     "execution_count": 35
    }
   ],
   "source": [
    "clean_positive_data['hr_average'][0]"
   ]
  },
  {
   "cell_type": "code",
   "execution_count": 36,
   "metadata": {},
   "outputs": [],
   "source": [
    "def random_pick(start_date, end_date, duration):\n",
    "    time_between_dates = end_date - start_date\n",
    "    days_between_dates = time_between_dates.days\n",
    "    random_number_of_days = random.randrange(days_between_dates)\n",
    "    random_date = start_date + datetime.timedelta(days=random_number_of_days)\n",
    "\n",
    "    return [random_date, random_date + datetime.timedelta(days=duration)]"
   ]
  },
  {
   "cell_type": "code",
   "execution_count": 37,
   "metadata": {},
   "outputs": [
    {
     "output_type": "execute_result",
     "data": {
      "text/plain": "['hr_lowest',\n 'hr_average',\n 'rmssd',\n 'deep',\n 'light',\n 'awake',\n 'rem',\n 'high',\n 'medium',\n 'low',\n 'inactive',\n 'rest',\n 'met_min_inactive',\n 'met_min_low',\n 'met_min_medium',\n 'met_min_high',\n 'average_met']"
     },
     "metadata": {},
     "execution_count": 37
    }
   ],
   "source": [
    "oura_sleep_list + oura_activity_list"
   ]
  },
  {
   "cell_type": "code",
   "execution_count": 64,
   "metadata": {},
   "outputs": [],
   "source": [
    "clean_negative_data_same = defaultdict(list,{ k:[] for k in oura_sleep_list + oura_activity_list + ['user_id'] })\n",
    "for uid in set(clean_positive_data['user_id']):\n",
    "    df = oura_df.loc[oura_df['user_id'] == uid].sort_values(by='date')\n",
    "    if len(df) > 0:\n",
    "        birth_date = birth_df.loc[birth_df['user_id'] == uid]['birth_date'].tolist()[0]\n",
    "        end_date = birth_date + pd.to_timedelta(-start, unit='d')\n",
    "\n",
    "        # start_date = df['date'].min()\n",
    "        start_date = end_date + pd.to_timedelta(-30, unit='d')\n",
    "        \n",
    "        for count in range(1000):\n",
    "            random_days = random_pick(start_date, end_date, delta)\n",
    "            each_df = df[(df['date'] >= random_days[0]) & (df['date'] < random_days[1])]\n",
    "            if len(each_df) >= delta:\n",
    "                each_df = each_df.dropna()\n",
    "                if len(each_df) == delta:\n",
    "                    clean_negative_data_same['user_id'].append(int(uid))   \n",
    "                    clean_negative_data_same['start_date'].append((birth_date - random_days[0]).days)\n",
    "                    for col in oura_sleep_list + oura_activity_list:\n",
    "                        clean_negative_data_same[col].append(np.array(each_df[col].tolist()))\n",
    "                    break\n",
    "            else:\n",
    "                continue"
   ]
  },
  {
   "cell_type": "code",
   "execution_count": 65,
   "metadata": {},
   "outputs": [],
   "source": [
    "clean_negative_data_diff = defaultdict(list,{ k:[] for k in oura_sleep_list + oura_activity_list + ['user_id'] })\n",
    "for uid in birth_df['user_id'].unique():\n",
    "    if uid not in clean_positive_data['user_id']:\n",
    "        df = oura_df.loc[oura_df['user_id'] == uid].sort_values(by='date')\n",
    "        if len(df) > 0:\n",
    "            birth_date = birth_df.loc[birth_df['user_id'] == uid]['birth_date'].tolist()[0]\n",
    "            end_date = birth_date + pd.to_timedelta(-start, unit='d')\n",
    "\n",
    "            # start_date = df['date'].min()\n",
    "            start_date = end_date + pd.to_timedelta(-30, unit='d')\n",
    "\n",
    "            if start_date < end_date:\n",
    "                for count in range(1000):  \n",
    "                    random_days = random_pick(start_date, end_date, delta)\n",
    "                    each_df = df[(df['date'] >= random_days[0]) & (df['date'] < random_days[1])]\n",
    "                    if len(each_df) >= delta:\n",
    "                        each_df = each_df.dropna()\n",
    "                        if len(each_df) == delta:\n",
    "                            clean_negative_data_diff['user_id'].append(int(uid))   \n",
    "                            clean_negative_data_diff['start_date'].append((birth_date - random_days[0]).days)\n",
    "                            for col in oura_sleep_list + oura_activity_list:\n",
    "                                clean_negative_data_diff[col].append(np.array(each_df[col].tolist()))\n",
    "                            break\n",
    "                    else:\n",
    "                        continue\n",
    "            else:\n",
    "                print(start_date, end_date, birth_date, uid)"
   ]
  },
  {
   "cell_type": "code",
   "execution_count": 66,
   "metadata": {},
   "outputs": [
    {
     "output_type": "stream",
     "name": "stdout",
     "text": "3\n3\n3\n"
    }
   ],
   "source": [
    "print(len(clean_negative_data_same['hr_average'][0]))\n",
    "print(len(clean_negative_data_diff['hr_average'][0]))\n",
    "print(len(clean_positive_data['hr_average'][0]))"
   ]
  },
  {
   "cell_type": "code",
   "execution_count": 67,
   "metadata": {},
   "outputs": [],
   "source": [
    "clean_positive_data['user_id'] = np.array(clean_positive_data['user_id'])\n",
    "clean_negative_data_diff['user_id'] = np.array(clean_negative_data_diff['user_id'])\n",
    "clean_negative_data_same['user_id'] = np.array(clean_negative_data_same['user_id'])"
   ]
  },
  {
   "cell_type": "code",
   "execution_count": 68,
   "metadata": {},
   "outputs": [
    {
     "output_type": "execute_result",
     "data": {
      "text/plain": "array([  29,   30,   30,   30,   37,   39,   39,   39,   42,   42,   45,\n         53,   55,   55,   62,   62,   64,   64,   66,   66,   67,   67,\n         67,   74,   74,   95,   95,   99,   99,  122,  122,  137,  137,\n        158,  159,  168,  168, 1000, 1000, 1000, 1400, 1400,  173,  173,\n        174,  185,  186,  186, 1035,  190,  192,  192,  192,  193,  199,\n        200,  200, 1021, 1021,  976,  976,  972,  972, 1724, 1724, 1724,\n       1004, 1004,  234,  975,  975,  975,  289,  289,  290,  404,  404,\n        404,  407,  407,  407,  408,  408,  410,  977,  977,  977, 1047,\n       1047,  428,  428,  428,  429,  980,  980,  980,  581,  581,  603,\n        603,  603,  604,  604,  604, 1032, 1032,  615,  615,  615,  734,\n       1658, 1658, 1723, 1723,  983,  983,  983, 1659,  969,  989,  989,\n        991,  991,  991,  992,  992, 1374, 1374,  997, 1005, 1005, 1023,\n       1023, 1023, 1024, 1024, 1041, 1041, 1403, 1403, 1037, 1037, 1038,\n       1038, 1044, 1044, 1369, 1370, 1370, 1759, 1378, 1378, 1378, 2083,\n       2083, 1391, 1391, 1386, 1386, 1386, 1389, 1389, 2080, 2080, 2080,\n       1425, 1425, 1425, 1426, 1426, 1427, 1427, 1427, 2034, 2034, 1443,\n       1443, 1443, 1696, 1453, 1453, 1708, 1708, 1708, 1712, 1712, 1712,\n       1716, 1716, 1716, 1717, 1717, 1743, 1743, 1744, 1745, 1745, 1747,\n       1747, 1747, 1750, 1750, 2091, 1976, 1976, 1985, 1985, 1988, 1989,\n       1989, 1989, 1993, 1993, 1993, 1994, 1994, 1999, 1999, 2001, 2001,\n       2001, 2014, 2014, 2015, 2015, 2015, 2130, 2038, 2038, 2038, 2032,\n       2032, 2041, 2041, 2056, 2056, 2056, 2058, 2058, 2058, 2061, 2065,\n       2065, 2065, 2066, 2066, 2066, 2067, 2076, 2076, 2084, 2084, 2084,\n       2085, 2100, 2100, 2102, 2102, 2103, 2109, 2109, 2134, 2134, 2134,\n       2142, 2142, 2158, 2159, 2159, 2159, 2160, 2160, 2169, 2169, 2170,\n       2170, 2170, 2174, 2174, 2174, 2171, 2171])"
     },
     "metadata": {},
     "execution_count": 68
    }
   ],
   "source": [
    "clean_positive_data['user_id']"
   ]
  },
  {
   "cell_type": "code",
   "execution_count": 69,
   "metadata": {},
   "outputs": [
    {
     "output_type": "execute_result",
     "data": {
      "text/plain": "(array([1, 2, 3]),)"
     },
     "metadata": {},
     "execution_count": 69
    }
   ],
   "source": [
    "np.where(clean_positive_data['user_id']==30)"
   ]
  },
  {
   "cell_type": "code",
   "execution_count": 70,
   "metadata": {},
   "outputs": [],
   "source": [
    "train = {'X': [], 'y': [], 'uid': [], 'start_date': [], 'feature_name': []}\n",
    "test = {'X': [], 'y': [], 'uid': [], 'start_date': [], 'feature_name': []}\n",
    "\n",
    "both_users = list(set(clean_positive_data['user_id']))\n",
    "random_seeds = list(range(len(both_users)))\n",
    "positive_len = int(len(both_users) * 0.8)\n",
    "random.shuffle(random_seeds)\n",
    "train_ids = list(np.array(both_users)[random_seeds[:positive_len]]) # user ids of training \n",
    "test_ids = list(np.array(both_users)[random_seeds[positive_len:]]) # user ids of testing\n",
    "train_indices_pos = []\n",
    "train_indices_neg_same = []\n",
    "train_indices_neg_diff = []\n",
    "test_indices_pos = []\n",
    "test_indices_neg_same = []\n",
    "test_indices_neg_diff = []\n",
    "for x in train_ids:\n",
    "    train_indices_pos.extend(np.where(clean_positive_data['user_id']==x)[0].tolist())\n",
    "    train_indices_neg_same.extend(np.where(clean_negative_data_same['user_id']==x)[0].tolist())\n",
    "for x in test_ids:\n",
    "    test_indices_pos.extend(np.where(clean_positive_data['user_id']==x)[0].tolist())\n",
    "    test_indices_neg_same.extend(np.where(clean_negative_data_same['user_id']==x)[0].tolist())\n",
    "\n",
    "for i in range(len(train_indices_neg_same)):\n",
    "    x_processed = []\n",
    "    for feature in oura_activity_list + oura_sleep_list:\n",
    "        x_processed.append(clean_negative_data_same[feature][i])\n",
    "    train['X'].append(np.vstack(x_processed))\n",
    "    train['y'].append(0)\n",
    "    train['uid'].append(clean_negative_data_same['user_id'][i])\n",
    "    train['start_date'].append(clean_negative_data_same['start_date'][i])\n",
    "\n",
    "for i in range(len(train_indices_pos)):\n",
    "    x_processed = []\n",
    "    for feature in oura_activity_list + oura_sleep_list:\n",
    "        x_processed.append(clean_positive_data[feature][i])\n",
    "    train['X'].append(np.vstack(x_processed))\n",
    "    train['y'].append(1)\n",
    "    train['uid'].append(clean_positive_data['user_id'][i])\n",
    "    train['start_date'].append(clean_positive_data['start_date'][i])\n",
    "\n",
    "for i in range(len(test_indices_neg_same)):\n",
    "    x_processed = []\n",
    "    for feature in oura_activity_list + oura_sleep_list:\n",
    "        x_processed.append(clean_negative_data_same[feature][i])\n",
    "    test['X'].append(np.vstack(x_processed))\n",
    "    if np.isnan(test['X'][-1]).any():\n",
    "        print(np.isnan(test['X'][-1]).any(), clean_negative_data_same['user_id'][i])\n",
    "    test['y'].append(0)\n",
    "    test['uid'].append(clean_negative_data_same['user_id'][i])\n",
    "    test['start_date'].append(clean_negative_data_same['start_date'][i])\n",
    "\n",
    "for i in range(len(test_indices_pos)):\n",
    "    x_processed = []\n",
    "    for feature in oura_activity_list + oura_sleep_list:\n",
    "        x_processed.append(clean_positive_data[feature][i])\n",
    "    test['X'].append(np.vstack(x_processed))\n",
    "    test['y'].append(1)\n",
    "    test['uid'].append(clean_positive_data['user_id'][i])\n",
    "    test['start_date'].append(clean_positive_data['start_date'][i])"
   ]
  },
  {
   "cell_type": "code",
   "execution_count": 71,
   "metadata": {},
   "outputs": [],
   "source": [
    "only_neg_users = clean_negative_data_diff['user_id']\n",
    "negative_len = int(len(only_neg_users) * 0.8)\n",
    "random.shuffle(only_neg_users)\n",
    "for i in range(len(only_neg_users)):\n",
    "    x_processed = []\n",
    "    for feature in oura_activity_list + oura_sleep_list:\n",
    "        x_processed.append(clean_negative_data_diff[feature][i])\n",
    "    if i < negative_len:\n",
    "        train['X'].append(x_processed)\n",
    "        train['y'].append(0)\n",
    "        train['uid'].append(only_neg_users[i])\n",
    "        train['start_date'].append(clean_negative_data_diff['start_date'][i])\n",
    "    else:\n",
    "        test['X'].append(x_processed)\n",
    "        test['y'].append(0)\n",
    "        test['uid'].append(only_neg_users[i])\n",
    "        test['start_date'].append(clean_negative_data_diff['start_date'][i])\n",
    "\n",
    "train['feature_name'] = ['hr_5min', 'rmssd_5min', 'hypnogram_5min', 'class_5min', 'met_5min']\n",
    "test['feature_name'] = ['hr_5min', 'rmssd_5min', 'hypnogram_5min', 'class_5min', 'met_5min']"
   ]
  },
  {
   "cell_type": "code",
   "execution_count": 72,
   "metadata": {},
   "outputs": [],
   "source": [
    "train['X'] = np.stack(train['X'])\n",
    "test['X'] = np.stack(test['X'])"
   ]
  },
  {
   "cell_type": "code",
   "execution_count": 73,
   "metadata": {},
   "outputs": [
    {
     "output_type": "execute_result",
     "data": {
      "text/plain": "395"
     },
     "metadata": {},
     "execution_count": 73
    }
   ],
   "source": [
    "len(train['start_date'])"
   ]
  },
  {
   "cell_type": "code",
   "execution_count": 74,
   "metadata": {},
   "outputs": [
    {
     "output_type": "execute_result",
     "data": {
      "text/plain": "(395, 17, 3)"
     },
     "metadata": {},
     "execution_count": 74
    }
   ],
   "source": [
    "train['X'].shape"
   ]
  },
  {
   "cell_type": "code",
   "execution_count": 75,
   "metadata": {},
   "outputs": [],
   "source": [
    "with open('data/daily/train_month.pickle', 'wb') as handle:\n",
    "    pickle.dump(train, handle)\n",
    "with open('data/daily/test_month.pickle', 'wb') as handle:\n",
    "    pickle.dump(test, handle)"
   ]
  },
  {
   "cell_type": "code",
   "execution_count": null,
   "metadata": {},
   "outputs": [],
   "source": []
  }
 ],
 "metadata": {
  "language_info": {
   "codemirror_mode": {
    "name": "ipython",
    "version": 3
   },
   "file_extension": ".py",
   "mimetype": "text/x-python",
   "name": "python",
   "nbconvert_exporter": "python",
   "pygments_lexer": "ipython3",
   "version": "3.9.16-final"
  },
  "orig_nbformat": 2,
  "kernelspec": {
   "name": "python391664bitmyenvcondac91407650cb346e5ae08b4a0d62a0b53",
   "display_name": "Python 3.9.16 64-bit ('myenv': conda)"
  }
 },
 "nbformat": 4,
 "nbformat_minor": 2
}